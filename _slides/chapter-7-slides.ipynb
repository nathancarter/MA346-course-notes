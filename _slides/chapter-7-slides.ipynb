{
 "cells": [
  {
   "cell_type": "markdown",
   "metadata": {
    "slideshow": {
     "slide_type": "slide"
    }
   },
   "source": [
    "# Chapter 7 - Abstraction\n",
    "\n",
    "[See also the corresponding course notes, here.](../_build/html/chapter-7-abstraction.html)\n",
    "\n",
    "[View a printable version of these slides here.](./chapter-7-slides-printable.html)\n"
   ]
  },
  {
   "cell_type": "markdown",
   "metadata": {
    "slideshow": {
     "slide_type": "slide"
    }
   },
   "source": [
    "## Abstract/concrete spectrum\n",
    "\n",
    "&nbsp;\n",
    "\n",
    "$$ \\text{Concrete (or specific)} ~ ~ \\longleftrightarrow ~ ~ \\text{Abstract (or general)} $$\n",
    "\n",
    "&nbsp;\n",
    "\n",
    "*Abstraction* means moving $\\to$rightward$\\to$ on the spectrum.\n",
    "\n",
    "*Generalization* is another word for the same thing."
   ]
  },
  {
   "cell_type": "markdown",
   "metadata": {
    "slideshow": {
     "slide_type": "slide"
    }
   },
   "source": [
    "## Example of generalization in a mathematical formula\n",
    "\n",
    "**Specific:**\n",
    "\n",
    "If it's $50^\\circ$F outside, we can convert it $\\frac59(50-32)=\\frac59(18)=10$ and find that it's $10^\\circ$C outside."
   ]
  },
  {
   "cell_type": "markdown",
   "metadata": {
    "slideshow": {
     "slide_type": "fragment"
    }
   },
   "source": [
    "(Abstraction/generalization: Replace the specific constant 50 with a variable that could stand for any temperature.)"
   ]
  },
  {
   "cell_type": "markdown",
   "metadata": {
    "slideshow": {
     "slide_type": "fragment"
    }
   },
   "source": [
    "**General:**\n",
    "\n",
    "Any temperature can be converted from degrees Fahrenheit to degrees Celsius using $C=\\frac59(F-32)$."
   ]
  },
  {
   "cell_type": "markdown",
   "metadata": {
    "slideshow": {
     "slide_type": "slide"
    }
   },
   "source": [
    "## Example of generalization in programming\n",
    "\n",
    "Non-generalized code, converting columns of currencies from text to float:\n",
    "\n",
    "```python\n",
    "df['Tuition'] = df['Tuition'].str.replace( \"$\", \"\" )\n",
    "df['Tuition'] = df['Tuition'].str.replace( \",\", \"\" )\n",
    "df['Tuition'] = df['Tuition'].astype( float )\n",
    "df['Fees'] = df['Fees'].str.replace( \"$\", \"\" )\n",
    "df['Fees'] = df['Fees'].str.replace( \",\", \"\" )\n",
    "df['Fees'] = df['Fees'].astype( float )\n",
    "df['Books'] = df['Books'].str.replace( \"$\", \"\" )\n",
    "df['Books'] = df['Books'].str.replace( \",\", \"\" )\n",
    "df['Books'] = df['Books'].astype( float )\n",
    "df['Room and board'] = df['Room and board'].str.replace( \"$\", \"\" )\n",
    "df['Room and board'] = df['Room and board'].str.replace( \",\", \"\" )\n",
    "df['Room and board'] = df['Room and board'].astype( float )\n",
    "```"
   ]
  },
  {
   "cell_type": "markdown",
   "metadata": {
    "slideshow": {
     "slide_type": "slide"
    }
   },
   "source": [
    "## Example of generalization in programming\n",
    "\n",
    "Highlighting the repetition:\n",
    "\n",
    "```python\n",
    "df['Tuition'       ] = df['Tuition'       ].str.replace( \"$\", \"\" )\n",
    "df['Tuition'       ] = df['Tuition'       ].str.replace( \",\", \"\" )\n",
    "df['Tuition'       ] = df['Tuition'       ].astype( float )\n",
    "\n",
    "df['Fees'          ] = df['Fees'          ].str.replace( \"$\", \"\" )\n",
    "df['Fees'          ] = df['Fees'          ].str.replace( \",\", \"\" )\n",
    "df['Fees'          ] = df['Fees'          ].astype( float )\n",
    "\n",
    "df['Books'         ] = df['Books'         ].str.replace( \"$\", \"\" )\n",
    "df['Books'         ] = df['Books'         ].str.replace( \",\", \"\" )\n",
    "df['Books'         ] = df['Books'         ].astype( float )\n",
    "\n",
    "df['Room and board'] = df['Room and board'].str.replace( \"$\", \"\" )\n",
    "df['Room and board'] = df['Room and board'].str.replace( \",\", \"\" )\n",
    "df['Room and board'] = df['Room and board'].astype( float )\n",
    "```"
   ]
  },
  {
   "cell_type": "markdown",
   "metadata": {
    "slideshow": {
     "slide_type": "slide"
    }
   },
   "source": [
    "## Example of generalization in programming\n",
    "\n",
    "Creating a variable for what's changing really highlights the repetition:\n",
    "\n",
    "```python\n",
    "column = 'Tuition'\n",
    "df[column] = df[column].str.replace( \"$\", \"\" )\n",
    "df[column] = df[column].str.replace( \",\", \"\" )\n",
    "df[column] = df[column].astype( float )\n",
    "column = 'Fees'\n",
    "df[column] = df[column].str.replace( \"$\", \"\" )\n",
    "df[column] = df[column].str.replace( \",\", \"\" )\n",
    "df[column] = df[column].astype( float )\n",
    "column = 'Books'\n",
    "df[column] = df[column].str.replace( \"$\", \"\" )\n",
    "df[column] = df[column].str.replace( \",\", \"\" )\n",
    "df[column] = df[column].astype( float )\n",
    "column = 'Room and board'\n",
    "df[column] = df[column].str.replace( \"$\", \"\" )\n",
    "df[column] = df[column].str.replace( \",\", \"\" )\n",
    "df[column] = df[column].astype( float )\n",
    "```"
   ]
  },
  {
   "cell_type": "markdown",
   "metadata": {
    "slideshow": {
     "slide_type": "slide"
    }
   },
   "source": [
    "## Example of generalization in programming\n",
    "\n",
    "Use that variable to create a function and call it as many times as needed:\n",
    "\n",
    "```python\n",
    "def simplify_currency ( column ):\n",
    "    df[column] = df[column].str.replace( \"$\", \"\" )\n",
    "    df[column] = df[column].str.replace( \",\", \"\" )\n",
    "    df[column] = df[column].astype( float )\n",
    "\n",
    "simplify_currency( 'Tuition' )\n",
    "simplify_currency( 'Fees' )\n",
    "simplify_currency( 'Books' )\n",
    "simplify_currency( 'Room and board' )\n",
    "```"
   ]
  },
  {
   "cell_type": "markdown",
   "metadata": {
    "slideshow": {
     "slide_type": "slide"
    }
   },
   "source": [
    "## Benefits of abstraction\n",
    "\n",
    " 1. Decrease in total number of lines of code *and* size of many lines, and so it's much more readable.\n",
    " 2. What the code is doing is clearer, because we've given it a name (in this case, `simplify_currency`).\n",
    " 3. It isn't always obvious in the original version that there is repetition of the same procedure three times.  In the new version, the repetition is obvious.\n",
    " 4. If you later need to change how you simplify currency, you have to make that change in only one place (inside the function).  Before, you would have had to make the same change four times.\n",
    " 5. Also, if you tried to make a change to the code later, but accidentally missed changing one of the four, you'd have broken code and not realize it.\n",
    " 6. You could share this same function to other notebooks or with other coders if needed."
   ]
  },
  {
   "cell_type": "markdown",
   "metadata": {
    "slideshow": {
     "slide_type": "slide"
    }
   },
   "source": [
    "## Learn this reflex\n",
    "\n",
    "&nbsp;\n",
    "\n",
    "$$ \\text{When I want to copy-and-paste code...} $$\n",
    "\n",
    "$$ \\downarrow $$\n",
    "\n",
    "$$ \\text{...instead I will create a function.} $$"
   ]
  },
  {
   "cell_type": "markdown",
   "metadata": {
    "slideshow": {
     "slide_type": "slide"
    }
   },
   "source": [
    "## Second example of generalization in programming\n",
    "\n",
    "As an alternative to the first example, you could create a loop instead:\n",
    "\n",
    "```python\n",
    "for column in [ 'Tuition', 'Fees', 'Books', 'Room and board' ]:\n",
    "    df[column] = df[column].str.replace( \"$\", \"\" )\n",
    "    df[column] = df[column].str.replace( \",\", \"\" )\n",
    "    df[column] = df[column].astype( float )\n",
    "```"
   ]
  },
  {
   "cell_type": "markdown",
   "metadata": {
    "slideshow": {
     "slide_type": "slide"
    }
   },
   "source": [
    "## Second example of generalization in programming\n",
    "\n",
    "Or you could create both a loop and a function:\n",
    "\n",
    "```python\n",
    "def simplify_currency ( columns ):\n",
    "    df[column] = df[column].str.replace( \"$\", \"\" )\n",
    "    df[column] = df[column].str.replace( \",\", \"\" )\n",
    "    df[column] = df[column].astype( float )\n",
    "\n",
    "for column in [ 'Tuition', 'Fees', 'Books', 'Room and board' ]:\n",
    "    simplify_currency( column )\n",
    "```"
   ]
  },
  {
   "cell_type": "markdown",
   "metadata": {
    "slideshow": {
     "slide_type": "slide"
    }
   },
   "source": [
    "## Second example of generalization in programming\n",
    "\n",
    "And if there had been too many columns to fit on one line, then:\n",
    "\n",
    "```python\n",
    "def simplify_currency ( columns ):\n",
    "    df[column] = df[column].str.replace( \"$\", \"\" )\n",
    "    df[column] = df[column].str.replace( \",\", \"\" )\n",
    "    df[column] = df[column].astype( float )\n",
    "\n",
    "columns_to_simplify = [\n",
    "    'Tuition',\n",
    "    'Fees',\n",
    "    'Books',\n",
    "    'Room and board'\n",
    "    # add as many as needed\n",
    "]\n",
    "\n",
    "for column in columns_to_simplify:\n",
    "    simplify_currency( column )\n",
    "```"
   ]
  },
  {
   "cell_type": "markdown",
   "metadata": {
    "slideshow": {
     "slide_type": "slide"
    }
   },
   "source": [
    "## Exercise 1\n",
    "\n",
    "Examine the file `in-class-exercise-1.ipynb` your instructor will provide, together with the corresponding dataset of baseball statistics, `player-batting-2015.csv`.\n",
    "\n",
    " 1. Run the entire notebook to be sure that it succeeds, including finding the input dataset and producing a cleaned version as output.\n",
    " 2. Could any code in that file benefit from abstraction?\n",
    " 3. Introduce the necessary abstraction to improve the code.\n",
    " 4. Ensure the file still runs.  (You should probably delete the cleaned version of the data before re-running, to be sure that the notebook still creates the cleaned version successfully.)"
   ]
  },
  {
   "cell_type": "markdown",
   "metadata": {
    "slideshow": {
     "slide_type": "slide"
    }
   },
   "source": [
    "## Exercise 2\n",
    "\n",
    "Examine the file `in-class-exercise-2.ipynb` your instructor will provide, which will read the cleaned dataset produced when you ran `in-class-exercise-1.ipynb`.\n",
    "\n",
    " 1. Run the entire notebook to be sure that it succeeds, including finding the input dataset and producing a folder of images as output.\n",
    " 1. Could any code in that file benefit from abstraction?\n",
    " 2. Introduce the necessary abstraction to improve the code.\n",
    " 3. Ensure the file still runs.  (You should probably delete the folder of images before re-running, to be sure that the notebook still creates them successfully.)"
   ]
  },
  {
   "cell_type": "markdown",
   "metadata": {
    "slideshow": {
     "slide_type": "slide"
    }
   },
   "source": [
    "## Exercise 3\n",
    "\n",
    "The homework assignment you turned in today required documenting some code that does several things, including (a) creating a pair of overlapping histograms for two subsamples, (b) computing the mean of those two subsamples, and (c) performing a hypothesis test on those two subsamples.\n",
    "\n",
    "But what if we wanted to perform the same test on subsamples other than just high/low minority percent areas, as that notebook did?\n",
    " \n",
    "(continued on next slide)"
   ]
  },
  {
   "cell_type": "markdown",
   "metadata": {
    "slideshow": {
     "slide_type": "slide"
    }
   },
   "source": [
    "## Exercise 3, continued\n",
    "\n",
    " 1. Abstract the code that creates the plot into a function that could do so for any two sub-populations.  (Before you begin: what parameters should it accept?)  Once you've done so, call the function with the appropriate inputs so that it creates the same plot that it did before you did the abstraction.\n",
    " 2. Abstract the code that computes the two means and does the hypothesis test into a function that could do so for any two sub-populations.  Ensure the function returns multiple values, so that the caller gets everything they need.  Once you've done so, call the function with the appropriate inputs and then update your comments that interpret the outputs accordingly.\n",
    " 3. Now that you've got re-usable functions, apply them to answer these questions, with accompanying plots:\n",
    "     * Is the mean interest rate statistically significantly different between applications from males vs. females?\n",
    "     * Is the mean property value statistically significantly different between Asian applicants and non-Asian applicants?"
   ]
  }
 ],
 "metadata": {
  "celltoolbar": "Slideshow",
  "kernelspec": {
   "display_name": "Python 3",
   "language": "python",
   "name": "python3"
  },
  "language_info": {
   "codemirror_mode": {
    "name": "ipython",
    "version": 3
   },
   "file_extension": ".py",
   "mimetype": "text/x-python",
   "name": "python",
   "nbconvert_exporter": "python",
   "pygments_lexer": "ipython3",
   "version": "3.7.3"
  }
 },
 "nbformat": 4,
 "nbformat_minor": 4
}