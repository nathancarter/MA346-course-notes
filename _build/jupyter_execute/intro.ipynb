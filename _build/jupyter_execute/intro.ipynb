{
 "cells": [
  {
   "cell_type": "markdown",
   "metadata": {},
   "source": [
    "# Course Notes for Data Science (MA346)\n",
    "\n",
    "These course notes are for [Bentley University](http://www.bentley.edu)'s Data Science course (MA346) that will be taught by [Nathan Carter](http://nathancarter.github.io) in Fall 2020.\n",
    "\n",
    "```{warning}\n",
    "This course notes website is just beginning, so the content here is incomplete.  Check back later.\n",
    "```"
   ]
  }
 ],
 "metadata": {
  "kernelspec": {
   "display_name": "Python 3",
   "language": "python",
   "name": "python3"
  },
  "language_info": {
   "codemirror_mode": {
    "name": "ipython",
    "version": 3
   },
   "file_extension": ".py",
   "mimetype": "text/x-python",
   "name": "python",
   "nbconvert_exporter": "python",
   "pygments_lexer": "ipython3",
   "version": "3.7.3"
  }
 },
 "nbformat": 4,
 "nbformat_minor": 4
}