{
 "cells": [
  {
   "cell_type": "markdown",
   "metadata": {},
   "source": [
    "# Course Notes for Data Science (MA346)\n",
    "\n",
    "These course notes are for [Bentley University](http://www.bentley.edu)'s Data Science course (MA346) that will be taught by [Nathan Carter](http://nathancarter.github.io) in Fall 2020.\n",
    "\n",
    "You can <a href=\"../../_static/MA346-course-notes.pdf\">download a PDF of these course notes here</a>, in case you prefer to read it that way.\n"
   ]
  },
  {
   "cell_type": "markdown",
   "metadata": {},
   "source": [
    "This page summarizes the course schedule.  Each day is a link to the appropriate section in the [detailed course schedule with course notes, slides, and all assignments](course-schedule).\n",
    "\n",
    "| Week | Date       | Content for the day   |\n",
    "|------|------------|-----------------------|\n",
    "| 1    | 9/3/2020   | [Introduction and mathematical foundations](course-schedule.html#week-1-9-3-2020-introduction-and-mathematical-foundations) |\n",
    "| 2    | 9/10/2020  | [Jupyter and a review of Python and pandas](course-schedule.html#week-2-9-10-2020-jupyter-and-a-review-of-python-and-pandas) |\n",
    "| 3    | 9/17/2020  | [Before and after, single-table verbs](course-schedule.html#week-3-9-17-2020-before-and-after-single-table-verbs) |\n",
    "| 4    | 9/24/2020  | [Abstraction and version control](course-schedule.html#week-4-9-24-2020-abstraction-and-version-control) |\n",
    "| 5    | 10/1/2020  | [Math and stats in Python, plus Visualization](course-schedule.html#week-5-10-1-2020-math-and-stats-in-python-plus-visualization) |\n",
    "| 6    | 10/8/2020  | [Processing the Rows of a `DataFrame`](course-schedule.html#week-6-10-8-2020-processing-the-rows-of-a-dataframe) |\n",
    "| 7    | 10/15/2020 | [Concatenation and Merging](course-schedule.html#week-7-10-15-2020-concatenation-and-merging) |\n",
    "| 8    | 10/22/2020 | [Miscellaneous Munging Methods (ETL)](course-schedule.html#week-8-10-22-2020-miscellaneous-munging-methods-etl) |\n",
    "| 9    | 10/29/2020 | [Dashboards](course-schedule.html#week-9-10-29-2020-dashboards) |\n",
    "| 10   | 11/5/2020  | [Relations, graphs, and networks](course-schedule.html#week-10-11-5-2020-relations-graphs-and-networks) |\n",
    "| 11   | 11/12/2020 | [Relations as matrices](course-schedule.html#week-11-11-12-2020-relations-as-matrices) |\n",
    "| 12   | 11/19/2020 | [Introduction to machine learning](course-schedule.html#week-12-11-19-2020-introduction-to-machine-learning) |\n",
    "| 13   | 11/26/2020 | Thanksgiving break, no class |\n",
    "| 14   | 12/3/2020  | Final Exam Review and Final Project Workshop |\n"
   ]
  }
 ],
 "metadata": {
  "kernelspec": {
   "display_name": "Python 3",
   "language": "python",
   "name": "python3"
  },
  "language_info": {
   "codemirror_mode": {
    "name": "ipython",
    "version": 3
   },
   "file_extension": ".py",
   "mimetype": "text/x-python",
   "name": "python",
   "nbconvert_exporter": "python",
   "pygments_lexer": "ipython3",
   "version": "3.7.3"
  }
 },
 "nbformat": 4,
 "nbformat_minor": 4
}
