{
 "cells": [
  {
   "cell_type": "markdown",
   "metadata": {
    "slideshow": {
     "slide_type": "slide"
    }
   },
   "source": [
    "# Chapter 8 - Version control\n",
    "\n",
    "[See also the corresponding course notes, here.](../_build/html/chapter-8-version-control.html)\n",
    "\n",
    "<font color='red'>These slides have not yet been updated for Summer 2021.  Check back soon.</font>\n"
   ]
  },
  {
   "cell_type": "markdown",
   "metadata": {
    "slideshow": {
     "slide_type": "slide"
    }
   },
   "source": [
    "## What is `git`?\n",
    "\n",
    "The most common version control system is called `git`.  It helps you with:\n",
    " * keeping old snapshots of your work in case you need to undo a mistake\n",
    " * collaborating with others on your team by sharing a project\n",
    " * publishing your project online, for sharing or as a backup"
   ]
  },
  {
   "cell_type": "markdown",
   "metadata": {
    "slideshow": {
     "slide_type": "slide"
    }
   },
   "source": [
    "## Reviewing terminology\n",
    "\n",
    "From your pre-class reading, what does each of these terms mean?\n",
    "\n",
    " * Easy:\n",
    "    * repository (or repo)\n",
    "    * commits and committing\n",
    " * Medium:\n",
    "    * local and remote\n",
    "    * push and pull\n",
    " * Hard:\n",
    "    * clone\n",
    "    * branch\n",
    "    * merge conflict"
   ]
  },
  {
   "cell_type": "markdown",
   "metadata": {
    "slideshow": {
     "slide_type": "slide"
    }
   },
   "source": [
    "## Choosing when to commit\n",
    "\n",
    "Recall the example story of work on a project from the notes, shown below.  When are the best times to commit?\n",
    "\n",
    " 1. You start by downloading a dataset from the instructor and starting a new blank Python script or Jupyter notebook in your repo folder.  Everything's fine so far.  😀\n",
    " 2. You try to load the dataset but keep getting errors.  You don't manage to solve it before you have to go to dinner.  😡\n",
    " 3. A friend at dinner reminded you about setting the text encoding, and that fixed the problem.  You get the dataset loading before bed.  Yes!  😀\n",
    " 4. The next day before MA346 you get the data cleaned without a problem.  😀\n",
    " 5. During class, the instructor asks your team to make progress on a hypothesis test, but you run out of time in class before you can figure out all the details.  The last few lines of code still give errors.  😡"
   ]
  },
  {
   "cell_type": "markdown",
   "metadata": {
    "slideshow": {
     "slide_type": "slide"
    }
   },
   "source": [
    "## Commit messages\n",
    "\n",
    "**Warning:** You will be tempted to not take commit messages seriously, and you will later wish that you had.  Remember the importance of good code explanations; the same advice applies here.  Write clearly and meaningfully!\n",
    "\n",
    "Examples:\n",
    " * Downloaded dataset and started new Python script\n",
    " * Wrote code to load data\n",
    " * Added code to clean data\n"
   ]
  },
  {
   "cell_type": "markdown",
   "metadata": {
    "slideshow": {
     "slide_type": "slide"
    }
   },
   "source": [
    "## Avoiding merge conflicts\n",
    "\n",
    "Anita and Barry are teammates on Project 1.  **Which of the following scenarios are correct ways to collaborate using `git`?**  What could go wrong?\n",
    "\n",
    " * Anita edits code near the top of `project-1.py` that cleans the data while Barry edits code near the middle of `project-1.py` that filters the dataset.\n",
    " * Anita edits data analysis code in `analysis.ipynb` while Barry creates a presentation in `project-1.pptx`.\n",
    " * Anita and Barry both edit `hypothesis-test.py`, which contains just 10 lines of code, each making various edits to add features, fix bugs, or tweak the output.\n",
    " * Anita edits a Jupyter notebook that analyzes data while Barry edits a different Jupyter notebook that cleans data and gets it ready for the analysis in the notebook Anita's writing."
   ]
  },
  {
   "cell_type": "markdown",
   "metadata": {
    "slideshow": {
     "slide_type": "slide"
    }
   },
   "source": [
    "## Exercise 1\n",
    "\n",
    " 1. Create a GitHub account and the GitHub app, [as described here in the course notes](../_build/html/chapter-8-version-control.html#get-a-github-account).\n",
    " 2. Create and publish an empty (and private) repository to use in Project 1 for this course, [as described here in the course notes](../_build/html/chapter-8-version-control.html#create-a-repository).\n",
    " 3. Add the Project 1 datasets to that repository and publish again, [as described here in the course notes](../_build/html/chapter-8-version-control.html#make-a-commit).\n",
    " 4. Invite your instructor as a collaborator, so he can see your Project 1 repository, [as described here in the course notes](../_build/html/chapter-8-version-control.html#how-to-let-someone-view-your-private-repository).\n",
    " 5. Do the same for your Project 1 teammate, if you've chosen to have one.\n"
   ]
  },
  {
   "cell_type": "markdown",
   "metadata": {
    "slideshow": {
     "slide_type": "slide"
    }
   },
   "source": [
    "## Exercise 2\n",
    "\n",
    "Which of the following statements are true, and why?\n",
    "\n",
    " 1. If I don't intend to share my work online, there's no value to using `git` or the GitHub app.\n",
    " 2. It is possible to use `git` without using the GitHub app.\n",
    " 3. If I'm teammates with my friend Erl, then once I've pulled Erl's most recent commits from our shared repo, I can push my commits and they will have merged with one another successfully.\n",
    " 4. It's best practice to commit your latest changes at the end of your work each day."
   ]
  },
  {
   "cell_type": "markdown",
   "metadata": {
    "slideshow": {
     "slide_type": "slide"
    }
   },
   "source": [
    "## Homework\n",
    "\n",
    "Add a Python script or Jupyter notebook to your Project 1 repository.\n",
    "\n",
    "In that script or notebook, write a Python function that behaves as follows:\n",
    " 1. It takes as input the abbreviation of a state in the U.S., such as `\"MA\"` or `\"TX\"`.\n",
    " 2. It returns as output a pandas Series of the number of confirmed cases of COVID-19 in that state over time.\n",
    "\n",
    "We will use that function in class next time, so the work is due before class next week.\n",
    "\n",
    "Submit your work by committing and pushing to the repository.  I will be able to see it because you have already invited me to the repository as a collaborator."
   ]
  }
 ],
 "metadata": {
  "celltoolbar": "Slideshow",
  "kernelspec": {
   "display_name": "Python 3",
   "language": "python",
   "name": "python3"
  },
  "language_info": {
   "codemirror_mode": {
    "name": "ipython",
    "version": 3
   },
   "file_extension": ".py",
   "mimetype": "text/x-python",
   "name": "python",
   "nbconvert_exporter": "python",
   "pygments_lexer": "ipython3",
   "version": "3.7.3"
  }
 },
 "nbformat": 4,
 "nbformat_minor": 4
}
