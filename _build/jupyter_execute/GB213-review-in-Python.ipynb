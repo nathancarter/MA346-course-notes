{
 "cells": [
  {
   "cell_type": "markdown",
   "metadata": {},
   "source": [
    "# GB213 Review in Python\n",
    "\n",
    "## We're not covering everything\n",
    "\n",
    "We're omitting basic probability issues like experiments, sample spaces, discrete probabilities, combinations, and permutations.  At the end we'll provide links to example topics.  But everything else we'll cover at least briefly.\n",
    " \n",
    "We begin by importing the necessary modules."
   ]
  },
  {
   "cell_type": "code",
   "execution_count": 1,
   "metadata": {},
   "outputs": [],
   "source": [
    "import numpy as np\n",
    "import pandas as pd\n",
    "import scipy.stats as stats\n",
    "import matplotlib.pyplot as plt\n",
    "import seaborn as sns\n",
    "%matplotlib inline"
   ]
  },
  {
   "cell_type": "markdown",
   "metadata": {},
   "source": [
    "---\n",
    "\n",
    "## Discrete Random Variables\n",
    "\n",
    "(For continuous random variables, [see further below](#continuous-random-variables).\n",
    "\n",
    "Discrete random variables taken on a finite number of different values.  For example, a Bernoulli trial is either 0 or 1 (usually meaning failure and success, respectively).  You can create random variables using `scipy.stats` as follows.\n",
    "\n",
    "### Creating them"
   ]
  },
  {
   "cell_type": "code",
   "execution_count": 2,
   "metadata": {},
   "outputs": [],
   "source": [
    "b1 = stats.bernoulli( 0.25 )  # probability of success\n",
    "b2 = stats.binom( 10, 0.5 )   # number of trials, prob. of success on each"
   ]
  },
  {
   "cell_type": "markdown",
   "metadata": {},
   "source": [
    "### Computing probabilities from a Discrete Random Variable"
   ]
  },
  {
   "cell_type": "code",
   "execution_count": 3,
   "metadata": {},
   "outputs": [
    {
     "data": {
      "text/plain": [
       "(0.75, 0.25)"
      ]
     },
     "execution_count": 3,
     "metadata": {},
     "output_type": "execute_result"
    }
   ],
   "source": [
    "b1.pmf( 0 ), b1.pmf( 1 )  # stands for \"probability mass function\""
   ]
  },
  {
   "cell_type": "markdown",
   "metadata": {},
   "source": [
    "The same code works for any random variable, not just `b1`."
   ]
  },
  {
   "cell_type": "markdown",
   "metadata": {},
   "source": [
    "### Generating values from a Discrete Random Variable"
   ]
  },
  {
   "cell_type": "code",
   "execution_count": 4,
   "metadata": {},
   "outputs": [
    {
     "data": {
      "text/plain": [
       "array([0, 0, 1, 0, 1, 0, 0, 0, 0, 0])"
      ]
     },
     "execution_count": 4,
     "metadata": {},
     "output_type": "execute_result"
    }
   ],
   "source": [
    "b1.rvs( 10 )  # asks for 10 random values (rvs)"
   ]
  },
  {
   "cell_type": "markdown",
   "metadata": {},
   "source": [
    "The same code works for any random variable, not just `b1`.\n",
    "\n",
    "### Computing statistics about a Discrete Random Variable"
   ]
  },
  {
   "cell_type": "code",
   "execution_count": 5,
   "metadata": {},
   "outputs": [
    {
     "data": {
      "text/plain": [
       "(0.25, 0.1875, 0.4330127018922193)"
      ]
     },
     "execution_count": 5,
     "metadata": {},
     "output_type": "execute_result"
    }
   ],
   "source": [
    "b1.mean(), b1.var(), b1.std()  # mean, variance, standard deviation"
   ]
  },
  {
   "cell_type": "markdown",
   "metadata": {},
   "source": [
    "The same code works for any random variable, not just `b1`."
   ]
  },
  {
   "cell_type": "markdown",
   "metadata": {},
   "source": [
    "### Plotting the Distribution of a Discrete Random Variable\n",
    "\n",
    "Here's a function you can use to plot (almost) any discrete probability distribution."
   ]
  },
  {
   "cell_type": "code",
   "execution_count": 6,
   "metadata": {},
   "outputs": [],
   "source": [
    "def plot_discrete_distribution ( rv ):\n",
    "    xmin, xmax = rv.ppf( 0.0001 ), rv.ppf( 0.9999 )\n",
    "    x = np.arange( xmin, xmax+1 )\n",
    "    y = rv.pmf( x )\n",
    "    plt.plot( x, y, 'o' )\n",
    "    plt.vlines( x, 0, y )\n",
    "    plt.ylim( bottom=0 )"
   ]
  },
  {
   "cell_type": "markdown",
   "metadata": {},
   "source": [
    "Example use:"
   ]
  },
  {
   "cell_type": "code",
   "execution_count": 7,
   "metadata": {},
   "outputs": [
    {
     "data": {
      "image/png": "[encoded data removed]",
      "text/plain": [
       "<Figure size 432x288 with 1 Axes>"
      ]
     },
     "metadata": {
      "filenames": {
       "image/png": "/workspaces/MA346-course-notes/_build/jupyter_execute/GB213-review-in-Python_15_0.png"
      },
      "needs_background": "light"
     },
     "output_type": "display_data"
    }
   ],
   "source": [
    "plot_discrete_distribution( b2 )"
   ]
  },
  {
   "cell_type": "markdown",
   "metadata": {},
   "source": [
    "---\n",
    "\n",
    "## Continuous Random Variables\n",
    "\n",
    "(For discrete random variables, [see further above](#discrete-random-variables).\n",
    "\n",
    "Continuous random variables take on an infinite number of different values, sometimes in a certain range (like the uniform distribution on $[0,1]$, for example) and sometimes over the whole real number line (like the normal distribution, for example).\n",
    "\n",
    "### Creating them"
   ]
  },
  {
   "cell_type": "code",
   "execution_count": 8,
   "metadata": {},
   "outputs": [],
   "source": [
    "# for uniform on the interval [a,b]: use loc=a, scale=b-a\n",
    "u = stats.uniform( loc=10, scale=2 )\n",
    "# for normal use loc=mean, scale=standard deviation\n",
    "n = stats.norm( loc=100, scale=5 )\n",
    "# for t, same as normal, plus df=degrees of freedom\n",
    "t = stats.t( df=15, loc=100, scale=5 )"
   ]
  },
  {
   "cell_type": "markdown",
   "metadata": {},
   "source": [
    "### Computing probabilities from a Continuous Random Variable\n",
    "\n",
    "For a continuous random variable, you cannot compute the probability that it will equal a precise number, because such a probability is always zero.  But you can compute the probability that the value falls within a certain interval on the number line.\n",
    "\n",
    "To do so for an interval $[a,b]$, compute the total probability accumulated up to $a$ and subtract it from that up to $b$, as follows."
   ]
  },
  {
   "cell_type": "code",
   "execution_count": 9,
   "metadata": {},
   "outputs": [
    {
     "data": {
      "text/plain": [
       "0.3413447460685429"
      ]
     },
     "execution_count": 9,
     "metadata": {},
     "output_type": "execute_result"
    }
   ],
   "source": [
    "a, b = 95, 100  # or any values\n",
    "n.cdf( b ) - n.cdf( a )  # probability of being in that interval"
   ]
  },
  {
   "cell_type": "markdown",
   "metadata": {},
   "source": [
    "The same code works for any continuous random variable, not just `n`."
   ]
  },
  {
   "cell_type": "markdown",
   "metadata": {},
   "source": [
    "### Generating values from a Continuous Random Variable"
   ]
  },
  {
   "cell_type": "code",
   "execution_count": 10,
   "metadata": {},
   "outputs": [
    {
     "data": {
      "text/plain": [
       "array([100.16209899, 105.41177118,  94.99935624, 103.36245974,\n",
       "       109.6017473 ,  92.92067368,  96.45735298,  89.76364024,\n",
       "        98.64616631, 101.75428091])"
      ]
     },
     "execution_count": 10,
     "metadata": {},
     "output_type": "execute_result"
    }
   ],
   "source": [
    "n.rvs( 10 )  # same as for discrete random variables"
   ]
  },
  {
   "cell_type": "markdown",
   "metadata": {},
   "source": [
    "### Plotting the Distribution of a Continuous Random Variable\n",
    "\n",
    "Here's a function you can use to plot the center 99.98% of any continuous probability distribution."
   ]
  },
  {
   "cell_type": "code",
   "execution_count": 11,
   "metadata": {},
   "outputs": [],
   "source": [
    "def plot_continuous_distribution ( rv ):\n",
    "    xmin, xmax = rv.ppf( 0.0001 ), rv.ppf( 0.9999 )\n",
    "    x = np.linspace( xmin, xmax, 100 )\n",
    "    y = rv.pdf( x )\n",
    "    plt.plot( x, y )"
   ]
  },
  {
   "cell_type": "markdown",
   "metadata": {},
   "source": [
    "Example use:"
   ]
  },
  {
   "cell_type": "code",
   "execution_count": 12,
   "metadata": {},
   "outputs": [
    {
     "data": {
      "image/png": "[encoded data removed]",
      "text/plain": [
       "<Figure size 432x288 with 1 Axes>"
      ]
     },
     "metadata": {
      "filenames": {
       "image/png": "/workspaces/MA346-course-notes/_build/jupyter_execute/GB213-review-in-Python_26_0.png"
      },
      "needs_background": "light"
     },
     "output_type": "display_data"
    }
   ],
   "source": [
    "plot_continuous_distribution( n )"
   ]
  },
  {
   "cell_type": "markdown",
   "metadata": {},
   "source": [
    "---\n",
    "\n",
    "## Confidence Intervals\n",
    "\n",
    "Recall from GB213 that certain assumptions about normality must hold in order for you to do statistical inference.  We do not cover those here; refer to your GB213 text or notes.\n",
    "\n",
    "Here we cover a confidence interval for the sample mean using confidence level $\\alpha$, which must be between 0 and 1 (typically 0.95)."
   ]
  },
  {
   "cell_type": "code",
   "execution_count": 13,
   "metadata": {},
   "outputs": [
    {
     "data": {
      "text/plain": [
       "(70.29847811072423, 350.0544630657464)"
      ]
     },
     "execution_count": 13,
     "metadata": {},
     "output_type": "execute_result"
    }
   ],
   "source": [
    "α = 0.95\n",
    "# normally you'd have data; for this example, I make some up:\n",
    "data = [ 435,542,435,4,54,43,5,43,543,5,432,43,36,7,876,65,5 ]\n",
    "est_mean = np.mean( data )  # estimate for the population mean\n",
    "sem = stats.sem( data )     # standard error for the sample mean\n",
    "# margin of error:\n",
    "moe = sem * stats.t.ppf( ( 1 + α ) / 2, len( data ) - 1 )\n",
    "( est_mean - moe, est_mean + moe )  # confidence interval"
   ]
  },
  {
   "cell_type": "markdown",
   "metadata": {},
   "source": [
    "---\n",
    "\n",
    "## Hypothesis Testing\n",
    "\n",
    "Again, in GB213 you learned what assumptions must hold in order to do a hypothesis test, which I do not review here.\n",
    "\n",
    "Let $H_0$ be the null hypothesis, the currently held belief.  Let $H_a$ be the alternative, which would result in some change in our beliefs or actions.\n",
    "\n",
    "We assume some chosen value $0\\leq\\alpha\\leq1$, which is the probability of a Type I error (false positive, finding we should reject $H_0$ when it's actually true).\n",
    "\n",
    "### Two-sided test for $H_0:\\mu=\\bar{x}$\n",
    "\n",
    "Say we have a population whose mean $\\mu$ is known to be 10.  We take a sample $x_1,\\ldots,x_n$ and compute its mean, $\\bar{x}$.  We then ask whether this sample is significantly different from the population at large, that is, is $\\mu=\\bar{x}$?  We can do a two-sided test of $H_0:\\mu=\\bar{x}$ as follows."
   ]
  },
  {
   "cell_type": "code",
   "execution_count": 14,
   "metadata": {},
   "outputs": [
    {
     "data": {
      "text/plain": [
       "(0.05, 0.35845634462296455, False)"
      ]
     },
     "execution_count": 14,
     "metadata": {},
     "output_type": "execute_result"
    }
   ],
   "source": [
    "α = 0.05\n",
    "μ = 10\n",
    "sample = [ 9, 12, 14, 8, 13 ]\n",
    "t_statistic, p_value = stats.ttest_1samp( sample, μ )\n",
    "reject_H0 = p_value < α\n",
    "α, p_value, reject_H0"
   ]
  },
  {
   "cell_type": "markdown",
   "metadata": {},
   "source": [
    "The output above says that the data does NOT give us enough information to reject the null hypothesis.  So we should continue to assume that the sample is like the population, and $\\mu=\\bar{x}$.\n",
    "\n",
    "### Two-sided test for $H_0: \\bar{x}_1=\\bar{x}_2$\n",
    "\n",
    "What if we had wanted to do a test for whether two independent samples had the same mean?  We can ask that question as follows.  (Here we assume they have equal variances, but you can turn that assumption off with a third parameter to `ttest_ind`.)"
   ]
  },
  {
   "cell_type": "code",
   "execution_count": 15,
   "metadata": {},
   "outputs": [
    {
     "data": {
      "text/plain": [
       "(0.05, 0.02815503832602318, True)"
      ]
     },
     "execution_count": 15,
     "metadata": {},
     "output_type": "execute_result"
    }
   ],
   "source": [
    "α = 0.05\n",
    "sample1 = [ 6, 9, 7, 10, 10, 9 ]\n",
    "sample2 = [ 12, 14, 10, 17, 9 ]\n",
    "t_statistics, p_value = stats.ttest_ind( sample1, sample2 )\n",
    "reject_H0 = p_value < α\n",
    "α, p_value, reject_H0"
   ]
  },
  {
   "cell_type": "markdown",
   "metadata": {},
   "source": [
    "The output above says that the two samples DO give us enough information to reject the null hypothesis.  So the data suggest that the two samples have different means."
   ]
  },
  {
   "cell_type": "markdown",
   "metadata": {},
   "source": [
    "---\n",
    "\n",
    "## Linear Regression\n",
    "\n",
    "### Creating a linear model of data\n",
    "\n",
    "Normally you would have data that you wanted to model.  But in this example notebook, I have to make up some data first."
   ]
  },
  {
   "cell_type": "code",
   "execution_count": 16,
   "metadata": {},
   "outputs": [],
   "source": [
    "df = pd.DataFrame( {\n",
    "    \"height\" : [ 393, 453, 553, 679, 729, 748, 817 ],  # completely made up\n",
    "    \"width\"  : [  24,  25,  27,  36,  55,  68,  84 ]   # also totally pretend\n",
    "} )"
   ]
  },
  {
   "cell_type": "markdown",
   "metadata": {},
   "source": [
    "As with all the content of this document, the assumptions required to make the technique applicable are not covered in detail, but in this case we at least review them briefly.  To ensure that linear regression is applicable, one should verify:\n",
    "\n",
    " 1. We have two columns of numerical data of the same length.\n",
    " 1. We have made a scatter plot and observed a seeming linear relationship.\n",
    " 1. We know that there is no autocorrelation.\n",
    " 1. We will check later that the residuals are normally distributed.\n",
    " 1. We will check later that the residuals are homoscedastic.\n",
    "\n",
    "To create a linear model, use `scipy` as follows."
   ]
  },
  {
   "cell_type": "code",
   "execution_count": 17,
   "metadata": {},
   "outputs": [
    {
     "data": {
      "text/plain": [
       "LinregressResult(slope=0.1327195637885226, intercept=-37.32141898334582, rvalue=0.8949574425541466, pvalue=0.006486043236692156, stderr=0.029588975845594334, intercept_stderr=18.995444317768097)"
      ]
     },
     "execution_count": 17,
     "metadata": {},
     "output_type": "execute_result"
    }
   ],
   "source": [
    "model = stats.linregress( df.height, df.width )\n",
    "model"
   ]
  },
  {
   "cell_type": "markdown",
   "metadata": {},
   "source": [
    "A linear model is usually written like so:\n",
    "\n",
    "$$ y = \\beta_0 + \\beta_1 x $$\n",
    "\n",
    "The slope is $\\beta_1$ and the intercept is $\\beta_0$."
   ]
  },
  {
   "cell_type": "code",
   "execution_count": 18,
   "metadata": {},
   "outputs": [
    {
     "data": {
      "text/plain": [
       "(-37.32141898334582, 0.1327195637885226)"
      ]
     },
     "execution_count": 18,
     "metadata": {},
     "output_type": "execute_result"
    }
   ],
   "source": [
    "β0 = model.intercept\n",
    "β1 = model.slope\n",
    "β0, β1"
   ]
  },
  {
   "cell_type": "markdown",
   "metadata": {},
   "source": [
    "From the output above, our model would therefore be the following (with some rounding for simplicity):\n",
    "\n",
    "$$ y = -37.32 + 0.132x $$"
   ]
  },
  {
   "cell_type": "markdown",
   "metadata": {},
   "source": [
    "To know how good it is, we often ask about the $R^2$ value."
   ]
  },
  {
   "cell_type": "code",
   "execution_count": 19,
   "metadata": {},
   "outputs": [
    {
     "data": {
      "text/plain": [
       "(0.8949574425541466, 0.8009488239830586)"
      ]
     },
     "execution_count": 19,
     "metadata": {},
     "output_type": "execute_result"
    }
   ],
   "source": [
    "R = model.rvalue\n",
    "R, R**2"
   ]
  },
  {
   "cell_type": "markdown",
   "metadata": {},
   "source": [
    "In this case, $R^2$ would be approximately $0.895^2$, or about $0.801$.  Thus our model explains about 80.1% of the variability in the data."
   ]
  },
  {
   "cell_type": "markdown",
   "metadata": {},
   "source": [
    "### Visualizing the model\n",
    "\n",
    "The Seaborn visualization package provides a handy tool for making scatterplots with linear models overlaid.  The light blue shading is a confidence band we will not cover."
   ]
  },
  {
   "cell_type": "code",
   "execution_count": 20,
   "metadata": {},
   "outputs": [
    {
     "data": {
      "image/png": "[encoded data removed]",
      "text/plain": [
       "<Figure size 360x360 with 1 Axes>"
      ]
     },
     "metadata": {
      "filenames": {
       "image/png": "/workspaces/MA346-course-notes/_build/jupyter_execute/GB213-review-in-Python_45_0.png"
      },
      "needs_background": "light"
     },
     "output_type": "display_data"
    }
   ],
   "source": [
    "sns.lmplot( x='height', y='width', data=df )\n",
    "plt.show()"
   ]
  },
  {
   "cell_type": "markdown",
   "metadata": {},
   "source": [
    "---\n",
    "\n",
    "## Other Topics\n",
    "\n",
    "### ANOVA\n",
    "\n",
    "Analysis of variance is an optional topic your GB213 class may or may not have covered, depending on scheduling and instructor choices.  If you covered it in GB213 and would like to see how to do it in Python, check out [the Scipy documentation for `f_oneway`](https://docs.scipy.org/doc/scipy/reference/generated/scipy.stats.f_oneway.html).\n",
    "\n",
    "### $\\chi^2$ Tests\n",
    "\n",
    "Chi-squared ($\\chi^2$) tests are another optional GB213 topic that your class may or may not have covered.  If you are familiar with it and would like to see how to do it in Python, check out [the Scipy documentation for `chisquare`](https://docs.scipy.org/doc/scipy/reference/generated/scipy.stats.chisquare.html)."
   ]
  }
 ],
 "metadata": {
  "kernelspec": {
   "display_name": "Python 3",
   "language": "python",
   "name": "python3"
  },
  "language_info": {
   "codemirror_mode": {
    "name": "ipython",
    "version": 3
   },
   "file_extension": ".py",
   "mimetype": "text/x-python",
   "name": "python",
   "nbconvert_exporter": "python",
   "pygments_lexer": "ipython3",
   "version": "3.9.2"
  }
 },
 "nbformat": 4,
 "nbformat_minor": 4
}