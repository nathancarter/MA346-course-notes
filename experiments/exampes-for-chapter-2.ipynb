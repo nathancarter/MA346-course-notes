{
 "cells": [
  {
   "cell_type": "code",
   "execution_count": 3,
   "metadata": {},
   "outputs": [],
   "source": [
    "import pandas as pd"
   ]
  },
  {
   "cell_type": "code",
   "execution_count": 6,
   "metadata": {},
   "outputs": [],
   "source": [
    "def get_last_close ( symbol ):\n",
    "    tables = pd.read_html( f\"https://finance.yahoo.com/quote/{symbol}\" )\n",
    "    table = tables[0]\n",
    "    return pd.DataFrame( { symbol : list(table[1]) }, index=table[0] )"
   ]
  },
  {
   "cell_type": "code",
   "execution_count": 7,
   "metadata": {},
   "outputs": [
    {
     "data": {
      "text/html": [
       "<div>\n",
       "<style scoped>\n",
       "    .dataframe tbody tr th:only-of-type {\n",
       "        vertical-align: middle;\n",
       "    }\n",
       "\n",
       "    .dataframe tbody tr th {\n",
       "        vertical-align: top;\n",
       "    }\n",
       "\n",
       "    .dataframe thead th {\n",
       "        text-align: right;\n",
       "    }\n",
       "</style>\n",
       "<table border=\"1\" class=\"dataframe\">\n",
       "  <thead>\n",
       "    <tr style=\"text-align: right;\">\n",
       "      <th></th>\n",
       "      <th>AAPL</th>\n",
       "    </tr>\n",
       "    <tr>\n",
       "      <th>0</th>\n",
       "      <th></th>\n",
       "    </tr>\n",
       "  </thead>\n",
       "  <tbody>\n",
       "    <tr>\n",
       "      <th>Previous Close</th>\n",
       "      <td>331.50</td>\n",
       "    </tr>\n",
       "    <tr>\n",
       "      <th>Open</th>\n",
       "      <td>330.25</td>\n",
       "    </tr>\n",
       "    <tr>\n",
       "      <th>Bid</th>\n",
       "      <td>333.25 x 800</td>\n",
       "    </tr>\n",
       "    <tr>\n",
       "      <th>Ask</th>\n",
       "      <td>333.49 x 1200</td>\n",
       "    </tr>\n",
       "    <tr>\n",
       "      <th>Day's Range</th>\n",
       "      <td>327.32 - 333.60</td>\n",
       "    </tr>\n",
       "    <tr>\n",
       "      <th>52 Week Range</th>\n",
       "      <td>190.30 - 333.60</td>\n",
       "    </tr>\n",
       "    <tr>\n",
       "      <th>Volume</th>\n",
       "      <td>23252140</td>\n",
       "    </tr>\n",
       "    <tr>\n",
       "      <th>Avg. Volume</th>\n",
       "      <td>45852722</td>\n",
       "    </tr>\n",
       "  </tbody>\n",
       "</table>\n",
       "</div>"
      ],
      "text/plain": [
       "                           AAPL\n",
       "0                              \n",
       "Previous Close           331.50\n",
       "Open                     330.25\n",
       "Bid                333.25 x 800\n",
       "Ask               333.49 x 1200\n",
       "Day's Range     327.32 - 333.60\n",
       "52 Week Range   190.30 - 333.60\n",
       "Volume                 23252140\n",
       "Avg. Volume            45852722"
      ]
     },
     "execution_count": 7,
     "metadata": {},
     "output_type": "execute_result"
    }
   ],
   "source": [
    "get_last_close( 'AAPL' )"
   ]
  },
  {
   "cell_type": "code",
   "execution_count": 8,
   "metadata": {},
   "outputs": [],
   "source": [
    "cap_table_url = 'https://www.boldtuesday.com/pages/alphabetical-list-of-all-countries-and-capitals-shown-on-list-of-countries-poster'\n",
    "caps = pd.read_html( cap_table_url )[0]\n",
    "country_capitol = dict(zip(caps[0],caps[1]))\n",
    "del country_capitol['COUNTRY']\n",
    "def get_capitol ( country ):\n",
    "    return country_capitol[country.upper()]"
   ]
  },
  {
   "cell_type": "code",
   "execution_count": 9,
   "metadata": {},
   "outputs": [
    {
     "data": {
      "text/plain": [
       "'OUAGADOUGOU'"
      ]
     },
     "execution_count": 9,
     "metadata": {},
     "output_type": "execute_result"
    }
   ],
   "source": [
    "get_capitol( 'burkina faso' )"
   ]
  },
  {
   "cell_type": "code",
   "execution_count": null,
   "metadata": {},
   "outputs": [],
   "source": []
  }
 ],
 "metadata": {
  "kernelspec": {
   "display_name": "Python 3",
   "language": "python",
   "name": "python3"
  },
  "language_info": {
   "codemirror_mode": {
    "name": "ipython",
    "version": 3
   },
   "file_extension": ".py",
   "mimetype": "text/x-python",
   "name": "python",
   "nbconvert_exporter": "python",
   "pygments_lexer": "ipython3",
   "version": "3.7.3"
  }
 },
 "nbformat": 4,
 "nbformat_minor": 4
}
