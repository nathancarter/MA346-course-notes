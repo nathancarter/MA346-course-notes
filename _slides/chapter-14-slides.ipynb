{
 "cells": [
  {
   "cell_type": "markdown",
   "metadata": {
    "slideshow": {
     "slide_type": "slide"
    }
   },
   "source": [
    "# Chapter 14 - Dashboards\n",
    "\n",
    "[See also the corresponding course notes, here.](../_build/html/chapter-14-dashboards.html)\n",
    "\n",
    "[View a printable version of these slides here.](./chapter-14-slides-printable.html)\n"
   ]
  },
  {
   "cell_type": "markdown",
   "metadata": {
    "slideshow": {
     "slide_type": "slide"
    }
   },
   "source": [
    "## Value of dashboards in data reporting\n",
    "\n",
    "Examples:\n",
    "\n",
    " * Let the viewer explore the many different inputs to an analysis.\n",
    " * Let an expert viewer experiment with the tuning parameter of an analysis.\n",
    " * Some projects are not a data analysis, but just a data showcase.\n",
    " * Quickly and easily show another team what you're doing, for faster feedback."
   ]
  },
  {
   "cell_type": "markdown",
   "metadata": {
    "slideshow": {
     "slide_type": "slide"
    }
   },
   "source": [
    "## In class today: We will build and deploy a dashboard\n",
    "\n",
    "Let's imagine you had done the analysis in [this Deepnote project](https://deepnote.com/project/MA346-Dashboards-Starter-e_m2vXXZReWpSt1ibJkwUg/%2Fbaseball-example.ipynb) and you wanted to turn it into a dashboard.\n",
    "\n",
    " 1. Create a new folder on your computer where we will do that work.\n",
    " 2. Downloading both the notebook and dataset files from that Deepnote project into that new folder.\n",
    "\n",
    "We will do exactly that in the first half of today's class, then deploy it online in the second half."
   ]
  },
  {
   "cell_type": "markdown",
   "metadata": {
    "slideshow": {
     "slide_type": "slide"
    }
   },
   "source": [
    "## If this is easy for you...\n",
    "\n",
    "...and so you finish creating a Streamlit dashboard before we get to the class break, then you should do the following things, in this order:\n",
    "\n",
    " 1. See if anyone on your team would like help with something they're stuck on.  (Although I will be helping out as the instructor, there's only one of me, and I'd love your help sharing your knowledge!)\n",
    " 2. There is a slide about optional additional features you could add to your Streamlit app.  Once you're sure no one on your team could use your help with anything, try those.\n",
    " 3. If you've done all that stuff and it's still not break time, go ahead and start your break early."
   ]
  },
  {
   "cell_type": "markdown",
   "metadata": {
    "slideshow": {
     "slide_type": "slide"
    }
   },
   "source": [
    "## If this is hard for you...\n",
    "\n",
    "...don't worry!  It's a very technical set of content for today.  I suggest these ways to get help:\n",
    "\n",
    " 1. Be sure you've carefully followed the course notes.  They should tell you almost every little step you need.\n",
    " 2. Request that the instructor visits your breakout group, so that I can help you get un-stuck.\n",
    " 3. If someone in your group is ahead of you and seems to know what's going on, ask for their advice."
   ]
  },
  {
   "cell_type": "markdown",
   "metadata": {
    "slideshow": {
     "slide_type": "slide"
    }
   },
   "source": [
    "## Step 1. Convert the notebook to a Python script\n",
    "\n",
    "If needed, review the technique for this in [this section of the course notes](../_build/html/chapter-14-dashboards.html#step-1-we-need-a-python-script).\n",
    "\n",
    "The final result should be that you can run your Python script in either of the following ways, and see the resulting plot.\n",
    " * from the command line, `python baseball-example.py`\n",
    " * from within your favorite IDE, such as VS Code or PyCharm, with a Run command\n"
   ]
  },
  {
   "cell_type": "markdown",
   "metadata": {
    "slideshow": {
     "slide_type": "slide"
    }
   },
   "source": [
    "## Step 2. Bring in Streamlit\n",
    "\n",
    "If needed, review the technique for this in [this section of the course notes](../_build/html/chapter-14-dashboards.html#step-2-converting-your-script-to-use-streamlit).\n",
    "\n",
    "You know this is working if you can run `streamlit run baseball-example.py` from the command line and view the result in your browser.\n",
    "\n",
    "Recall that any changes you make to your Python script after that can be automatically updated in the browser if you click the \"Always rerun\" button when prompted."
   ]
  },
  {
   "cell_type": "markdown",
   "metadata": {
    "slideshow": {
     "slide_type": "slide"
    }
   },
   "source": [
    "## Step 3. Factor out parameters\n",
    "\n",
    "If needed, review the technique for this in [this section of the course notes](../_build/html/chapter-14-dashboards.html#step-3-abstraction).\n",
    "\n",
    "This should not change the way that your dashboard behaves at all.\n",
    "\n",
    "But in the end, your dashboard should begin with the declaration of a few constants, perhaps like these:\n",
    " * `first_year`\n",
    " * `last_year`\n",
    " * `position`\n",
    "\n",
    "(But exactly which parameters you choose to factor out is up to you.)"
   ]
  },
  {
   "cell_type": "markdown",
   "metadata": {
    "slideshow": {
     "slide_type": "slide"
    }
   },
   "source": [
    "## Step 4. Create input controls\n",
    "\n",
    "If needed, review the technique for this in [this section of the course notes](../_build/html/chapter-14-dashboards.html#step-4-creating-input-controls).\n",
    "\n",
    "When this is complete, each of the parameters you created in the previous step should have an input control visible on your dashboard.\n",
    "\n",
    "If you chose the parameters I suggested in the previous slide, you might do something like this:\n",
    " * Let the user pick the first year with a slider.\n",
    " * Let the user pick the last year with another slider.\n",
    " * Let the user pick the position from a drop-down \"select\" box (though that wasn't introduced until [the subsequent section of the notes](../_build/html/chapter-14-dashboards.html#step-5-increasing-awesomeness))."
   ]
  },
  {
   "cell_type": "markdown",
   "metadata": {
    "slideshow": {
     "slide_type": "slide"
    }
   },
   "source": [
    "## Step 5. Improvements\n",
    "\n",
    "If needed, review the options for improvements listed in [this section of the course notes](../_build/html/chapter-14-dashboards.html#step-5-increasing-awesomeness).\n",
    "\n",
    "In particular, ensure that:\n",
    " * the layout of the inputs and chart in your app is visually attractive, and\n",
    " * each input and chart is explained with appropriate prompts or titles, so that the first-time visitor will understand them."
   ]
  },
  {
   "cell_type": "markdown",
   "metadata": {
    "slideshow": {
     "slide_type": "slide"
    }
   },
   "source": [
    "## If you have time\n",
    "\n",
    "If you finish the previous steps early, check out [my version of this project online](https://baseball-example.herokuapp.com/).\n",
    "\n",
    "What do you notice that's different?  Can you add those features to yours as well?\n",
    "\n",
    "To help you figure out what to try, here's a list.\n",
    " * Combine the first and last year into a single \"double slider.\"  Try Googling it to see how.\n",
    " * Speed up the data loading with `@st.cache`, as described in [this section of the course notes](../_build/html/chapter-14-dashboards.html#improve-speed).\n",
    " * Instead of position abbreviations (P, C, etc.), use readable words (Pitcher, Catcher, etc.)."
   ]
  },
  {
   "cell_type": "markdown",
   "metadata": {
    "slideshow": {
     "slide_type": "slide"
    }
   },
   "source": [
    "## Break\n",
    "\n",
    "We'll take a break at this point."
   ]
  },
  {
   "cell_type": "markdown",
   "metadata": {
    "slideshow": {
     "slide_type": "slide"
    }
   },
   "source": [
    "## Deploying your app to Heroku\n",
    "\n",
    "The second half of class will consist entirely of deploying your app to Heroku.  *This can be challenging!*  I'll offer as much help as I can.\n",
    "\n",
    "[Follow the procedure outlined in the second half of today's course notes.](../_build/html/chapter-14-dashboards.html#making-your-dashboard-into-a-heroku-app)\n",
    "\n",
    "***If you finish before class is done:***\n",
    " 1. Paste into our Microsoft Teams chat a link to your working app, so everyone can see (including me).\n",
    " 2. Help at least one of your teammates complete the task as well.\n",
    " 3. Then feel free to leave early!"
   ]
  },
  {
   "cell_type": "markdown",
   "metadata": {
    "slideshow": {
     "slide_type": "slide"
    }
   },
   "source": [
    "## Thinking ahead: your Final Project\n",
    "\n",
    "Recall that *some* part of your final project must be a dashboard running live on the web.\n",
    "\n",
    "This has two consequences as you think ahead about that project:\n",
    " 1. Ensure that you choose a dataset and analysis that could benefit from a dashboard.\n",
    " 2. Ensure that at least one of the people on your team is comfortable using today's content to deploy a dashboard."
   ]
  }
 ],
 "metadata": {
  "celltoolbar": "Slideshow",
  "kernelspec": {
   "display_name": "Python 3",
   "language": "python",
   "name": "python3"
  },
  "language_info": {
   "codemirror_mode": {
    "name": "ipython",
    "version": 3
   },
   "file_extension": ".py",
   "mimetype": "text/x-python",
   "name": "python",
   "nbconvert_exporter": "python",
   "pygments_lexer": "ipython3",
   "version": "3.7.3"
  }
 },
 "nbformat": 4,
 "nbformat_minor": 4
}