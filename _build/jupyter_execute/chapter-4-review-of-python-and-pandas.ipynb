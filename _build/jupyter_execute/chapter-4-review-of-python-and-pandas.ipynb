{
 "cells": [
  {
   "cell_type": "markdown",
   "metadata": {},
   "source": [
    "# Review of Python and pandas\n",
    "\n",
    "Unlike most chapters, there are no slides corresponding to this chapter, because they consist mostly of in-class exercises.\n",
    "\n",
    "<font color='red'>THIS PAGE IS NOT COMPLETELY WRITTEN.  What is below is in outline/draft form.</font>\n"
   ]
  },
  {
   "cell_type": "markdown",
   "metadata": {},
   "source": [
    "1. Python review that focuses on remembering pandas\n",
    "  * (Don't forget to ask yourself: How can I connect this back to functions and relations?)\n",
    "  * Where to get these exercises:\n",
    "    * Start with the dataset I've downloaded for you and the notebook/script that loads it, a sample of approximately 0.1% of all mortgage applications in the US in 2018, filtered to include only those that are a conventional loan for home purchase of a principal residence, etc., etc.  (That is, I've done all the filtering that was required in MA346 S20 Project1.)\n",
    "    * Drop all columns except these: `interest_rate`, `property_value`, `state_code`, `tract_minority_population_percent`, `derived_race`, `derived_sex`, `applicant_age`\n",
    "    * Use info/head to understand the contents of the table.\n",
    "    * Convert columns to numeric or categorical, as needed.\n",
    "    * Show that you remember how to select just those rows that are, say, for women, or for Asians, or for people over age 75.\n",
    "    * Somehow get them to bump into the error of writing to a view on a dataframe, so that you can cover the essential view/copy distinction, which should be a big-picture item. :framed_picture:\n",
    "  * Have them write up solutions in Colab and then Slack/Teams chat the link to the #general channel.\n",
    "  * Keep Slack/Teams open in the podium browser and click the links as they come in to discuss the solutions together.\n",
    "  * What to do with this work:\n",
    "    * Keep it because we will build on it in the future.\n",
    "    * If we didn't finish all this, take a team as volunteers to do it and share it with everyone afterwards.\n",
    "    * They are NOT yet required to comment their code!  See below.  (You haven't yet modeled it.)\n",
    "    * Connect as much of this as possible to Excel, because they'll bump into Excel very often in their careers, and often that's the best tool for a job rather than R/Python.  Show which things are easier in Excel and which are not.\n",
    "2. What if you don't remember this stuff?\n",
    "  * Where to find docs and how to read them\n",
    "  * How to do a good help search\n",
    "  * How to distinguish good advice from crap advice\n",
    "    * Maybe even an assignment that asks them to find some incorrect coding advice (blog, docs, etc.) and say how they discerned that it was bad?  This might be too hard.\n",
    "3. Python review that focuses on mathematical exercises to really strengthen their coding fluency and mathematical understanding\n",
    "   * Where to get these exercises:\n",
    "     * Create some that will make them think about functions and relations.\n",
    "     * Create some that will make them remember the foundations of pandas.\n",
    "     * Consider poaching from any of the $>400$ exercises in A Primer on Scientific Programming, listed on pages xxiii-xxxi.\n",
    "   * Have them write up solutions in Colab and then Slack chat the link to the #general channel.\n",
    "   * Keep Slack open in the podium browser and click the links as they come in to discuss the solutions together.\n",
    "4. Functional-style code (lots of nesting) vs. imperative-style code (lots of lines)\n",
    "   * Explanatory power of naming variables well\n",
    "   * Ability to split it over multiple cells, with more documentation between\n",
    "   * More understandable for those new to coding, because each thing to understand is smaller"
   ]
  }
 ],
 "metadata": {
  "kernelspec": {
   "display_name": "Python 3",
   "language": "python",
   "name": "python3"
  },
  "language_info": {
   "codemirror_mode": {
    "name": "ipython",
    "version": 3
   },
   "file_extension": ".py",
   "mimetype": "text/x-python",
   "name": "python",
   "nbconvert_exporter": "python",
   "pygments_lexer": "ipython3",
   "version": "3.7.3"
  }
 },
 "nbformat": 4,
 "nbformat_minor": 4
}