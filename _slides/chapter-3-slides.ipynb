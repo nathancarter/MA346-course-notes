{
 "cells": [
  {
   "cell_type": "markdown",
   "metadata": {
    "slideshow": {
     "slide_type": "slide"
    }
   },
   "source": [
    "# Chapter 3 - Jupyter\n",
    "\n",
    "[See also the corresponding course notes, here.](../_build/html/chapter-3-jupyter.html)\n",
    "\n",
    "[View a printable version of these slides here.](./chapter-3-slides-printable.html)\n",
    "\n",
    "<font color='red'>These slides have not yet been updated for Summer 2021.  Check back soon.</font>\n"
   ]
  },
  {
   "cell_type": "markdown",
   "metadata": {
    "slideshow": {
     "slide_type": "slide"
    }
   },
   "source": [
    "Jupyter lets you do all this in one place:\n",
    "\n",
    " * write and run code\n",
    " * write explanations of code and data, including with mathematical formulas\n",
    " * view tables, plots, and other visualizations of data\n",
    " * interact with certain types of data visualizations\n",
    "\n",
    "Notice that these things can be summarized as \"math, stats, coding, visualizing, and explaining.\"\n",
    "\n",
    "These are the bread and butter of data science, which is why people use Jupyter."
   ]
  },
  {
   "cell_type": "markdown",
   "metadata": {
    "slideshow": {
     "slide_type": "slide"
    }
   },
   "source": [
    "Jupyter notebooks contain input-output pairs, like this:"
   ]
  },
  {
   "cell_type": "code",
   "execution_count": 1,
   "metadata": {},
   "outputs": [
    {
     "data": {
      "text/plain": [
       "array([-1.5528848 ,  0.12957022, -0.91807189, -0.60007748, -0.50769516,\n",
       "        0.67810184,  0.16894859,  2.25543421,  1.0799978 ,  1.57562487,\n",
       "       -0.94228657,  0.80518276, -0.67946273,  0.87518185, -0.40811446,\n",
       "       -0.65385804, -1.28785419,  0.7768802 , -0.36092852, -0.0990758 ])"
      ]
     },
     "execution_count": 1,
     "metadata": {},
     "output_type": "execute_result"
    }
   ],
   "source": [
    "import numpy as np\n",
    "np.random.normal( 0, 1, 20 )"
   ]
  },
  {
   "cell_type": "code",
   "execution_count": 2,
   "metadata": {},
   "outputs": [
    {
     "data": {
      "text/plain": [
       "[<matplotlib.lines.Line2D at 0x121307860>]"
      ]
     },
     "execution_count": 2,
     "metadata": {},
     "output_type": "execute_result"
    },
    {
     "data": {
      "image/png": "[encoded data removed]",
      "text/plain": [
       "<Figure size 432x288 with 1 Axes>"
      ]
     },
     "metadata": {
      "needs_background": "light"
     },
     "output_type": "display_data"
    }
   ],
   "source": [
    "import matplotlib.pyplot as plt\n",
    "plt.plot( np.random.normal( 0, 1, 20 ) )"
   ]
  },
  {
   "cell_type": "markdown",
   "metadata": {
    "slideshow": {
     "slide_type": "slide"
    }
   },
   "source": [
    "## Important!!!\n",
    "\n",
    "### Jupyter is made of two pieces:\n",
    "\n",
    " 1. The notebook interface, which shows you a document with code and visualizations in it, called \"a Jupyter notebook.\"  (This runs on your computer.)\n",
    " 2. The engine behind the notebook, which runs your code, and is doing its work invisibly in the background; this engine is called the \"kernel.\"  (This can run in the cloud or on your computer, your choice.)"
   ]
  },
  {
   "cell_type": "markdown",
   "metadata": {
    "slideshow": {
     "slide_type": "slide"
    }
   },
   "source": [
    "## Jupyter in the cloud\n",
    "\n",
    "Let's start with a cloud provider, for simplicity.  (You won't have to worry about starting up or shutting down the kernel; the cloud provider handles that.)\n",
    "\n",
    "I've gotten us all [Deepnote](https://deepnote.com/) accounts for the semester.\n",
    "\n",
    "## Jupyter on your computer\n",
    "\n",
    "Later, if you choose, you can install Jupyter on your laptop.\n",
    "\n",
    "[See the instructions in the course notes for doing so.](../_build/html/chapter-3-jupyter.html#jupyter-on-your-machine)"
   ]
  },
  {
   "attachments": {},
   "cell_type": "markdown",
   "metadata": {
    "slideshow": {
     "slide_type": "slide"
    }
   },
   "source": [
    "## Why scientists love Jupyter notebooks\n",
    "\n",
    "1. Markdown cells let the author explain the **motivation behind each computation,** and the **interpretation of the results.**\n",
    "2. Unlike a script, the notebook is **run interactively,** so lengthy computations can be done just once, and then built on without re-running the whole notebook (at least, not very often).\n",
    "3. Good notebooks are **self-documenting.**  Scientists can write “lab reports,” data scientists can write “reports” (typically to other tech people), and computer scientists can write “documentation.”\n",
    "3. Anyone can re-run the notebook as a **reproducibility** check.  Even the author can re-run it later, on **new or updated data,** to get the latest results.  (Contrast this with a spreadsheet.)\n",
    "4. **Visualizations are included** inline and automatically updated with all other computations.\n",
    "\n",
    "[See these interesting example data science notebooks](https://github.com/jupyter/jupyter/wiki/A-gallery-of-interesting-Jupyter-Notebooks#statistics-machine-learning-and-data-science)."
   ]
  },
  {
   "attachments": {},
   "cell_type": "markdown",
   "metadata": {
    "slideshow": {
     "slide_type": "slide"
    }
   },
   "source": [
    "## Why scientists hate Jupyter notebooks\n",
    "\n",
    " 1. With a script, you have to understand only the script.  With a notebook, you also have to **know what code you’ve already run** and what it did.  This is easy to mess up.\n",
    "  * Running cells out-of-order\n",
    "  * Running cells and then changing/deleting them, or forgetting to run them after editing them\n",
    " 2. Because a notebook encourages experimentation, it seems informal, and so people don’**t always apply good coding practices,** such as abstraction and testing.\n",
    " 3. Notebooks **lack helpful coding features** that IDEs have, and that help you avoid errors.\n",
    " 4. Just sharing a notebook itself gives the **illusion of reproducibility.**  Many people don’t follow best practices such as GitHub and Binder when sharing notebooks."
   ]
  }
 ],
 "metadata": {
  "celltoolbar": "Slideshow",
  "kernelspec": {
   "display_name": "Python 3",
   "language": "python",
   "name": "python3"
  },
  "language_info": {
   "codemirror_mode": {
    "name": "ipython",
    "version": 3
   },
   "file_extension": ".py",
   "mimetype": "text/x-python",
   "name": "python",
   "nbconvert_exporter": "python",
   "pygments_lexer": "ipython3",
   "version": "3.7.3"
  }
 },
 "nbformat": 4,
 "nbformat_minor": 4
}