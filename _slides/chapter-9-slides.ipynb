{
 "cells": [
  {
   "cell_type": "markdown",
   "metadata": {
    "slideshow": {
     "slide_type": "slide"
    }
   },
   "source": [
    "# Chapter 9 - Math and Stats in Python\n",
    "\n",
    "[See also the corresponding course notes, here.](../_build/html/chapter-9-math-and-stats.html)\n",
    "\n",
    "<font color='red'>These slides are still in outline form only.  Check back later.</font>\n"
   ]
  },
  {
   "cell_type": "markdown",
   "metadata": {},
   "source": [
    "## Math in Python and NumPy\n",
    "\n",
    "Very quick review of Python's `math` tools and NumPy's as well."
   ]
  },
  {
   "cell_type": "markdown",
   "metadata": {},
   "source": [
    "## Binding function arguments\n",
    "\n",
    "Review the notes on this topic."
   ]
  },
  {
   "cell_type": "markdown",
   "metadata": {},
   "source": [
    "## GB213 in Python\n",
    "\n",
    "Not reviewing this.  It's their job to go over this themselves and ask me questions!  (Take questions now.)"
   ]
  },
  {
   "cell_type": "markdown",
   "metadata": {},
   "source": [
    "## Curve fitting\n",
    "\n",
    "Part of today's slides has to cover the `curve_fit` concept introduced in the notes.  Do so like this:\n",
    "\n",
    "* use the function that they prepared for class today to get the COVID-19 time series data\n",
    "* show them the generic method for doing curve fitting with scipy, by copying the appendix that's currently in Project 1 to be content for today instead\n",
    "* exercise:\n",
    "   1. get that working on your machine\n",
    "   2. abstract that work into a function, using the methods from last week; input: one string containing a state name; output: a tuple containing `M,r,t0` for the state given as input\n"
   ]
  }
 ],
 "metadata": {
  "celltoolbar": "Slideshow",
  "kernelspec": {
   "display_name": "Python 3",
   "language": "python",
   "name": "python3"
  },
  "language_info": {
   "codemirror_mode": {
    "name": "ipython",
    "version": 3
   },
   "file_extension": ".py",
   "mimetype": "text/x-python",
   "name": "python",
   "nbconvert_exporter": "python",
   "pygments_lexer": "ipython3",
   "version": "3.7.3"
  }
 },
 "nbformat": 4,
 "nbformat_minor": 4
}
