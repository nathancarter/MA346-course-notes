{
 "cells": [
  {
   "cell_type": "markdown",
   "metadata": {
    "slideshow": {
     "slide_type": "slide"
    }
   },
   "source": [
    "# Chapter 11 - Processing the Rows of a DataFrame\n",
    "\n",
    "[See also the corresponding course notes, here.](../_build/html/chapter-11-processing-rows.html)\n",
    "\n",
    "[View a printable version of these slides here.](./chapter-11-slides-printable.html)\n"
   ]
  },
  {
   "cell_type": "markdown",
   "metadata": {
    "slideshow": {
     "slide_type": "slide"
    }
   },
   "source": [
    "## Reasons to avoid loops\n",
    "\n",
    " * Readability\n",
    "    * loops are typically *more code*\n",
    "    * sometimes the meaning of the code is clearer with a loop, sometimes clearer other ways\n",
    " * Speed\n",
    "    * loops are typically slower than other options"
   ]
  },
  {
   "cell_type": "markdown",
   "metadata": {
    "slideshow": {
     "slide_type": "slide"
    }
   },
   "source": [
    "## Using `apply()` instead\n",
    "\n",
    " * Usually requires writing the function you want to apply, but not always\n",
    "    * Sometimes the function is built in (like `math.sqrt`)\n",
    "    * Sometimes it's short enough for a `lambda`, as in `lambda name: 'Mr.' in name`\n",
    " * Mostly the same as `map()`\n",
    "    * Some differences detailed in the course notes\n",
    "    * Most importantly, `map()` supports Python dictionaries\n",
    "    * So does `replace()` which doesn't support functions...so many options!\n",
    " * Prepares us for easy parallel processing with `swifter` or `multiprocessing`\n"
   ]
  },
  {
   "cell_type": "markdown",
   "metadata": {
    "slideshow": {
     "slide_type": "slide"
    }
   },
   "source": [
    "## Map-reduce\n",
    "\n",
    "### Exercise 1 - Historic precipitation\n",
    "\n",
    "View the notebook `exercise-1.ipynb` in [this Deepnote project](https://deepnote.com/project/MA346-in-class-exercises-6321-509XD800T1SZYjM3D4847A/%2Fexercise-1.ipynb).\n",
    "\n",
    "Duplicate the project and answer Questions 1-4 in the Exercise 1 notebook.\n",
    "\n",
    "Your instructor will explain how we will present and discuss our answers together."
   ]
  },
  {
   "cell_type": "markdown",
   "metadata": {
    "slideshow": {
     "slide_type": "slide"
    }
   },
   "source": [
    "## Split-apply-combine\n",
    "\n",
    "### Exercise 2 - politics and real estate\n",
    "\n",
    "View the notebook `exercise-2.ipynb` in your own copy of the same Deepnote project.\n",
    "\n",
    "Answer Questions 1-4 in the Exercise 2 notebook.\n",
    "\n",
    "Your instructor will explain how we will present and discuss our answers together."
   ]
  },
  {
   "cell_type": "markdown",
   "metadata": {
    "slideshow": {
     "slide_type": "slide"
    }
   },
   "source": [
    "### Exercise 3 - manufacturing\n",
    "\n",
    "View the notebook `exercise-3.ipynb` in your own copy of the same Deepnote project.\n",
    "\n",
    "It asks you to envision an imaginary scenario of several data tables.  You have to answer Questions 1-3 with plans for how you would write code to answer questions in that situation, using either the map-reduce or split-apply-combine paradigms, as needed.\n",
    "\n",
    "No actual coding is required.\n",
    "\n",
    "Your instructor will explain how we will present and discuss our answers together."
   ]
  }
 ],
 "metadata": {
  "celltoolbar": "Slideshow",
  "kernelspec": {
   "display_name": "Python 3",
   "language": "python",
   "name": "python3"
  },
  "language_info": {
   "codemirror_mode": {
    "name": "ipython",
    "version": 3
   },
   "file_extension": ".py",
   "mimetype": "text/x-python",
   "name": "python",
   "nbconvert_exporter": "python",
   "pygments_lexer": "ipython3",
   "version": "3.7.3"
  }
 },
 "nbformat": 4,
 "nbformat_minor": 4
}