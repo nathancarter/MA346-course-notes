{
 "cells": [
  {
   "cell_type": "markdown",
   "metadata": {
    "slideshow": {
     "slide_type": "slide"
    }
   },
   "source": [
    "# Chapter 13 - Miscellaneous Munging Methods (ETL)\n",
    "\n",
    "[See also the corresponding course notes, here.](../_build/html/chapter-13-etl.html)\n"
   ]
  },
  {
   "cell_type": "markdown",
   "metadata": {
    "slideshow": {
     "slide_type": "slide"
    }
   },
   "source": [
    "## Let's start with some review questions\n",
    "\n",
    "To make sure everyone remembers the essentials of the chapter:\n",
    "\n",
    " 1. What does ETL stand for?\n",
    " 2. Is it the same thing as munging?\n",
    " 3. Why are ETL/munging skills important for data work?\n",
    " 4. Information is data plus what?\n",
    " 5. Who creates a data dictionary and why?\n",
    " 6. What does provenance mean?"
   ]
  },
  {
   "cell_type": "markdown",
   "metadata": {
    "slideshow": {
     "slide_type": "slide"
    }
   },
   "source": [
    "## Missing values\n",
    "\n",
    "Consider whether each of the following is reasonable or not, and be prepared to say why.\n",
    "\n",
    " * In a spreadsheet of daily volunteer hours logged by National Honor Society students, some values are missing.  The staff member in charge of the spreadsheet filled those values with the mean across all days for the student in question.\n",
    " * In a database of historical immigration records, some records mark a person's age with an X.  An analyst, before performing statistics on the data, wants to replace all X values with NaN.\n",
    " * A data scientist is trying to fit a multi-variable linear model to predict the rate of reported intolerant behaviors from variables measuring the employer's culture and commitments to diversity messaging and training.  Some rows in the dataset of companies contain one or more missing values.  The data scientist plans to drop these rows before creating the model."
   ]
  },
  {
   "cell_type": "markdown",
   "metadata": {
    "slideshow": {
     "slide_type": "slide"
    }
   },
   "source": [
    "## File formats\n",
    "\n",
    " * When you get a dataset, which format is the easiest to read in Python?  This suggests that you should create files in this format in what situations?\n",
    " * What is the value of a Python pickle file?"
   ]
  },
  {
   "cell_type": "markdown",
   "metadata": {
    "slideshow": {
     "slide_type": "slide"
    }
   },
   "source": [
    "## Other activities for today\n",
    "\n",
    " * An in-class activity on good and bad data cleaning practices\n",
    "    * [Follow this link to the project on Deepnote.](https://beta.deepnote.com/project/4eaa9a8b-512b-4b29-bf1e-6f522dddda95)\n",
    "    * Study it in groups and we will reconvene to discuss your thoughts on each step of the work therein.\n",
    " * Announcement and discussion of the MA346 Final Project"
   ]
  }
 ],
 "metadata": {
  "celltoolbar": "Slideshow",
  "kernelspec": {
   "display_name": "Python 3",
   "language": "python",
   "name": "python3"
  },
  "language_info": {
   "codemirror_mode": {
    "name": "ipython",
    "version": 3
   },
   "file_extension": ".py",
   "mimetype": "text/x-python",
   "name": "python",
   "nbconvert_exporter": "python",
   "pygments_lexer": "ipython3",
   "version": "3.7.3"
  }
 },
 "nbformat": 4,
 "nbformat_minor": 4
}
