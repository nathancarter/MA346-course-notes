{
 "cells": [
  {
   "cell_type": "markdown",
   "metadata": {},
   "source": [
    "# Course Notes for Data Science (MA346)\n",
    "\n",
    "These course notes are for [Bentley University](http://www.bentley.edu)'s Data Science course (MA346) that will be taught by [Nathan Carter](http://nathancarter.github.io) in Fall 2020.\n",
    "\n",
    "```{warning}\n",
    "This course notes website is just beginning, so the content here is incomplete.  Check back later.    \n",
    "```"
   ]
  },
  {
   "cell_type": "markdown",
   "metadata": {},
   "source": [
    "## Course schedule\n",
    "\n",
    "Each topic below will become a link to what we will cover in class that day, once I've made more progress in completing these course notes.\n",
    "\n",
    "| Week | Date      | Content for the day   |\n",
    "|------|-----------|-----------------------|\n",
    "| 1    | 9/3/2020  | Chapter 1: Introduction to data science ([notes](chapter-1-intro-to-data-science), <a href='../../_slides/chapter-1-slides.html'>slides</a>) |\n",
    "|      |           | Chapter 2: Mathematical foundations ([notes](chapter-2-mathematical-foundations), <a href='../../_slides/chapter-2-slides.html'>slides</a>) |\n",
    "|      |           | [DataCamp to review before Week 2](big-cheat-sheet.html#before-week-2-review-of-cs230) |\n",
    "|      |           | &nbsp;       |\n",
    "| 2    | 9/10/2020 | Chapter 3: Computational notebooks (Jupyter) ([notes](chapter-3-jupyter), <a href='../../_slides/chapter-3-slides.html'>slides</a>) |\n",
    "|      |           | Chapter 4: Python review focusing on pandas and mathematical foundations ([notes](chapter-4-review-of-python-and-pandas), no slides) |\n",
    "|      |           | [DataCamp to review before Week 3](big-cheat-sheet.html#before-week-3) |\n",
    "|      |           | &nbsp;       |\n",
    "| 3    | 9/17/2020 | Chapter 5: Before and after, in mathematics and communication ([notes](chapter-5-before-and-after), <a href='../../_slides/chapter-5-slides.html'>slides</a>) |\n",
    "|      |           | Chapter 6: Pandas single-table verbs ([notes](chapter-6-single-table-verbs), <a href='../../_slides/chapter-6-slides.html'>slides</a>) |\n",
    "|      |           | [DataCamp to review before Week 4](big-cheat-sheet.html#before-week-4-review-of-visualization-in-cs230) |\n",
    "|      |           | &nbsp;       |\n",
    "| 4    | 9/24/2020 | Chapter 7: Abstraction in mathematics and computing (not yet ready) |\n",
    "|      |           | Chapter 8: Version control and GitHub (not yet ready) |\n",
    "|      |           | [DataCamp to review before Week 5](big-cheat-sheet.html#before-week-5) |\n",
    "|      |           | &nbsp;       |\n",
    "| 5    | 10/1/2020 | Chapter 9: Math and stats in Python (not yet ready) |\n",
    "|      |           | Chapter 10: New visualization tools (not yet ready) |\n",
    "|      |           | [DataCamp to review before Week 6](big-cheat-sheet.html#before-week-6) |\n",
    "|      |           | &nbsp;       |\n",
    "| 6    | 10/8/2020 | Chapter 11: Processing the rows of a `DataFrame` (not yet ready) |\n",
    "|      |           | (No DataCamp for next week. Finish project instead.) |\n",
    "|      |           | &nbsp;       |\n",
    "| 7    | 10/15/2020 | Chapter 12: Concatenation and Merging (not yet ready) |\n",
    "|      |           | [DataCamp to review before Week 8](big-cheat-sheet.html#before-week-8) |\n",
    "|      |           | &nbsp;       |\n",
    "| 8    | 10/22/2020 | Chapter 13: Miscellaneous Munging Methods (ETL) (not yet ready) |\n",
    "|      |           | [DataCamp to review before Week 9](big-cheat-sheet.html#before-week-9) |\n",
    "|      |           | &nbsp;       |\n",
    "| 9    | 10/29/2020 | Chapter 14: Dashboards (not yet ready) |\n",
    "|      |           | &nbsp;       |\n",
    "| 10   | 11/5/2020 | Chapter 15: Relations as graphs and network analysis (not yet ready) |\n",
    "|      |           | &nbsp;       |\n",
    "| 11   | 11/12/2020 | Chapter 16: Relations as matrices (not yet ready) |\n",
    "|      |           | Applications of matrix decompositions (not yet ready) |\n",
    "|      |           | &nbsp;       |\n",
    "| 12   | 11/19/2020 | Chapter 17: Introduction to machine learning (not yet ready) |\n",
    "|      |           | &nbsp;       |\n",
    "| 13   | 11/26/2020 | Thanksgiving break                           |\n",
    "|      |           | &nbsp;       |\n",
    "| 14   | 12/3/2020 | Final Exam Review |\n",
    "|      |           | Final Project Workshop |\n"
   ]
  },
  {
   "cell_type": "markdown",
   "metadata": {},
   "source": [
    "\n",
    "```{toctree}\n",
    ":hidden:\n",
    ":titlesonly:\n",
    "\n",
    "\n",
    "chapter-1-intro-to-data-science.ipynb\n",
    "chapter-2-mathematical-foundations.ipynb\n",
    "chapter-3-jupyter.ipynb\n",
    "chapter-4-review-of-python-and-pandas.ipynb\n",
    "chapter-5-before-and-after.ipynb\n",
    "chapter-6-single-table-verbs.ipynb\n",
    "big-cheat-sheet.ipynb\n",
    "anaconda-installation.md\n",
    "vs-code-installation.md\n",
    "```\n"
   ]
  }
 ],
 "metadata": {
  "kernelspec": {
   "display_name": "Python 3",
   "language": "python",
   "name": "python3"
  },
  "language_info": {
   "codemirror_mode": {
    "name": "ipython",
    "version": 3
   },
   "file_extension": ".py",
   "mimetype": "text/x-python",
   "name": "python",
   "nbconvert_exporter": "python",
   "pygments_lexer": "ipython3",
   "version": "3.7.3"
  }
 },
 "nbformat": 4,
 "nbformat_minor": 4
}