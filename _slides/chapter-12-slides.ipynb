{
 "cells": [
  {
   "cell_type": "markdown",
   "metadata": {
    "slideshow": {
     "slide_type": "slide"
    }
   },
   "source": [
    "# Chapter 12 - Concatenation and Merging of DataFrames\n",
    "\n",
    "[See also the corresponding course notes, here.](../_build/html/chapter-12-concat-and-merge.html)\n",
    "\n",
    "[View a printable version of these slides here.](./chapter-12-slides-printable.html)\n",
    "\n",
    "<font color='red'>These slides have not yet been updated for Summer 2021.  Check back soon.</font>\n"
   ]
  },
  {
   "cell_type": "markdown",
   "metadata": {
    "slideshow": {
     "slide_type": "slide"
    }
   },
   "source": [
    "## Concatenation of two datasets is *vertical*\n",
    "\n",
    "![Illustration of stacking two tables of stock data vertically into one larger table](../_images/concat-of-stock-data.png)"
   ]
  },
  {
   "cell_type": "markdown",
   "metadata": {
    "slideshow": {
     "slide_type": "slide"
    }
   },
   "source": [
    "### Code for concatenation\n",
    "\n",
    "```python\n",
    "df_jan = pd.read_csv( '_static/regi-prices-jan-2020.csv' )\n",
    "df_feb = pd.read_csv( '_static/regi-prices-feb-2020.csv' )\n",
    "\n",
    "df_2mo = pd.concat( [ df_jan, df_feb ], ignore_index=True )\n",
    "df_2mo.head()\n",
    "```"
   ]
  },
  {
   "cell_type": "markdown",
   "metadata": {
    "slideshow": {
     "slide_type": "slide"
    }
   },
   "source": [
    "## Merging of two datasets is *horizontal*\n",
    "\n",
    "### Example 1: Same IDs in both datasets, just match up rows\n",
    "\n",
    "![Merging COVID-19 time series data for each country with health care information for each country](../_images/merge-of-health-data.png)"
   ]
  },
  {
   "cell_type": "markdown",
   "metadata": {
    "slideshow": {
     "slide_type": "slide"
    }
   },
   "source": [
    "### Code for a simple merge\n",
    "\n",
    "```python\n",
    "df_merged = pd.merge( df_cases, df_health,\n",
    "    left_on='Country/Region', right_on='Country' )\n",
    "```"
   ]
  },
  {
   "cell_type": "markdown",
   "metadata": {
    "slideshow": {
     "slide_type": "slide"
    }
   },
   "source": [
    "## Merging of two datasets is *horizontal*\n",
    "\n",
    "### Example 2: Some rows in the left table aren't in the right table\n",
    "\n",
    "![Merging a comprehensive higher education dataset with climate data about a subset of its schools](../_images/merge-of-school-data.png)"
   ]
  },
  {
   "cell_type": "markdown",
   "metadata": {
    "slideshow": {
     "slide_type": "slide"
    }
   },
   "source": [
    "### Code for a left join (merge)\n",
    "\n",
    "```python\n",
    "df_merged = pd.merge( df_big, df_climate,\n",
    "    left_on='NAME', right_on='fullname', how='left' )\n",
    "```"
   ]
  },
  {
   "cell_type": "markdown",
   "metadata": {
    "slideshow": {
     "slide_type": "slide"
    }
   },
   "source": [
    "## Merging of two datasets is *horizontal*\n",
    "\n",
    "### Example 3: Keeping only observations appearing in both tables\n",
    "\n",
    "![Merging NFL player statistics with records of NFL plays](../_images/merge-of-nfl-data.png)"
   ]
  },
  {
   "cell_type": "markdown",
   "metadata": {
    "slideshow": {
     "slide_type": "slide"
    }
   },
   "source": [
    "### Code for an inner join (merge)\n",
    "\n",
    "An inner join is the default, so you can omit `how='inner'` in this case.\n",
    "\n",
    "```python\n",
    "df_merged = pd.merge( df_big, df_climate,\n",
    "    left_on='NAME', right_on='fullname', how='inner' )\n",
    "```"
   ]
  },
  {
   "cell_type": "markdown",
   "metadata": {
    "slideshow": {
     "slide_type": "slide"
    }
   },
   "source": [
    "## Merging of two datasets is *horizontal*\n",
    "\n",
    "### Example 3: Keeping all observations appearing in either table\n",
    "\n",
    "![Merging data about corporate executives with data about marketing spending for a fictitious set of firms](../_images/merge-of-firm-data.png)"
   ]
  },
  {
   "cell_type": "markdown",
   "metadata": {
    "slideshow": {
     "slide_type": "slide"
    }
   },
   "source": [
    "## For discussion\n",
    "\n",
    "We will look at four hypothetical situations for merging DataFrames.  In each case, you will answer:\n",
    "\n",
    " 1. Should we apply `pd.concat()` or `pd.merge()`?\n",
    " 2. If the answer to 1. is to apply `pd.merge()`, then:\n",
    "     * How should we merge (inner/left/right/outer)?\n",
    "     * On what column(s) should we merge?\n",
    "     * Do we need to manipulate any column(s) first?"
   ]
  },
  {
   "cell_type": "markdown",
   "metadata": {
    "slideshow": {
     "slide_type": "slide"
    }
   },
   "source": [
    "### Concat/Merge Example 1\n",
    "\n",
    "(Thanks to Steven Skiena in *The Data Science Design Manual* for this example, a real project he did with a graduate student.)\n",
    "\n",
    "**Dataset 1:**  A large sample of news stories about various publicly traded companies from 2015 to 2020, with story release dates and measurements of the sentiments expressed in those news stories\n",
    "\n",
    "**Dataset 2:**  Records of the the share prices of the publicly traded companies for the same time period"
   ]
  },
  {
   "cell_type": "markdown",
   "metadata": {
    "slideshow": {
     "slide_type": "slide"
    }
   },
   "source": [
    "### Concat/Merge Example 2\n",
    "\n",
    "**Dataset 1:**  Records of all NCAA Division I hockey games for the 2018 season\n",
    "\n",
    "**Dataset 2:**  Records of all NCAA Division III hockey games for the 2018 season\n",
    "\n",
    "For example, the record of a game might contain the home and away team names and scores, number of shots on goal and penalties, MVP name, and attendance number."
   ]
  },
  {
   "cell_type": "markdown",
   "metadata": {
    "slideshow": {
     "slide_type": "slide"
    }
   },
   "source": [
    "### Concat/Merge Example 3\n",
    "\n",
    "**Dataset 1:**  Daily weather summaries for the counties in the state of Tennessee in summer 1995\n",
    "\n",
    "**Dataset 2:**  Hourly electrical prices for each county in the state of Tennessee in summer 1995"
   ]
  },
  {
   "cell_type": "markdown",
   "metadata": {
    "slideshow": {
     "slide_type": "slide"
    }
   },
   "source": [
    "### Concat/Merge Example 4\n",
    "\n",
    "**Dataset 1:**  The baseline health information gathered from each subject in a drug's clinical trial before the trial begins, together with the information about whether that subject has been randomly assigned the treatment or the placebo\n",
    "\n",
    "**Dataset 2:**  The responses measured for each subject during and after the trial with respect to the specific problems the drug is trying to address"
   ]
  },
  {
   "cell_type": "markdown",
   "metadata": {
    "slideshow": {
     "slide_type": "slide"
    }
   },
   "source": [
    "### In-class Exercise 1 (short)\n",
    "\n",
    "In a previous class, we took two datasets and did a simple merge that involved only one column.\n",
    " * Dataset 1 was [the sample of home mortgages from 2018](../_static/practice-project-dataset-1.csv).\n",
    " * Dataset 2 was created by you, extracting 2016 voting data from [this web page](https://www.npr.org/2016/11/08/500927768/2016-presidential-election-results-for-each-state).\n",
    "\n",
    "We extracted the percentage of each state who voted for Trump and added that data as a new column in the home mortgage dataset.  We used `dict(zip(...))` to convert the voting data into a dictionary and `df['column'].map()` to apply it to the mortgage dataset.\n",
    "\n",
    "Redo the same exercise now, but using `pd.merge()` instead of the tools we used last time.  (Last time, you also had to do some plotting and hypothesis testing.  There is no need to repeat that.  Just update the merging code.)"
   ]
  },
  {
   "cell_type": "markdown",
   "metadata": {
    "slideshow": {
     "slide_type": "slide"
    }
   },
   "source": [
    "### In-class Exercise 2 (long)\n",
    "\n",
    "In a previous class, we examined a dataset of baseball player salaries.\n",
    " * Dataset 1 will be a simplified version of that baseball salary dataset, [available here](../_static/baseball-salaries-simplified.csv).\n",
    " * Dataset 2 will be the statistics for all batters in Major League Baseball from 1988 through 2016, [available here](../_static/player-batting-stats-1988-2016.csv).\n",
    "\n",
    "Merge the two datasets on player name, team, and year.  This will require some of the advanced techniques introduced at the end of [the course notes on merging](../_build/html/chapter-12-concat-and-merge.html).\n",
    "\n",
    "***NOTE:*** This will be complex and annoying.  We may not complete it before the end of class.  Make as much progress as you can, while doing logical/sensible work each step of the way."
   ]
  }
 ],
 "metadata": {
  "celltoolbar": "Slideshow",
  "kernelspec": {
   "display_name": "Python 3",
   "language": "python",
   "name": "python3"
  },
  "language_info": {
   "codemirror_mode": {
    "name": "ipython",
    "version": 3
   },
   "file_extension": ".py",
   "mimetype": "text/x-python",
   "name": "python",
   "nbconvert_exporter": "python",
   "pygments_lexer": "ipython3",
   "version": "3.7.3"
  }
 },
 "nbformat": 4,
 "nbformat_minor": 4
}