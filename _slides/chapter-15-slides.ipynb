{
 "cells": [
  {
   "cell_type": "markdown",
   "metadata": {
    "slideshow": {
     "slide_type": "slide"
    }
   },
   "source": [
    "# Chapter 15 - Relations as Graphs - Network Analysis\n",
    "\n",
    "[See also the corresponding course notes, here.](../_build/html/chapter-15-networks.html)\n",
    "\n",
    "[View a printable version of these slides here.](./chapter-15-slides-printable.html)\n",
    "\n",
    "<font color='red'>These slides have not yet been updated for Summer 2021.  Check back soon.</font>\n"
   ]
  },
  {
   "cell_type": "markdown",
   "metadata": {
    "slideshow": {
     "slide_type": "slide"
    }
   },
   "source": [
    "## Review of terminology\n",
    "\n",
    "What do the following terms mean?\n",
    " * graph\n",
    " * vertex and edge\n",
    " * directed and undirected"
   ]
  },
  {
   "cell_type": "markdown",
   "metadata": {
    "slideshow": {
     "slide_type": "slide"
    }
   },
   "source": [
    "## Graph examples from the course notes\n",
    "\n",
    " * Shipping records among U.S. states (to be analyzed in class today)\n",
    " * Dolphin socialization records\n",
    " * Google's model of all web links\n",
    " * Small network of friends and advice\n",
    "\n",
    "![Image of five ovals, labeled Augustus, Beatriz, Cyrano, Dauphine, Englebert, some connected in pairs by arrows](../_images/friends-graph.png)"
   ]
  },
  {
   "cell_type": "markdown",
   "metadata": {
    "slideshow": {
     "slide_type": "slide"
    }
   },
   "source": [
    "## Another graph example: Data Flow Diagrams\n",
    "\n",
    "Example using the free software [Knime](https://www.knime.com/) (which is similar to the commercial software [Tableau Prep](https://www.tableau.com/trial/tableau-prep)):\n",
    "\n",
    "![Screenshot of a data flow diagram in the software Knime](../_images/knime-screenshot-1.png)"
   ]
  },
  {
   "cell_type": "markdown",
   "metadata": {
    "slideshow": {
     "slide_type": "slide"
    }
   },
   "source": [
    "## Another graph example: Data Flow Diagrams\n",
    "\n",
    "This shows how to use Knime for one of the projects in MA346 in Spring 2020.\n",
    "\n",
    "![Screenshot of a data flow diagram in the software Knime](../_images/knime-screenshot-2.png)"
   ]
  },
  {
   "cell_type": "markdown",
   "metadata": {
    "slideshow": {
     "slide_type": "slide"
    }
   },
   "source": [
    "## Another graph example: Git commits and merges\n",
    "\n",
    "![Screenshot of the graph of git commits and merges in a small repository](../_images/git-graph.jpg)\n",
    "\n",
    "Source: [a blog post about git](https://medium.com/@mena.meseha/git-merge-vs-rebase-556563b26431)"
   ]
  },
  {
   "cell_type": "markdown",
   "metadata": {
    "slideshow": {
     "slide_type": "slide"
    }
   },
   "source": [
    "## Review of data storage\n",
    "\n",
    "Explain each of the following ways to store graph data in a table, based on the friends-and-advice example from the course notes.\n",
    "\n",
    "|               | Augustus | Beatriz | Cyrano | Dauphine | Englebert |\n",
    "|---------------|----------|---------|--------|----------|-----------|\n",
    "| **Augustus**  |  False   |  False  |  True  |   False  |   False   |\n",
    "| **Beatriz**   |  False   |  False  |  True  |   False  |   False   |\n",
    "| **Cyrano**    |  False   |  True   |  False |   False  |   True    |\n",
    "| **Dauphine**  |  False   |  False  |  True  |   False  |   False   |\n",
    "| **Englebert** |  True    |  True   |  False |   False  |   False   |\n",
    "\n",
    "|   From    |     To    |\n",
    "|-----------|-----------|\n",
    "| Augustus  |  Cyrano   |\n",
    "|  Beatriz  |  Cyrano   |\n",
    "|  Cyrano   |  Beatriz  |\n",
    "|  Cyrano   | Englebert |\n",
    "| Dauphine  |  Cyrano   |\n",
    "| Englebert | Augustus  |\n",
    "| Englebert |  Beatriz  |\n"
   ]
  },
  {
   "cell_type": "markdown",
   "metadata": {
    "slideshow": {
     "slide_type": "slide"
    }
   },
   "source": [
    "## Discussion\n",
    "\n",
    "Given a DataFrame `df` that contains an edge list, how would we do each of the following things?\n",
    " * Add an edge to the list\n",
    " * Remove an edge from the list\n",
    " * Compute the collection of vertices that you can get to in just one step from a given starting vertex\n",
    " * Compute the collection of vertices that can get, in just one step, to a given destination vertex"
   ]
  },
  {
   "cell_type": "markdown",
   "metadata": {
    "slideshow": {
     "slide_type": "slide"
    }
   },
   "source": [
    "## Practice with NetworkX\n",
    "\n",
    "Most of today will be spent on an extended exercise in loading and visualizing the 1997 shipping dataset you prepare for today in homework.\n",
    "\n",
    "### Step 1\n",
    "\n",
    "Open the notebook or script you created for homework, which loads and manipulates the shipping data.\n",
    "\n",
    "Add the code to `import networkx as nx` and ensure that it succeeds."
   ]
  },
  {
   "cell_type": "markdown",
   "metadata": {
    "slideshow": {
     "slide_type": "slide"
    }
   },
   "source": [
    "### Step 2\n",
    "\n",
    "Some of the shipping data that should be numeric is expressed as text, using either \"S\", \"-\", or an empty string instead of a measurement for value, tons, or ton-miles.  Clean up the data so that all of these symbols become missing values instead.\n",
    "\n",
    "The dataset uses 0 as the code to mean \"all commodities combined.\"  We will focus exclusively on these measurements, rather than on individual commodities.  Filter the shipping table so that it keeps only those records and discards the rest."
   ]
  },
  {
   "cell_type": "markdown",
   "metadata": {
    "slideshow": {
     "slide_type": "slide"
    }
   },
   "source": [
    "### Step 3\n",
    "\n",
    "Merge the shipping data and the information about distance and adjacency between states, so that you create a table with the following format.\n",
    "\n",
    "|    | origin   | dest   |   Value($ mil) |   Tons(000) |   Ton-miles(mil) |   Distance(km) |   adjacent |\n",
    "|---:|:---------|:-------|---------------:|------------:|-----------------:|---------------:|-----------:|\n",
    "|  0 | AK       | AK     |           5376 |       17448 |             2624 |        64.0919 |          1 |\n",
    "|  1 | AK       | AL     |            nan |         nan |              nan |      4581.72   |          0 |\n",
    "|  2 | AK       | AR     |            nan |         nan |              nan |      4036.35   |          0 |\n",
    "|  3 | AK       | AZ     |            nan |         nan |              nan |      3217.3    |          0 |\n",
    "|  4 | AK       | CA     |            nan |         nan |              nan |      2387.07   |          0 |\n"
   ]
  },
  {
   "cell_type": "markdown",
   "metadata": {
    "slideshow": {
     "slide_type": "slide"
    }
   },
   "source": [
    "### Step 4\n",
    "\n",
    "Convert the above shipping data into a format suitable for use in creating a directed graph among the states.\n",
    " * Recall that you create a new, empty, directed graph in NetworkX using `nx.DiGraph()`.\n",
    " * See [this section of the course notes](../_build/html/chapter-15-networks.html#loading-network-data) for a review of how to add nodes and edges to a NetworkX graph.\n",
    "\n",
    "Verify that your work succeeded by calling `len()` on your graph object and ensuring that it contains 50 states."
   ]
  },
  {
   "cell_type": "markdown",
   "metadata": {
    "slideshow": {
     "slide_type": "slide"
    }
   },
   "source": [
    "### Step 5\n",
    "\n",
    "Draw your graph with `nx.draw()`.\n",
    "\n",
    "What's wrong with this approach?\n",
    "\n",
    "Brainstorm some ideas for how to improve the resulting visualization.\n",
    "\n",
    "We will discuss them in class, and then implement them."
   ]
  },
  {
   "cell_type": "markdown",
   "metadata": {
    "slideshow": {
     "slide_type": "slide"
    }
   },
   "source": [
    "### Step 6\n",
    "\n",
    "The *degree centrality* of a graph ranks vertices in the graph just by counting the number of connections they have.\n",
    "\n",
    "Show the top 10 states in terms of number of trading partners, in decreasing order."
   ]
  },
  {
   "cell_type": "markdown",
   "metadata": {
    "slideshow": {
     "slide_type": "slide"
    }
   },
   "source": [
    "### Step 7\n",
    "\n",
    "Use same shipping data to create a DataFrame that is an edge list for just those states that are adjacent to one another.\n",
    "\n",
    "Visualize this network using `nx.draw()`.  Does it look anything like the United States?"
   ]
  },
  {
   "cell_type": "markdown",
   "metadata": {
    "slideshow": {
     "slide_type": "slide"
    }
   },
   "source": [
    "## Stepping outside of Python\n",
    "\n",
    "To experience software that lets you do ETL using data flow diagrams, try this:\n",
    " 1. Download the free software Knime from [here](https://www.knime.com/).\n",
    " 2. Redo the homework assignment you prepared for today (manipulating the shipping data) in Knime.\n",
    "\n",
    "The software is sufficiently intuitive that you probably don't even need instructions!"
   ]
  }
 ],
 "metadata": {
  "celltoolbar": "Slideshow",
  "kernelspec": {
   "display_name": "Python 3",
   "language": "python",
   "name": "python3"
  },
  "language_info": {
   "codemirror_mode": {
    "name": "ipython",
    "version": 3
   },
   "file_extension": ".py",
   "mimetype": "text/x-python",
   "name": "python",
   "nbconvert_exporter": "python",
   "pygments_lexer": "ipython3",
   "version": "3.7.3"
  }
 },
 "nbformat": 4,
 "nbformat_minor": 4
}