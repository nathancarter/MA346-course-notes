{
 "cells": [
  {
   "cell_type": "markdown",
   "metadata": {
    "slideshow": {
     "slide_type": "slide"
    }
   },
   "source": [
    "# Chapter 11 - Processing the Rows of a DataFrame\n",
    "\n",
    "[See also the corresponding course notes, here.](../_build/html/chapter-11-processing-rows.html)\n",
    "\n",
    "[View a printable version of these slides here.](./chapter-11-slides-printable.html)\n",
    "\n",
    "<font color='red'>These slides have not yet been updated for Summer 2021.  Check back soon.</font>\n"
   ]
  },
  {
   "cell_type": "markdown",
   "metadata": {
    "slideshow": {
     "slide_type": "slide"
    }
   },
   "source": [
    "## Reasons to avoid loops\n",
    "\n",
    " * Readability\n",
    "    * loops are typically *more code*\n",
    "    * sometimes the meaning of the code is clearer with a loop, sometimes clearer other ways\n",
    " * Speed\n",
    "    * loops are typically slower than other options"
   ]
  },
  {
   "cell_type": "markdown",
   "metadata": {
    "slideshow": {
     "slide_type": "slide"
    }
   },
   "source": [
    "## Using `apply()` instead\n",
    "\n",
    " * Usually requires writing the function you want to apply, but not always\n",
    "    * Sometimes the function is built in (like `math.sqrt`)\n",
    "    * Sometimes it's short enough for a `lambda`, as in `lambda name: 'Mr.' in name`\n",
    " * Mostly the same as `map()`\n",
    "    * Some differences detailed in the course notes\n",
    "    * Most importantly, `map()` supports Python dictionaries\n",
    " * Prepares us for easy parallel processing with `swifter` or `multiprocessing`\n"
   ]
  },
  {
   "cell_type": "markdown",
   "metadata": {
    "slideshow": {
     "slide_type": "slide"
    }
   },
   "source": [
    "## Map-reduce\n",
    "\n",
    "### Exercise 1 - Historic precipitation\n",
    "\n",
    "The file USW00094850.csv ([download here](../_static/USW00094850.csv)) was a free download from the National Oceanic and Atmospheric Assocation (originally [here](https://www.ncei.noaa.gov/data/coop-hourly-precipitation/v2/doc/readme.csv.txt)).\n",
    "\n",
    "Its full documentation appears [here](https://www.ncei.noaa.gov/data/coop-hourly-precipitation/v2/doc/readme.csv.txt), but the key points are:\n",
    "\n",
    " * Each row is for a separate day between Feb 1, 1979 and June 7, 2020.\n",
    " * Each row contains precipitation measurements taken in Marquette, MI, near Lake Superior.\n",
    " * There are hourly rows in great detail, but the column \"DlySum\" is a sum for the entire day.\n",
    " * Units are in hundredths of an inch.\n",
    "\n",
    "First, load the file into a Python script or Jupyter notebook."
   ]
  },
  {
   "cell_type": "markdown",
   "metadata": {
    "slideshow": {
     "slide_type": "slide"
    }
   },
   "source": [
    "### Exercise 1 continued\n",
    "\n",
    "**Question 1:** What was the total number of inches of precipitation in 1990?\n",
    "\n",
    "**Question 2:** What percentage of days in the 2000s had at least 1 inch of precipitation?\n",
    "\n",
    "**Question 3:** On what date did the highest precipitation take place, as far as this data shows?\n",
    "\n",
    "**Question 4:** Did any other date tie with that one for the highest?"
   ]
  },
  {
   "cell_type": "markdown",
   "metadata": {
    "slideshow": {
     "slide_type": "slide"
    }
   },
   "source": [
    "## Split-apply-combine\n",
    "\n",
    "### Exercise 2\n",
    "\n",
    "In this exercise, we will use two datasets.\n",
    " 1. the sample of home mortgage applications we've used in several different weeks of the course, `practice-project-dataset-1.csv`\n",
    " 2. the file you prepared as homework for today, of 2016 election results by state, which we'll call `npr-2016-election-data.csv`\n",
    "\n",
    "**Question 1:** What is the median property value for mortgage applications by state?\n",
    "\n",
    "**Question 2:** What is the median property value for mortgage applications by race of primary borrower, sorted in descending order?"
   ]
  },
  {
   "cell_type": "markdown",
   "metadata": {
    "slideshow": {
     "slide_type": "slide"
    }
   },
   "source": [
    "### Exercise 2, continued\n",
    "\n",
    "This final pieces of Exercise 2 do not require using the split-apply-combine pattern.\n",
    "\n",
    "**Question 3:** Create a new column in the mortgage dataset that assigns to each mortgage the percentage of votes that went to Trump in that state in 2016.  Create a scatterplot of that column against property value.  To make it reasonable, you may need to ignore data points for houses costing over \\$500,000.\n",
    "\n",
    "**Question 4:** Consider just the most Republican states ($\\ge60\\%$ for Trump) vs. just the most Democratic states ($\\le40\\%$ for Trump), and wonder whether the median property value is different for those two subsamples.  Run a hypothesis test at the 95% confidence level for this question."
   ]
  },
  {
   "cell_type": "markdown",
   "metadata": {
    "slideshow": {
     "slide_type": "slide"
    }
   },
   "source": [
    "### Exercise 3 (no coding required)\n",
    "\n",
    "Imagine a folder containing several files:\n",
    " * One is a table of all the factories owned by a particular company, and the attributes of each.\n",
    " * Another is a table of all the employees of that company, and their individual data, including which factory they work at.\n",
    " * There are several other files, one for each factory, logging its production of each type of unit over the past several years.\n",
    " \n",
    "For each computation below, determine whether its form is map-reduce, split-apply-combine, or something else.  If it does fit one of those two common forms, explain what the \"map\" step would require, or the \"split\" step, and so on.\n",
    "\n",
    "**Question 1:** We want to compute the average number of units produced across all factories in the past quarter."
   ]
  },
  {
   "cell_type": "markdown",
   "metadata": {
    "slideshow": {
     "slide_type": "slide"
    }
   },
   "source": [
    "### Exercise 3 continued\n",
    "\n",
    "**Question 2:** We want to compute the median salary of employees by factory.\n",
    "\n",
    "**Question 3:** We want to see a scatterplot of the relationship between number of employees at a factory and average daily units produced at that factory.\n"
   ]
  }
 ],
 "metadata": {
  "celltoolbar": "Slideshow",
  "kernelspec": {
   "display_name": "Python 3",
   "language": "python",
   "name": "python3"
  },
  "language_info": {
   "codemirror_mode": {
    "name": "ipython",
    "version": 3
   },
   "file_extension": ".py",
   "mimetype": "text/x-python",
   "name": "python",
   "nbconvert_exporter": "python",
   "pygments_lexer": "ipython3",
   "version": "3.7.3"
  }
 },
 "nbformat": 4,
 "nbformat_minor": 4
}