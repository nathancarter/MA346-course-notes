{
 "cells": [
  {
   "cell_type": "markdown",
   "metadata": {
    "slideshow": {
     "slide_type": "slide"
    }
   },
   "source": [
    "# Chapter 16 - Relations as Matrices\n",
    "\n",
    "[See also the corresponding course notes, here.](../_build/html/chapter-16-matrices.html)\n",
    "\n",
    "[View a printable version of these slides here.](./chapter-16-slides-printable.html)\n",
    "\n",
    "<font color='red'>These slides have not yet been updated for Summer 2021.  Check back soon.</font>\n"
   ]
  },
  {
   "cell_type": "markdown",
   "metadata": {
    "slideshow": {
     "slide_type": "slide"
    }
   },
   "source": [
    "## Reviewing the chapter\n",
    "\n",
    "In the course notes, we discussed a recommender system, which takes as input a user's preferences about past products (movies, in the chapter) and recommends new products based on those preferences.\n",
    "\n",
    "*Question 1.* We stored previous users' preferences in a matrix for reference in helping make recommendations.  **What were the row and column headings in our preferences matrix?**  (Not the specific entries, of course, but what real-world groups did they represent?)\n",
    "\n",
    "|       | ? | ? | ? |\n",
    "|-------|---|---|---|\n",
    "| **?** | 1 | 0 | 0 |\n",
    "| **?** | 0 | 1 | 1 |\n",
    "| **?** | 1 | 0 | 1 |\n"
   ]
  },
  {
   "cell_type": "markdown",
   "metadata": {
    "slideshow": {
     "slide_type": "slide"
    }
   },
   "source": [
    "## Reviewing the chapter\n",
    "\n",
    "When a new user arrived, we needed their preferences as an input to our recommendation algorithm.\n",
    "\n",
    "*Question 2.* **In what format did we expect/store those preferences?**\n"
   ]
  },
  {
   "cell_type": "markdown",
   "metadata": {
    "slideshow": {
     "slide_type": "slide"
    }
   },
   "source": [
    "## Reviewing the chapter\n",
    "\n",
    "We used matrix multiplication (written in Python with the `@` symbol) to \"combine\" the preferences matrix with the new user's preferences, as in `prefs_matrix @ new_user_prefs`.\n",
    "\n",
    "*Question 3.*  **What type of result did this create?**  (The specific values are not important, but what kind of object is it, what shape, etc.?)\n",
    "\n",
    "$$ \\text{prefs_matrix @ new_user_prefs}=\\left[\\begin{array}{ccc}1&0&0\\\\0&1&1\\\\1&0&1\\end{array}\\right]\\left[\\begin{array}{c}1\\\\0\\\\0\\end{array}\\right]=\\text{?} $$"
   ]
  },
  {
   "cell_type": "markdown",
   "metadata": {
    "slideshow": {
     "slide_type": "slide"
    }
   },
   "source": [
    "## Reviewing the chapter\n",
    "\n",
    "*Question 4.*  **Why did we normalize the rows of the preferences matrix?**\n",
    "\n",
    "*Question 5.*  **What does it mean to normalize the row of a matrix?**\n",
    "\n",
    "*Question 6.*  **When we had a perfectly good user preferences matrix, with precise data from each user, why did we choose to replace it with an approximation?**"
   ]
  },
  {
   "cell_type": "markdown",
   "metadata": {
    "slideshow": {
     "slide_type": "slide"
    }
   },
   "source": [
    "## About the preparatory homework\n",
    "\n",
    "Recall that you did your work in two phases:\n",
    " 1. Sample a subset of all users of the This Is My Jam archive.\n",
    " 2. Get all \"jams\" associated with any user in your subset.\n",
    "\n",
    "Why do you think the instructions were explicitly split into those two steps?  Why couldn't we just randomly sample jams from the overall data set in just one step instead?"
   ]
  },
  {
   "cell_type": "markdown",
   "metadata": {
    "slideshow": {
     "slide_type": "slide"
    }
   },
   "source": [
    "## Today's exercise\n",
    "\n",
    "In class today we'll be repeating the example from [the Chapter 16 notes](../_build/html/chapter-16-matrices.html), but with a real dataset (the songs data you prepared for class today).\n",
    "\n",
    "Our schedule will be like this, working in groups:\n",
    " 1. Create and approximate a normalized preferences matrix from the data you prepared\n",
    " 2. Take the middle-of-class break\n",
    " 3. Apply our approximation to our own individual musical tastes\n",
    " 4. Sample the resulting song recommendations and assess whether they're any good!"
   ]
  },
  {
   "cell_type": "markdown",
   "metadata": {
    "slideshow": {
     "slide_type": "slide"
    }
   },
   "source": [
    "## Before we begin\n",
    "\n",
    "You will probably want to do today's work in a new Jupyter notebook or Python script, beginning by importing the CSV file you prepared for class today, `jam-sample.csv`.\n",
    "\n",
    "## Step 1: Create an adjacency matrix\n",
    "\n",
    "Convert the edge list you created for today into an adjacency matrix, as described in [this section of the chapter notes](../_build/html/chapter-16-matrices.html#pivoting-an-edge-list).\n",
    "\n",
    "As a quick check, you can compute `your_matrix.shape` and verify that\n",
    " 1. the number of rows is between 1000 and 2000, however many users you chose to sample, and\n",
    " 2. the number of columns is between 15000 and 30000, however many songs those users happened to like."
   ]
  },
  {
   "cell_type": "markdown",
   "metadata": {
    "slideshow": {
     "slide_type": "slide"
    }
   },
   "source": [
    "## Step 2: Normalize the rows\n",
    "\n",
    "Normalize the rows of your adjacency matrix, as described in [this section of the chapter notes](../_build/html/chapter-16-matrices.html#normalizing-rows).\n",
    "\n",
    "You can verify that this worked by computing the norms of the rows again after you've done the work, and all should be almost exactly 1.0.  (If our computers were perfect, they'd all be exactly 1.0, but there is some slight imprecision in using any finite computing device.)"
   ]
  },
  {
   "cell_type": "markdown",
   "metadata": {
    "slideshow": {
     "slide_type": "slide"
    }
   },
   "source": [
    "## Step 3: Compute the SVD\n",
    "\n",
    "The way we've chosen to create an approximation of our adjacency matrix is using the Singular Value Decomposition (SVD) introduced in the course notes.\n",
    "\n",
    "Create the SVD for your matrix, using the technique from [this section of the chapter notes](../_build/html/chapter-16-matrices.html#the-svd).\n",
    "\n",
    "Once you've done so, you can check to see if your results make sense by computing the shapes of your $U$, $\\Sigma$, and $V$ matrices.\n",
    " 1. `U.shape` should be $n\\times n$ for some value of $n$ in the range 1000-2000, the number of rows in your original preferences matrix.\n",
    " 2. `V.shape` should be $m\\times m$ for some value of $m$ in the range 15000-30000, the number of columns in your original preferences matrix.\n",
    " 3. `Σ.shape` should be a single number, the same $n$ value from `U.shape`."
   ]
  },
  {
   "cell_type": "markdown",
   "metadata": {
    "slideshow": {
     "slide_type": "slide"
    }
   },
   "source": [
    "## Step 4: Prepare the $\\rho$ function\n",
    "\n",
    "In [this section of the chapter notes](../_build/html/chapter-16-matrices.html#measuring-the-quality-of-the-approximation), we learned how to write a function $\\rho$ that takes as input the number of singular values we plan to remove, and it lets us know the error level of the resulting approximation.\n",
    "\n",
    "Bring that function into your work and verify that you can run it and it produces sensible results.  Examples:\n",
    " * `ρ(0)` should give 0 (no error if we remove nothing)\n",
    " * `ρ(1)` should give a very small number\n",
    " * `ρ(1000)` (or whatever your $n$ value is) should give a value close to 1.0"
   ]
  },
  {
   "cell_type": "markdown",
   "metadata": {
    "slideshow": {
     "slide_type": "slide"
    }
   },
   "source": [
    "## Step 5: Evaluate $\\rho$ on many possible inputs\n",
    "\n",
    "Create a table of $\\rho$ values, showing $\\rho(i)$ for various $i$ between 1 and $n$.  Python's `range()` function can be useful here, especially since its third parameter can create ranges with large jumps."
   ]
  },
  {
   "cell_type": "code",
   "execution_count": 2,
   "metadata": {},
   "outputs": [
    {
     "data": {
      "text/plain": [
       "[1, 101, 201, 301, 401, 501, 601, 701, 801, 901]"
      ]
     },
     "execution_count": 2,
     "metadata": {},
     "output_type": "execute_result"
    }
   ],
   "source": [
    "list( range( 1, 1001, 100 ) )"
   ]
  },
  {
   "cell_type": "markdown",
   "metadata": {},
   "source": [
    "Choose a value for $i$ that you will use going forward; choose one that keeps the error level below 0.5."
   ]
  },
  {
   "cell_type": "markdown",
   "metadata": {
    "slideshow": {
     "slide_type": "slide"
    }
   },
   "source": [
    "## Step 6: Approximate the preferences matrix\n",
    "\n",
    "In [this section of the chapter notes](../_build/html/chapter-16-matrices.html#choosing-which-approximation-to-use), we saw code for creating an approximate version of the preferences matrix, by dropping the $i$ lowest singular values.\n",
    "\n",
    "Apply that technique to your preferences matrix now.\n",
    "\n",
    "As a quick check, if you compute the shape of the resulting matrix, it should be the same as the shape of the original preferences matrix."
   ]
  },
  {
   "cell_type": "markdown",
   "metadata": {
    "slideshow": {
     "slide_type": "slide"
    }
   },
   "source": [
    "## Break\n",
    "\n",
    "We'll take our 10-minute break at this point."
   ]
  },
  {
   "cell_type": "markdown",
   "metadata": {
    "slideshow": {
     "slide_type": "slide"
    }
   },
   "source": [
    "## Step 7: Creating a preferences vector\n",
    "\n",
    "We'll want to be able to create realistic preferences vectors about the songs in our dataset.  Recall that a preferences vector is mostly zeros, but has a few ones to indicate which songs the user liked.\n",
    "\n",
    " 1. Create a function that takes some text as input and searches all song names in our matrix, returning the songs that contain the given text, and their corresponding column indices.\n",
    " 2. Try your function out: Search for some song or artist names that you like until you have found 5 of them in our data set.  Write down the column index for each.\n",
    " 3. Create a function that takes a list of column indices and creates a song preferences vector from it.  Recall that such a vector is a pandas Series whose index is all the song names and that contains mostly zeros, but ones in the indices you specify.\n",
    " 4. Create the song preferences vector from your chosen five songs."
   ]
  },
  {
   "cell_type": "markdown",
   "metadata": {
    "slideshow": {
     "slide_type": "slide"
    }
   },
   "source": [
    "## Step 8: Finding users like you\n",
    "\n",
    "Recall that we can compute how similar your preferences are to those of the users in our dataset with a single matrix multiplication.\n",
    "\n",
    " 1. If your approximated preferences matrix is called `A` and your preferences vector is called `pv`, then compute `A @ pv`.\n",
    "     * If you encounter an error, it is probably because the size or index of your preferences vector is incorrect; check the previous slide to be sure you have constructed it correctly.\n",
    "     * You may also want to check to verify that the result of this computation is a pandas Series associating each user from your `jam-sample.csv` file with a number that represents their similarity to your preferences.\n",
    " 2. Compute just the top 1% or 0.5% of those users based on the similarity scores.\n"
   ]
  },
  {
   "cell_type": "markdown",
   "metadata": {
    "slideshow": {
     "slide_type": "slide"
    }
   },
   "source": [
    "## Step 9: Finding songs you might like\n",
    "\n",
    "Now that we know users that have your preferences, let's see what songs they like.  These will be your recommendations.\n",
    "\n",
    " 1. Sum the preference vectors of all the users you selected in the previous step.  This will give a single pandas Series associating each song with a relevance score.\n",
    " 2. Sort the result and take the top 25 values.  These are your song recommendations!\n"
   ]
  },
  {
   "cell_type": "markdown",
   "metadata": {
    "slideshow": {
     "slide_type": "slide"
    }
   },
   "source": [
    "## Step 10: The fun part\n",
    "\n",
    "Create a playlist (e.g., with Spotify, Apple Music, etc.) from your 25 song recommendations.\n",
    "\n",
    "Shuffle play.\n",
    "\n",
    "How did the recommender system do?\n",
    "\n",
    "Be ready to tell us at the end of class!"
   ]
  },
  {
   "cell_type": "markdown",
   "metadata": {
    "slideshow": {
     "slide_type": "slide"
    }
   },
   "source": [
    "## Important features of our system\n",
    "\n",
    "Our recommender system is *not specific to songs.*  It used *absolutely no data* about the content of any song.  It didn't even know the year, artist, speed, genre, or even that the items in the matrix *were songs.*\n",
    "\n",
    "The way it was able to make reasonable recommendations was just based on the associations of users with songs.\n",
    " * We can see the clear business value of large datasets like the This Is My Jam data, and why companies like Google are content to give away free products in exchange for gathering your data.\n",
    " * The song recommendation system might not even be as good if it had known information about the songs' styles and attributes.  If it did, it would have focused on those attributes, which any human can already do for themself.  (E.g., I like R&B, so I'll go look up some R&B hits.)\n",
    " * Instead, we found patterns in the data that may or may not line up with existing genres, artists, decades, etc., and exploited those."
   ]
  },
  {
   "cell_type": "markdown",
   "metadata": {
    "slideshow": {
     "slide_type": "slide"
    }
   },
   "source": [
    "## Real recommender systems\n",
    "\n",
    "Although the system we just built is a small example, and real recommender systems used by large online retailers are much more complex, they are built on foundations like the one we just used.\n",
    "\n",
    "*Discussion:* **What are some ways to make the simple recommender system we just built more powerful?**"
   ]
  }
 ],
 "metadata": {
  "celltoolbar": "Slideshow",
  "kernelspec": {
   "display_name": "Python 3",
   "language": "python",
   "name": "python3"
  },
  "language_info": {
   "codemirror_mode": {
    "name": "ipython",
    "version": 3
   },
   "file_extension": ".py",
   "mimetype": "text/x-python",
   "name": "python",
   "nbconvert_exporter": "python",
   "pygments_lexer": "ipython3",
   "version": "3.7.3"
  }
 },
 "nbformat": 4,
 "nbformat_minor": 4
}