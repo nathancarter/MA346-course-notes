{
 "cells": [
  {
   "cell_type": "markdown",
   "metadata": {},
   "source": [
    "# Visualization\n",
    "\n",
    "<a href=\"../../_slides/chapter-10-slides.html\">See also the slides that summarize a portion of this content.</a>\n"
   ]
  },
  {
   "cell_type": "markdown",
   "metadata": {},
   "source": [
    "The purpose here is to extend the visualization skills they learned in CS230\n",
    "\n",
    "## Classifying the tools from DataCamp\n",
    "\n",
    "They already did this in the DC homework, so you're reviewing that content here.  Explicitly state that they should do the DC before this reading.\n",
    "\n",
    "But our purpose now is to discuss the various merits of the viz tools, leveraging the mathematical vocabulary  offunctions and relations. :framed_picture:\n",
    "\n",
    "DC covered: seaborn, violin, bee swarm, heat map, pair plot, joint plot, lmplot\n",
    "\n",
    "## Quick plotting\n",
    "\n",
    "Bonus: [You can actually plot data in lots of ways without loading matplotlib.](https://towardsdatascience.com/the-simplest-way-to-create-complex-visualizations-in-python-isnt-with-matplotlib-a5802f2dba92)\n",
    "\n",
    "## Drawing maps\n",
    "\n",
    "Consider adding maps, too---very commonly useful.  [See this blog post about an easy way to do so in Python.](https://www.earthdatascience.org/tutorials/introduction-to-leaflet-animated-maps/)  If you have no time, turn that into a LOYO, but I think you can cover it here.\n"
   ]
  },
  {
   "cell_type": "markdown",
   "metadata": {},
   "source": [
    "## LOYO stuff\n",
    "\n",
    "* Advanced visualization such as images, contour maps, 3D plotting, and animation\n",
    "* Tableau (highly optional!) but since it's so popular:\n",
    "  * They should know it exists and what it's good at\n",
    "  * They should know about its data flow diagram software and the free alternative of Knime\n",
    "  * They should know its limitations (e.g., can't do complex merge in Tableau)\n",
    "* Visualization design principles, like those you find in these references: :framed_picture:\n",
    "  * See this free online textbook: https://serialmentor.com/dataviz/\n",
    "  * See this interesting blog post: https://flowingdata.com/2017/01/24/one-dataset-visualized-25-ways/\n",
    "  * See The Data Science Design Manual (free Springer ebook) Sections 6.2-4, which are a distilled Tufte\n",
    "* Styling matplotlib more nicely, either for following the visualization principles above or just for coolness/variety/eye-catchingness:\n",
    "  * https://towardsdatascience.com/the-last-matplotlib-tweaking-guide-youll-ever-need-dbd4374a1c1e\n",
    "  * https://towardsdatascience.com/cyberpunk-style-with-matplotlib-f47404c9d4c5\n",
    "  * more?"
   ]
  }
 ],
 "metadata": {
  "kernelspec": {
   "display_name": "Python 3",
   "language": "python",
   "name": "python3"
  },
  "language_info": {
   "codemirror_mode": {
    "name": "ipython",
    "version": 3
   },
   "file_extension": ".py",
   "mimetype": "text/x-python",
   "name": "python",
   "nbconvert_exporter": "python",
   "pygments_lexer": "ipython3",
   "version": "3.7.3"
  }
 },
 "nbformat": 4,
 "nbformat_minor": 4
}
