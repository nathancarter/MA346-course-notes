{
 "cells": [
  {
   "cell_type": "markdown",
   "metadata": {
    "slideshow": {
     "slide_type": "slide"
    }
   },
   "source": [
    "# Chapter 10 - Visualization\n",
    "\n",
    "[See also the corresponding course notes, here.](../_build/html/chapter-9-math-and-stats.html)\n"
   ]
  },
  {
   "cell_type": "markdown",
   "metadata": {
    "slideshow": {
     "slide_type": "slide"
    }
   },
   "source": [
    "## Summary of plotting tools\n",
    "\n",
    "Recall the summary of visualization techniques given in the course notes for today.\n",
    "\n",
    "Let's review it here."
   ]
  },
  {
   "cell_type": "markdown",
   "metadata": {
    "slideshow": {
     "slide_type": "slide"
    }
   },
   "source": [
    "### With one numeric column of data:\n",
    "\n",
    "| If you want to see this | Then use this |\n",
    "|-------------------------|---------------|\n",
    "| Just the distribution's quartiles and outliers | Box plot |\n",
    "| Simple approximation of the distribution | Histogram |\n",
    "| Very good approximation of the distribution, maybe very wide | Swarm plot |\n",
    "| Good approximation of the distribution, not too wide | Strip plot |\n",
    "| Good approximation of a large distribution, smoothed | Violin plot |\n",
    "| How similar is the distribution to normal? | Overlapping ECDFs |"
   ]
  },
  {
   "cell_type": "markdown",
   "metadata": {
    "slideshow": {
     "slide_type": "slide"
    }
   },
   "source": [
    "### With two numeric columns of data:\n",
    "\n",
    "| If you want to see this | Then use this |\n",
    "|-------------------------|---------------|\n",
    "| A graph of my data, which is a function | Line plot |\n",
    "| The shape of my data, which is a relation | Scatter plot |\n",
    "| The shape of my data, which is a relation, plus each variable's distribution | Joint plot |\n",
    "| The line of best fit through my data | `sns.lmplot` |"
   ]
  },
  {
   "cell_type": "markdown",
   "metadata": {
    "slideshow": {
     "slide_type": "slide"
    }
   },
   "source": [
    "### With many numeric columns of data:\n",
    "\n",
    "| If you want to see this | Then use this |\n",
    "|-------------------------|---------------|\n",
    "| The quartiles and outliers of each | Side-by-side box plots |\n",
    "| Simple approximation of the distributions | Histograms with side-by-side bars |\n",
    "| Very good approximation of each distribution (can't fit too many) | Side-by-side swarm plots |\n",
    "| Good approximation of each distribution (can fit more) | Side-by-side strip plots |\n",
    "| Good approximation if the distributions are large (will be smoothed) | Side-by-side violin plots |\n",
    "| The shape of all possible two-column relationships | Pair plot |\n",
    "| A measurement of all possible correlations | Heat map of correlation coefficients |"
   ]
  },
  {
   "cell_type": "markdown",
   "metadata": {
    "slideshow": {
     "slide_type": "slide"
    }
   },
   "source": [
    "## Let's practice applying those guidelines to real examples..."
   ]
  },
  {
   "cell_type": "markdown",
   "metadata": {
    "slideshow": {
     "slide_type": "slide"
    }
   },
   "source": [
    "### Question 1\n",
    "\n",
    "**Data:**  A series of 300 temperature readings from a single, stationary sensor at regular time intervals\n",
    "\n",
    "**Goal:**  To see the change in temperature over time\n",
    "\n",
    "**Which visualization type should I choose?**  Recall our options:\n",
    "\n",
    " * Box plot(s), histogram(s), swarm plot(s), strip plot(s), violin plot(s), ECDFs\n",
    " * Line plot, scatter plot, joint plot, line of best fit (`sns.lmplot`)\n",
    " * Pair plot, heat map of correlation coefficients"
   ]
  },
  {
   "cell_type": "markdown",
   "metadata": {
    "slideshow": {
     "slide_type": "slide"
    }
   },
   "source": [
    "### Question 2\n",
    "\n",
    "**Data:**  A series of 100,000 temperature readings from a single, stationary sensor at regular time intervals\n",
    "\n",
    "**Goal:**  The distribution of temperature values over that time interval\n",
    "\n",
    "**Which visualization type should I choose?**  Recall our options:\n",
    "\n",
    " * Box plot(s), histogram(s), swarm plot(s), strip plot(s), violin plot(s), ECDFs\n",
    " * Line plot, scatter plot, joint plot, line of best fit (`sns.lmplot`)\n",
    " * Pair plot, heat map of correlation coefficients"
   ]
  },
  {
   "cell_type": "markdown",
   "metadata": {
    "slideshow": {
     "slide_type": "slide"
    }
   },
   "source": [
    "### Question 3\n",
    "\n",
    "**Data:**  A large dataset about students who visited the wellness center with stress-related concerns, including columns about their demographic information, health history, academic record, and extracurricular activities\n",
    "\n",
    "**Goal:**  Ideas for how to predict risk for students who may be under too much pressure\n",
    "\n",
    "**Which visualization type should I choose?**  Recall our options:\n",
    "\n",
    " * Box plot(s), histogram(s), swarm plot(s), strip plot(s), violin plot(s), ECDFs\n",
    " * Line plot, scatter plot, joint plot, line of best fit (`sns.lmplot`)\n",
    " * Pair plot, heat map of correlation coefficients"
   ]
  },
  {
   "cell_type": "markdown",
   "metadata": {
    "slideshow": {
     "slide_type": "slide"
    }
   },
   "source": [
    "### Question 4\n",
    "\n",
    "**Data:**  The baseball salaries we investigated in Week 3 of this course\n",
    "\n",
    "**Goal:**  See changes in the distribution of batter salaries throughout the 2000s\n",
    "\n",
    "**Which visualization type should I choose?**  Recall our options:\n",
    "\n",
    " * Box plot(s), histogram(s), swarm plot(s), strip plot(s), violin plot(s), ECDFs\n",
    " * Line plot, scatter plot, joint plot, line of best fit (`sns.lmplot`)\n",
    " * Pair plot, heat map of correlation coefficients"
   ]
  },
  {
   "cell_type": "markdown",
   "metadata": {
    "slideshow": {
     "slide_type": "slide"
    }
   },
   "source": [
    "### Question 5\n",
    "\n",
    "**Data:**  The baseball salaries we investigated in Week 3 of this course\n",
    "\n",
    "**Goal:**  We want to do hypothesis testing on salaries of different groups, and need to ensure approximate normality of distributions first\n",
    "\n",
    "**Which visualization type should I choose?**  Recall our options:\n",
    "\n",
    " * Box plot(s), histogram(s), swarm plot(s), strip plot(s), violin plot(s), ECDFs\n",
    " * Line plot, scatter plot, joint plot, line of best fit (`sns.lmplot`)\n",
    " * Pair plot, heat map of correlation coefficients"
   ]
  },
  {
   "cell_type": "markdown",
   "metadata": {
    "slideshow": {
     "slide_type": "slide"
    }
   },
   "source": [
    "## Visualization Exercise\n",
    "\n",
    "The homework from Week 3 included documenting some code that compared two groups within a home mortgage dataset, using two histograms on one graph.  Today we'll extend that work, so your instructor will provide a copy of the solutions for you to use as a starting point.\n",
    "\n",
    " 1. Place the notebook your instructor provides in a folder with the corresponding data file and ensure the code runs.\n",
    " 2. Remove the hypothesis testing work from the end of the file; we will not need it today.\n",
    " 3. Change the plotting code so that it uses side-by-side plots, either box plots, swarm plots, strip plots, or violin plots\n",
    " 4. Which of those visualizations did you find most useful for this data, and why?"
   ]
  },
  {
   "cell_type": "markdown",
   "metadata": {
    "slideshow": {
     "slide_type": "slide"
    }
   },
   "source": [
    "## Optional second exercise, time permitting\n",
    "\n",
    "Write a function that takes behaves as follows:\n",
    " * It takes as input two boolean Series, which can be used to split the housing data into two subsamples (just like we split it into low and high minority percentage areas).\n",
    " * It also takes as input the names of these two Series, as two strings.  In the example we just did, we might use the names \"Low Minority %\" and \"High Minority %\".\n",
    " * The function creates a side-by-side box/swarm/strip/violin plot of property values, with the appropriate axis labels.\n",
    "\n",
    "It might look like this:"
   ]
  },
  {
   "cell_type": "code",
   "execution_count": 3,
   "metadata": {},
   "outputs": [],
   "source": [
    "def compare_two_groups ( group1, group2, name1, name2 ):\n",
    "    pass # replace this with actual code"
   ]
  }
 ],
 "metadata": {
  "celltoolbar": "Slideshow",
  "kernelspec": {
   "display_name": "Python 3",
   "language": "python",
   "name": "python3"
  },
  "language_info": {
   "codemirror_mode": {
    "name": "ipython",
    "version": 3
   },
   "file_extension": ".py",
   "mimetype": "text/x-python",
   "name": "python",
   "nbconvert_exporter": "python",
   "pygments_lexer": "ipython3",
   "version": "3.7.3"
  }
 },
 "nbformat": 4,
 "nbformat_minor": 4
}
