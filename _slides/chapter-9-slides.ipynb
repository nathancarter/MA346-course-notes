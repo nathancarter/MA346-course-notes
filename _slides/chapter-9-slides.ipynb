{
 "cells": [
  {
   "cell_type": "markdown",
   "metadata": {
    "slideshow": {
     "slide_type": "slide"
    }
   },
   "source": [
    "# Chapter 9 - Math and Stats in Python\n",
    "\n",
    "[See also the corresponding course notes, here.](../_build/html/chapter-9-math-and-stats.html)\n"
   ]
  },
  {
   "cell_type": "markdown",
   "metadata": {
    "slideshow": {
     "slide_type": "slide"
    }
   },
   "source": [
    "## Math in Python and NumPy\n",
    "\n",
    "Python and NumPy both provide modules for using common mathematical functions:"
   ]
  },
  {
   "cell_type": "code",
   "execution_count": 1,
   "metadata": {},
   "outputs": [
    {
     "data": {
      "text/plain": [
       "(7.38905609893065, 7.38905609893065)"
      ]
     },
     "execution_count": 1,
     "metadata": {},
     "output_type": "execute_result"
    }
   ],
   "source": [
    "import math\n",
    "import numpy as np\n",
    "math.exp( 2 ), np.exp( 2 )"
   ]
  },
  {
   "cell_type": "markdown",
   "metadata": {
    "slideshow": {
     "slide_type": "slide"
    }
   },
   "source": [
    "**Question:** What is the key difference, as emphasized in the course notes, between using Python's `math` module and using NumPy?\n",
    "\n",
    "(In other words, if we had `math` already, why did someone build `numpy`?)"
   ]
  },
  {
   "cell_type": "markdown",
   "metadata": {
    "slideshow": {
     "slide_type": "slide"
    }
   },
   "source": [
    "**Question:** To benefit from NumPy's speed, we'll need to use NumPy arrays.  How can you use each of the following to get a NumPy array?\n",
    "\n",
    " 1. `np.array()`\n",
    " 2. `np.arange()`\n",
    " 3. `np.linspace()`\n",
    " 4. `np.random.rand()`\n",
    " 5. pandas DataFrames"
   ]
  },
  {
   "cell_type": "markdown",
   "metadata": {
    "slideshow": {
     "slide_type": "slide"
    }
   },
   "source": [
    "## GB213 in Python\n",
    "\n",
    "We will not be reviewing this in class, because you had an entire course on GB213.\n",
    "\n",
    "To use GB213 in Python, [see the GB213 review page in our course notes, here.](../_build/html/GB213-review-in-Python.html)\n",
    "\n",
    "Are there any questions on that content now?"
   ]
  },
  {
   "cell_type": "markdown",
   "metadata": {
    "slideshow": {
     "slide_type": "slide"
    }
   },
   "source": [
    "## Binding function arguments\n",
    "\n",
    "Binding an argument to a function `f` means creating a new function `g` by supplying a value for the argument, so that it doesn't need to be specified when calling the new function `g`."
   ]
  },
  {
   "cell_type": "markdown",
   "metadata": {
    "slideshow": {
     "slide_type": "slide"
    }
   },
   "source": [
    "**Example 1:** Let's say we have a data set we wish to sample from, because it is too large.  For simplicity here, I'll use a small data set, but that's just for example purposes.  NumPy make it easy to sample, as follows."
   ]
  },
  {
   "cell_type": "code",
   "execution_count": 2,
   "metadata": {},
   "outputs": [
    {
     "data": {
      "text/plain": [
       "array([16.33, 16.33, 57.27])"
      ]
     },
     "execution_count": 2,
     "metadata": {},
     "output_type": "execute_result"
    }
   ],
   "source": [
    "# tiny example:\n",
    "data = [ 35.75, 57.27, 58.59, 24.35, 16.33, 9.38, 8.78, 35.24 ]\n",
    "\n",
    "# pick 3 random values, with replacement:\n",
    "np.random.choice( data, 3 )"
   ]
  },
  {
   "cell_type": "markdown",
   "metadata": {},
   "source": [
    "A statistical technique called bootstrapping requires sampling from the same data set repeatedly.  Let's say we wanted to do that here.  How would we use Python's `partial` function to create a function that would let us choose however many random items we want from `data`?"
   ]
  },
  {
   "cell_type": "markdown",
   "metadata": {
    "slideshow": {
     "slide_type": "slide"
    }
   },
   "source": [
    "**Example 2:** Consider Python's built in `round(x,n)` function that rounds a number `x` to `n` digits after the decimal."
   ]
  },
  {
   "cell_type": "code",
   "execution_count": 3,
   "metadata": {},
   "outputs": [
    {
     "data": {
      "text/plain": [
       "58"
      ]
     },
     "execution_count": 3,
     "metadata": {},
     "output_type": "execute_result"
    }
   ],
   "source": [
    "round( 58.23 )"
   ]
  },
  {
   "cell_type": "markdown",
   "metadata": {},
   "source": [
    "How would you create a new function that rounds any input to 3 digits after the decimal?  (Note that Python's `partial` function can't help here, because it can bind only the first argument(s) of a function.)"
   ]
  },
  {
   "cell_type": "markdown",
   "metadata": {
    "slideshow": {
     "slide_type": "slide"
    }
   },
   "source": [
    "## Curve fitting\n",
    "\n",
    "We will be doing an exercise using the function that you prepared for class today, which can get the COVID-19 time series data from any state in the US.\n",
    "\n",
    "Recall curve fitting with SciPy from [today's notes.](../_build/html/chapter-9-math-and-stats.html)  We will try to fit a logistic model to a state's data.  In math, the logistic curve is:\n",
    "\n",
    "$$ y=\\frac{\\beta_0}{1+e^{\\beta_1(-x+\\beta_2)}} $$\n",
    "\n",
    "In Python, it is:"
   ]
  },
  {
   "cell_type": "code",
   "execution_count": 4,
   "metadata": {},
   "outputs": [],
   "source": [
    "def logistic_curve ( x, β0, β1, β2 ):\n",
    "    return β0 / ( 1 + np.exp( β1*(-x+β2) ) )"
   ]
  },
  {
   "cell_type": "markdown",
   "metadata": {
    "slideshow": {
     "slide_type": "slide"
    }
   },
   "source": [
    "**Exercise 1:**\n",
    "\n",
    "(This follows the 4-step process in [the curve fitting section of today's notes.](../_build/html/chapter-9-math-and-stats.html#curve-fitting-in-general).)\n",
    "\n",
    " 1. Load your notebook or script that contains the function you did for homework, that can get COVID-19 data for a state, and run that function to fetch the data for a state of your choosing.\n",
    " 2. We will use a logistic model, so add the code from the previous slide to your notebook or script.\n",
    " 3. Import the `curve_fit` function and use it to find the $\\beta$s, as suggested in [the curve fitting section of today's notes.](../_build/html/chapter-9-math-and-stats.html#curve-fitting-in-general)  To choose somewhat sensible initial guesses for the $\\beta$s, the Project 1 assignment suggests:\n",
    "     * $\\beta_0=$ the maximum number of cases in the data, `data.max()`\n",
    "     * $\\beta_1=1$\n",
    "     * $\\beta_2=$ the half way point from the beginning until now, `len(data) / 2`\n",
    " 4. Plot the model as shown in the final section of the course notes for today."
   ]
  },
  {
   "cell_type": "markdown",
   "metadata": {
    "slideshow": {
     "slide_type": "slide"
    }
   },
   "source": [
    "**Exercise 2:**  Take the code you did in Exercise 1 and *abstact* it into two functions.\n",
    "\n",
    " 1. One function takes a state name as input and does steps 1-3, producing a fit model as output, which is a function that takes a single `x` as input and gives the corresponding (predicted) `y` as output.\n",
    " 2. Another takes as input the data and the model function and produces a plot showing the scattered data and the model as a curve, on the same plot.\n",
    "\n",
    "Run your new function on several states to see how well or poorly it works in various situations."
   ]
  },
  {
   "cell_type": "markdown",
   "metadata": {
    "slideshow": {
     "slide_type": "slide"
    }
   },
   "source": [
    "**Question:**\n",
    "\n",
    "As stated in the Project 1 assignment, a logistic curve is a very simple model of infectious disease spread.  (See [this website](https://ncase.me/covid-19) for an epidemiologist's explanation (with cool animations) of more realistic models.)\n",
    "\n",
    "Which parts of the logistic model are realistic and which are unrealistic?"
   ]
  }
 ],
 "metadata": {
  "celltoolbar": "Slideshow",
  "kernelspec": {
   "display_name": "Python 3",
   "language": "python",
   "name": "python3"
  },
  "language_info": {
   "codemirror_mode": {
    "name": "ipython",
    "version": 3
   },
   "file_extension": ".py",
   "mimetype": "text/x-python",
   "name": "python",
   "nbconvert_exporter": "python",
   "pygments_lexer": "ipython3",
   "version": "3.7.3"
  }
 },
 "nbformat": 4,
 "nbformat_minor": 4
}
