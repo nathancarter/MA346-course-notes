{
 "cells": [
  {
   "cell_type": "markdown",
   "metadata": {},
   "source": [
    "# Course Notes for Data Science (MA346)\n",
    "\n",
    "These course notes are for [Bentley University](http://www.bentley.edu)'s Data Science course (MA346) that will be taught by [Nathan Carter](http://nathancarter.github.io) in Fall 2020.\n",
    "\n",
    "```{warning}\n",
    "This course notes website is just beginning, so the content here is incomplete.  Check back later.\n",
    "```"
   ]
  },
  {
   "cell_type": "markdown",
   "metadata": {},
   "source": [
    "## Course schedule\n",
    "\n",
    "Each topic below will become a link to what we will cover in class that day, once I've made more progress in completing these course notes.\n",
    "\n",
    "| Week | Date in Fall 2020 | Content for the day   |\n",
    "|------|-------------------|-----------------------|\n",
    "| 1    | 9/3   | Introduction and mathematical foundations    |\n",
    "|      |       | [DataCamp Review before Week 2](big-cheat-sheet.html#before-week-2-review-of-cs230) |\n",
    "| 2    | 9/10  | Jupyter and a Python/pandas review           |\n",
    "|      |       | [DataCamp Review before Week 3](big-cheat-sheet.html#before-week-3) |\n",
    "| 3    | 9/17  | Before and after, and single-table verbs     |\n",
    "|      |       | [DataCamp Review before Week 4](big-cheat-sheet.html#before-week-4-review-of-visualization-in-cs230) |\n",
    "| 4    | 9/24  | Abstraction, Version Control, and GitHub     |\n",
    "|      |       | [DataCamp Review before Week 5](big-cheat-sheet.html#before-week-5) |\n",
    "| 5    | 10/1  | Math and Stats in Python, with Visualization |\n",
    "|      |       | [DataCamp Review before Week 6](big-cheat-sheet.html#before-week-6) |\n",
    "| 6    | 10/8  | Processing the rows of a DataFrame           |\n",
    "|      |       | (No DataCamp for next week. Finish project instead.) |\n",
    "| 7    | 10/15 | Concatenation and Merging                    |\n",
    "|      |       | [DataCamp Review before Week 8](big-cheat-sheet.html#before-week-8) |\n",
    "| 8    | 10/22 | Miscellaneous Munging Methods (ETL)          |\n",
    "|      |       | [DataCamp Review before Week 9](big-cheat-sheet.html#before-week-9) |\n",
    "| 9    | 10/29 | Dashboards                                   |\n",
    "| 10   | 11/5  | Relations as Graphs and Network Analysis     |\n",
    "| 11   | 11/12 | Relations as Matrices and Decompositions     |\n",
    "| 12   | 11/19 | Introduction to Machine Learning             |\n",
    "| 13   | 11/26 | Thanksgiving break                           |\n",
    "| 14   | 12/3  | Final Exam Review and Final Project Workshop |"
   ]
  },
  {
   "cell_type": "markdown",
   "metadata": {},
   "source": [
    "\n",
    "```{toctree}\n",
    ":hidden:\n",
    ":titlesonly:\n",
    "\n",
    "\n",
    "chapter-1-intro-to-data-science.ipynb\n",
    "big-cheat-sheet.ipynb\n",
    "```\n"
   ]
  }
 ],
 "metadata": {
  "kernelspec": {
   "display_name": "Python 3",
   "language": "python",
   "name": "python3"
  },
  "language_info": {
   "codemirror_mode": {
    "name": "ipython",
    "version": 3
   },
   "file_extension": ".py",
   "mimetype": "text/x-python",
   "name": "python",
   "nbconvert_exporter": "python",
   "pygments_lexer": "ipython3",
   "version": "3.7.3"
  }
 },
 "nbformat": 4,
 "nbformat_minor": 4
}