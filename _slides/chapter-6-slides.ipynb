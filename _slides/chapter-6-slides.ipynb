{
 "cells": [
  {
   "cell_type": "markdown",
   "metadata": {
    "slideshow": {
     "slide_type": "slide"
    }
   },
   "source": [
    "# Chapter 6 - Single-Table Verbs\n",
    "\n",
    "[See also the corresponding course notes, here.](../_build/html/chapter-6-single-table-verbs.html)\n",
    "\n",
    "[View a printable version of these slides here.](./chapter-6-slides-printable.html)\n",
    "\n",
    "<font color='red'>These slides have not yet been updated for Summer 2021.  Check back soon.</font>\n"
   ]
  },
  {
   "cell_type": "markdown",
   "metadata": {
    "slideshow": {
     "slide_type": "slide"
    }
   },
   "source": [
    "## Data in \"tall\" form\n",
    "\n",
    "| First | Last  | Day       | Sales |\n",
    "|-------|-------|-----------|-------|\n",
    "| Amy   | Smith | Monday    | 39    |\n",
    "| Amy   | Smith | Tuesday   | 68    |\n",
    "| Amy   | Smith | Wednesday | 10    |\n",
    "| Bob   | Jones | Monday    | 93    |\n",
    "| Bob   | Jones | Tuesday   | 85    |\n",
    "| Bob   | Jones | Wednesday | 0     |\n",
    "\n",
    "From the reading, what is the value of this form of data?\n",
    "\n",
    "And what is the other name for this form of data?"
   ]
  },
  {
   "cell_type": "markdown",
   "metadata": {
    "slideshow": {
     "slide_type": "slide"
    }
   },
   "source": [
    "## Data in \"wide\" form\n",
    "\n",
    "| First | Last  | Monday | Tuesday | Wednesday |\n",
    "|-------|-------|--------|---------|-----------|\n",
    "| Amy   | Smith | 39     | 68      | 10        |\n",
    "| Bob   | Jones | 93     | 85      | 0         |\n",
    "\n",
    "From the reading, what is the value of this form of data?\n",
    "\n",
    "And what are the verbs used to convert from tall to wide form, or wide to tall form?"
   ]
  },
  {
   "cell_type": "markdown",
   "metadata": {
    "slideshow": {
     "slide_type": "slide"
    }
   },
   "source": [
    "## Pivot\n",
    "\n",
    "<img alt=\"Overview of the pivot operation\" src=\"../_images/table-verb-pivot.png\"/>\n",
    "\n",
    "[See also this animation.](https://nathancarter.github.io/dataframe-animations/pivot.html)"
   ]
  },
  {
   "cell_type": "markdown",
   "metadata": {
    "slideshow": {
     "slide_type": "slide"
    }
   },
   "source": [
    "## Pivot details\n",
    "\n",
    "Names\n",
    " * Gray cells are called `index`\n",
    " * Blue cells are called `columns`\n",
    " * Green cells are called `values`\n",
    "\n",
    "Requirements\n",
    " * The relationship from `index` and `columns` to `values` must be a *function*.\n",
    "\n",
    "Guarantees\n",
    " * That one function will become many functions, each in its own column, one for each value in the original `columns` column."
   ]
  },
  {
   "cell_type": "markdown",
   "metadata": {
    "slideshow": {
     "slide_type": "slide"
    }
   },
   "source": [
    "## Melt\n",
    "\n",
    "<img alt=\"Overview of the melt operation\" src=\"../_images/table-verb-melt.png\"/>\n",
    "\n",
    "[See also this animation.](https://nathancarter.github.io/dataframe-animations/melt.html)"
   ]
  },
  {
   "cell_type": "markdown",
   "metadata": {
    "slideshow": {
     "slide_type": "slide"
    }
   },
   "source": [
    "## Melt details\n",
    "\n",
    "Names\n",
    " * Gray columns are called `id_vars`\n",
    " * Red column headers are called `value_vars`\n",
    "\n",
    "Requirements\n",
    " * The `id_vars` uniquely identify each row.\n",
    " * The relationship from `id_vars` to each `value_vars` column is a *function*.\n",
    "\n",
    "Guarantees\n",
    " * The `value_vars` column headers will be merged into one single column entitled `variable`.\n",
    " * The `value_vars` column entries will be merged into one single column entitled `value`.\n",
    " * The `id_vars` entries will be replicated so that the result is still a function from `id_vars` and `variable` to `value`."
   ]
  },
  {
   "cell_type": "markdown",
   "metadata": {
    "slideshow": {
     "slide_type": "slide"
    }
   },
   "source": [
    "## Pivot table\n",
    "\n",
    "<img alt=\"Overview of the pivot table operation\" src=\"../_images/table-verb-pivot-table.png\"/>\n",
    "\n",
    "[See also this animation.](https://nathancarter.github.io/dataframe-animations/pivot-table.html)"
   ]
  },
  {
   "cell_type": "markdown",
   "metadata": {
    "slideshow": {
     "slide_type": "slide"
    }
   },
   "source": [
    "## Pivot table details\n",
    "\n",
    "Same as pivot, except:\n",
    " * The relationship between `index` and `columns` need not be a function.\n",
    " * Therefore some values will need to be combined.\n",
    " * And so we must provide a function that will combine them, called `aggfunc`.\n",
    "\n",
    "Pivot tables are extremely common for summarizing data, especially since there are so many different aggregation functions.\n",
    "[Here is a list of all the built-in ones](https://cmdlinetips.com/2019/10/pandas-groupby-13-functions-to-aggregate/), and you can also code your own."
   ]
  },
  {
   "cell_type": "markdown",
   "metadata": {
    "slideshow": {
     "slide_type": "slide"
    }
   },
   "source": [
    "## Exercises\n",
    "\n",
    "After the break in class today, you'll be diving into working on some datasets for practice.\n",
    "\n",
    "To prepare for that, let's do a few exercises for discussion, to refresh your memory on other pandas tools, functions, and syntax."
   ]
  },
  {
   "cell_type": "markdown",
   "metadata": {
    "slideshow": {
     "slide_type": "slide"
    }
   },
   "source": [
    "### Exercise 1\n",
    "\n",
    "Which of the following sentences correctly describes the uses of the pandas functions loc and iloc?\n",
    " 1. For a DataFrame `df`, you can use `df.loc[...]` to look up rows, columns, or cells by their names, and `df.iloc[...]` to look up rows, columns, or cells by their zero-based numerical index.\n",
    " 2. For a DataFrame `df`, you can use `df.loc[...]` to access rows and `df.iloc[...]` to access columns.\n",
    " 3. For a DataFrame `df`, you can use `df.loc[...]` to look up one or more rows by integer index and `df.iloc[...]` to do the same, but counting from the end of the DataFrame (`iloc` = \"inverted loc\").\n",
    " 4. For a DataFrame `df`, you can use `df[...]`, `df.loc[...]`, and `df.iloc[...]` interchangeably to get access to individual entries in the DataFrame."
   ]
  },
  {
   "cell_type": "markdown",
   "metadata": {
    "slideshow": {
     "slide_type": "slide"
    }
   },
   "source": [
    "### Exercise 2\n",
    "\n",
    "If you have a DataFrame in the variable `df`, which of the following are situations in which you would want to execute the code `df[\"sales\"] = 0`?\n",
    " 1. You want to remove from your DataFrame a column entitled \"sales\"\n",
    " 2. You want to replace the data in an existing \"sales\" row with zero entries\n",
    " 3. You want to add a new row entitled \"sales,\" initially populated with zero entries\n",
    " 4. You want to remove from your DataFrame a row entitled \"sales\"\n",
    " 5. You want to replace the data in an existing \"sales\" column with zero entries\n",
    " 6. You want to add a new column entitled \"sales,\" initially populated with zero entries\n",
    " 7. You want to replace one existing entry, named \"sales,\" with a zero\n",
    " 8. You want to add one new entry, named \"sales,\" initially containing a zero\n",
    " 9. You want to remove from your DataFrame one entry, the one named \"sales\"\n"
   ]
  },
  {
   "cell_type": "markdown",
   "metadata": {
    "slideshow": {
     "slide_type": "slide"
    }
   },
   "source": [
    "### Exercise 3\n",
    "\n",
    "Assume we have a DataFrame `df` with several columns, including \"Salary\" and \"Job Title\". How would we find the salaries of anyone whose job title is \"Engineer\"?  (Fill in the blanks.)\n",
    "\n",
    "```python\n",
    "indices = df[___________] == __________\n",
    "salaries = df.loc[____________________]\n",
    "```"
   ]
  },
  {
   "cell_type": "markdown",
   "metadata": {
    "slideshow": {
     "slide_type": "slide"
    }
   },
   "source": [
    "### Exercise 4\n",
    "\n",
    "What happens when we run the code `df[\"column\"].apply( f )`?\n",
    "\n",
    " 1. Python replaces each entry `x` in `df[\"column\"]` with the result of `f(x)`\n",
    " 2. Python computes and returns the result of `f(df[\"column\"])`\n",
    " 3. Python computes and returns a new Series containing `f(x)` for each entry `x` in `df[\"columns\"]`\n",
    " 4. Python replaces the column `df[\"column\"]` with the result of `f(df[\"column\"])`"
   ]
  },
  {
   "cell_type": "markdown",
   "metadata": {
    "slideshow": {
     "slide_type": "slide"
    }
   },
   "source": [
    "### Exercise 5\n",
    "\n",
    "Assume that we have read a DataFrame `df` from a CSV file, and provided no default index, so that its index is the integers from 0 to 9.\n",
    "\n",
    "Assume further that the rows in df each represent data collected in one particular year.  The data were collected beginning with the year 1970, and repeating the data collection every five years, so that the first row is from 1970, the second row is from 1975, and so on.\n",
    "\n",
    "We want the index of `df` to represent the year of data collection, which is not currently stored in any of the columns of the DataFrame.  Which of the following pieces of code would accomplish that goal?\n",
    "\n",
    "```python\n",
    "# Option 1:\n",
    "df.index = df.index*5 + 1965\n",
    "df.index.name = 'Year'\n",
    "# Option 2:\n",
    "df.index = df.index*5 + 1970\n",
    "df.index.name = 'Year'  \n",
    "# Option 3:\n",
    "df.index = range(0,50,5) + 1965\n",
    "df.index.name = 'Year'\n",
    "# Option 4:\n",
    "df.index = range(0,50,5) + 1970\n",
    "df.index.name = 'Year'  \n",
    "```"
   ]
  }
 ],
 "metadata": {
  "celltoolbar": "Slideshow",
  "kernelspec": {
   "display_name": "Python 3",
   "language": "python",
   "name": "python3"
  },
  "language_info": {
   "codemirror_mode": {
    "name": "ipython",
    "version": 3
   },
   "file_extension": ".py",
   "mimetype": "text/x-python",
   "name": "python",
   "nbconvert_exporter": "python",
   "pygments_lexer": "ipython3",
   "version": "3.7.3"
  }
 },
 "nbformat": 4,
 "nbformat_minor": 4
}