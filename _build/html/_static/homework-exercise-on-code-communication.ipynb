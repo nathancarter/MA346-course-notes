{
 "cells": [
  {
   "cell_type": "markdown",
   "metadata": {},
   "source": [
    "# Homework Exercise from Week 3\n",
    "\n",
    "This file re-uses a lot of the code from the in-class exercises from Week 2, so the first half of it you've already seen.  There are two exceptions:\n",
    "\n",
    " 1. I have updated all the comments throughout the file to follow the best practices taught in [Chapter 5 of the class notes](https://nathancarter.github.io/MA346-course-notes/_build/html/chapter-5-before-and-after.html).  Specifically:\n",
    "     * Before every code cell, I've included the motivation for why we're running it.\n",
    "     * After every code cell, I've interpreted the output for the reader.\n",
    " 2. I have added new code at the end of the file that wasn't there before.  This code is either uncommented or very poorly commented.  It's your job to:\n",
    "     * Read all that code until you understand it.  (Feel free to utilize office hours, email, Teams, etc. if you need help.)\n",
    "     * Add in comments that follow the best practices covered in class and summarized above.\n",
    "     * Submit your work by publishing it on Deepnote and emailing me the link to the published version.\n",
    "\n",
    "This file should be used in the same folder as [the CSV file of mortgage applications](https://nathancarter.github.io/MA346-course-notes/_static/practice-project-dataset-1.csv) discussed in [Chapter 4 of the class notes](https://nathancarter.github.io/MA346-course-notes/_build/html/chapter-4-review-of-python-and-pandas.html).\n",
    "\n",
    "---\n",
    "\n",
    "# HERE'S THE PART YOU'VE ALREADY SEEN:\n",
    "\n",
    "---\n",
    "\n",
    "We begin by loading the mortgage dataset, which also requires importing the pandas library."
   ]
  },
  {
   "cell_type": "code",
   "execution_count": 1,
   "metadata": {},
   "outputs": [],
   "source": [
    "import pandas as pd\n",
    "df = pd.read_csv( 'practice-project-dataset-1.csv' )"
   ]
  },
  {
   "cell_type": "markdown",
   "metadata": {},
   "source": [
    "No output from this cell means it succeeded without error.  The variable `df` now contains all the data.\n",
    "\n",
    "But what's in the dataset?  Let's explore."
   ]
  },
  {
   "cell_type": "code",
   "execution_count": 2,
   "metadata": {},
   "outputs": [
    {
     "data": {
      "text/html": [
       "<div>\n",
       "<style scoped>\n",
       "    .dataframe tbody tr th:only-of-type {\n",
       "        vertical-align: middle;\n",
       "    }\n",
       "\n",
       "    .dataframe tbody tr th {\n",
       "        vertical-align: top;\n",
       "    }\n",
       "\n",
       "    .dataframe thead th {\n",
       "        text-align: right;\n",
       "    }\n",
       "</style>\n",
       "<table border=\"1\" class=\"dataframe\">\n",
       "  <thead>\n",
       "    <tr style=\"text-align: right;\">\n",
       "      <th></th>\n",
       "      <th>Unnamed: 0</th>\n",
       "      <th>Unnamed: 0.1</th>\n",
       "      <th>activity_year</th>\n",
       "      <th>lei</th>\n",
       "      <th>derived_msa_md</th>\n",
       "      <th>state_code</th>\n",
       "      <th>county_code</th>\n",
       "      <th>census_tract</th>\n",
       "      <th>conforming_loan_limit</th>\n",
       "      <th>derived_loan_product_type</th>\n",
       "      <th>...</th>\n",
       "      <th>denial_reason_2</th>\n",
       "      <th>denial_reason_3</th>\n",
       "      <th>denial_reason_4</th>\n",
       "      <th>tract_population</th>\n",
       "      <th>tract_minority_population_percent</th>\n",
       "      <th>ffiec_msa_md_median_family_income</th>\n",
       "      <th>tract_to_msa_income_percentage</th>\n",
       "      <th>tract_owner_occupied_units</th>\n",
       "      <th>tract_one_to_four_family_homes</th>\n",
       "      <th>tract_median_age_of_housing_units</th>\n",
       "    </tr>\n",
       "  </thead>\n",
       "  <tbody>\n",
       "    <tr>\n",
       "      <th>0</th>\n",
       "      <td>80545</td>\n",
       "      <td>80545</td>\n",
       "      <td>2018</td>\n",
       "      <td>5493002QI2ILHHZH8D20</td>\n",
       "      <td>31084</td>\n",
       "      <td>CA</td>\n",
       "      <td>6037.0</td>\n",
       "      <td>6.037603e+09</td>\n",
       "      <td>C</td>\n",
       "      <td>Conventional:First Lien</td>\n",
       "      <td>...</td>\n",
       "      <td>NaN</td>\n",
       "      <td>NaN</td>\n",
       "      <td>NaN</td>\n",
       "      <td>7029</td>\n",
       "      <td>96.76</td>\n",
       "      <td>69300</td>\n",
       "      <td>65</td>\n",
       "      <td>885</td>\n",
       "      <td>1363</td>\n",
       "      <td>51</td>\n",
       "    </tr>\n",
       "    <tr>\n",
       "      <th>1</th>\n",
       "      <td>62888</td>\n",
       "      <td>62888</td>\n",
       "      <td>2018</td>\n",
       "      <td>549300ALNLUNS3Y53T24</td>\n",
       "      <td>44060</td>\n",
       "      <td>WA</td>\n",
       "      <td>53063.0</td>\n",
       "      <td>5.306301e+10</td>\n",
       "      <td>C</td>\n",
       "      <td>Conventional:First Lien</td>\n",
       "      <td>...</td>\n",
       "      <td>NaN</td>\n",
       "      <td>NaN</td>\n",
       "      <td>NaN</td>\n",
       "      <td>7568</td>\n",
       "      <td>11.19</td>\n",
       "      <td>64000</td>\n",
       "      <td>138</td>\n",
       "      <td>2002</td>\n",
       "      <td>2338</td>\n",
       "      <td>22</td>\n",
       "    </tr>\n",
       "    <tr>\n",
       "      <th>2</th>\n",
       "      <td>140260</td>\n",
       "      <td>140260</td>\n",
       "      <td>2018</td>\n",
       "      <td>549300PUSSF737Y6XW86</td>\n",
       "      <td>12060</td>\n",
       "      <td>GA</td>\n",
       "      <td>13223.0</td>\n",
       "      <td>1.322312e+10</td>\n",
       "      <td>C</td>\n",
       "      <td>Conventional:First Lien</td>\n",
       "      <td>...</td>\n",
       "      <td>NaN</td>\n",
       "      <td>NaN</td>\n",
       "      <td>NaN</td>\n",
       "      <td>11924</td>\n",
       "      <td>26.72</td>\n",
       "      <td>74400</td>\n",
       "      <td>125</td>\n",
       "      <td>3082</td>\n",
       "      <td>3775</td>\n",
       "      <td>13</td>\n",
       "    </tr>\n",
       "    <tr>\n",
       "      <th>3</th>\n",
       "      <td>108456</td>\n",
       "      <td>108456</td>\n",
       "      <td>2018</td>\n",
       "      <td>JJKC32MCHWDI71265Z06</td>\n",
       "      <td>17900</td>\n",
       "      <td>SC</td>\n",
       "      <td>45079.0</td>\n",
       "      <td>4.507901e+10</td>\n",
       "      <td>C</td>\n",
       "      <td>Conventional:First Lien</td>\n",
       "      <td>...</td>\n",
       "      <td>NaN</td>\n",
       "      <td>NaN</td>\n",
       "      <td>NaN</td>\n",
       "      <td>6860</td>\n",
       "      <td>53.85</td>\n",
       "      <td>68800</td>\n",
       "      <td>128</td>\n",
       "      <td>1815</td>\n",
       "      <td>2465</td>\n",
       "      <td>13</td>\n",
       "    </tr>\n",
       "    <tr>\n",
       "      <th>4</th>\n",
       "      <td>82467</td>\n",
       "      <td>82467</td>\n",
       "      <td>2018</td>\n",
       "      <td>5493002UNUIL8WHZAD63</td>\n",
       "      <td>31140</td>\n",
       "      <td>KY</td>\n",
       "      <td>21185.0</td>\n",
       "      <td>2.118503e+10</td>\n",
       "      <td>C</td>\n",
       "      <td>Conventional:First Lien</td>\n",
       "      <td>...</td>\n",
       "      <td>NaN</td>\n",
       "      <td>NaN</td>\n",
       "      <td>NaN</td>\n",
       "      <td>4719</td>\n",
       "      <td>6.42</td>\n",
       "      <td>70400</td>\n",
       "      <td>161</td>\n",
       "      <td>1412</td>\n",
       "      <td>1616</td>\n",
       "      <td>33</td>\n",
       "    </tr>\n",
       "  </tbody>\n",
       "</table>\n",
       "<p>5 rows × 101 columns</p>\n",
       "</div>"
      ],
      "text/plain": [
       "   Unnamed: 0  Unnamed: 0.1  activity_year                   lei  \\\n",
       "0       80545         80545           2018  5493002QI2ILHHZH8D20   \n",
       "1       62888         62888           2018  549300ALNLUNS3Y53T24   \n",
       "2      140260        140260           2018  549300PUSSF737Y6XW86   \n",
       "3      108456        108456           2018  JJKC32MCHWDI71265Z06   \n",
       "4       82467         82467           2018  5493002UNUIL8WHZAD63   \n",
       "\n",
       "   derived_msa_md state_code  county_code  census_tract conforming_loan_limit  \\\n",
       "0           31084         CA       6037.0  6.037603e+09                     C   \n",
       "1           44060         WA      53063.0  5.306301e+10                     C   \n",
       "2           12060         GA      13223.0  1.322312e+10                     C   \n",
       "3           17900         SC      45079.0  4.507901e+10                     C   \n",
       "4           31140         KY      21185.0  2.118503e+10                     C   \n",
       "\n",
       "  derived_loan_product_type  ... denial_reason_2 denial_reason_3  \\\n",
       "0   Conventional:First Lien  ...             NaN             NaN   \n",
       "1   Conventional:First Lien  ...             NaN             NaN   \n",
       "2   Conventional:First Lien  ...             NaN             NaN   \n",
       "3   Conventional:First Lien  ...             NaN             NaN   \n",
       "4   Conventional:First Lien  ...             NaN             NaN   \n",
       "\n",
       "  denial_reason_4 tract_population  tract_minority_population_percent  \\\n",
       "0             NaN             7029                              96.76   \n",
       "1             NaN             7568                              11.19   \n",
       "2             NaN            11924                              26.72   \n",
       "3             NaN             6860                              53.85   \n",
       "4             NaN             4719                               6.42   \n",
       "\n",
       "   ffiec_msa_md_median_family_income  tract_to_msa_income_percentage  \\\n",
       "0                              69300                              65   \n",
       "1                              64000                             138   \n",
       "2                              74400                             125   \n",
       "3                              68800                             128   \n",
       "4                              70400                             161   \n",
       "\n",
       "   tract_owner_occupied_units  tract_one_to_four_family_homes  \\\n",
       "0                         885                            1363   \n",
       "1                        2002                            2338   \n",
       "2                        3082                            3775   \n",
       "3                        1815                            2465   \n",
       "4                        1412                            1616   \n",
       "\n",
       "   tract_median_age_of_housing_units  \n",
       "0                                 51  \n",
       "1                                 22  \n",
       "2                                 13  \n",
       "3                                 13  \n",
       "4                                 33  \n",
       "\n",
       "[5 rows x 101 columns]"
      ]
     },
     "execution_count": 2,
     "metadata": {},
     "output_type": "execute_result"
    }
   ],
   "source": [
    "df.head()"
   ]
  },
  {
   "cell_type": "markdown",
   "metadata": {},
   "source": [
    "The table above shows several of the columns of the dataset, but just the first five rows.  It gives us a quick peek at some of the dataset's contents.\n",
    "\n",
    "But since we can't see all the columns, we may ask, how many columns are there?"
   ]
  },
  {
   "cell_type": "code",
   "execution_count": 3,
   "metadata": {},
   "outputs": [
    {
     "name": "stdout",
     "output_type": "stream",
     "text": [
      "<class 'pandas.core.frame.DataFrame'>\n",
      "RangeIndex: 15120 entries, 0 to 15119\n",
      "Columns: 101 entries, Unnamed: 0 to tract_median_age_of_housing_units\n",
      "dtypes: float64(31), int64(43), object(27)\n",
      "memory usage: 11.7+ MB\n"
     ]
    }
   ],
   "source": [
    "df.info()"
   ]
  },
  {
   "cell_type": "markdown",
   "metadata": {},
   "source": [
    "It seems that ther are 101, and because there are so many, pandas did not give us detailed information on each one.\n",
    "\n",
    "We care today only about investigating a few of these columns, so we will drop all the others, making our DataFrame more manageable."
   ]
  },
  {
   "cell_type": "code",
   "execution_count": 4,
   "metadata": {},
   "outputs": [
    {
     "name": "stdout",
     "output_type": "stream",
     "text": [
      "<class 'pandas.core.frame.DataFrame'>\n",
      "RangeIndex: 15120 entries, 0 to 15119\n",
      "Data columns (total 7 columns):\n",
      " #   Column                             Non-Null Count  Dtype  \n",
      "---  ------                             --------------  -----  \n",
      " 0   interest_rate                      10061 non-null  object \n",
      " 1   property_value                     12424 non-null  object \n",
      " 2   state_code                         14929 non-null  object \n",
      " 3   tract_minority_population_percent  15120 non-null  float64\n",
      " 4   derived_race                       15120 non-null  object \n",
      " 5   derived_sex                        15120 non-null  object \n",
      " 6   applicant_age                      15120 non-null  object \n",
      "dtypes: float64(1), object(6)\n",
      "memory usage: 827.0+ KB\n"
     ]
    }
   ],
   "source": [
    "df = df[['interest_rate','property_value','state_code','tract_minority_population_percent','derived_race','derived_sex','applicant_age']]\n",
    "df.info()"
   ]
  },
  {
   "cell_type": "markdown",
   "metadata": {},
   "source": [
    "Now that there are only 7 columns, the `info()` function shows us the name and type of each, as well as how many entries are null/non-null.\n",
    "\n",
    "Because \"object\" is the data type pandas uses to mean \"string\" or \"text,\" three of the columns in the above table have the wrong data type.  We need to convert `interest_rate` and `property_value` to a numeric type.  We'll use `float` to support missing values.  We'll return to `applicant_age` later.\n",
    "\n",
    "If we tried to convert the `interest_rate` column to `float`, we would get an error, because it contains several instances of the word \"Exempt.\"  We want to treat these as missing values, so we will replace them with NumPy's null value."
   ]
  },
  {
   "cell_type": "code",
   "execution_count": 5,
   "metadata": {},
   "outputs": [],
   "source": [
    "import numpy as np\n",
    "df['interest_rate'] = df['interest_rate'].replace( 'Exempt', np.nan )"
   ]
  },
  {
   "cell_type": "markdown",
   "metadata": {},
   "source": [
    "No output indicates no errors, or success.\n",
    "\n",
    "We can therefore convert the column to the correct type."
   ]
  },
  {
   "cell_type": "code",
   "execution_count": 6,
   "metadata": {},
   "outputs": [],
   "source": [
    "df['interest_rate'] = df['interest_rate'].astype( float )"
   ]
  },
  {
   "cell_type": "markdown",
   "metadata": {},
   "source": [
    "Again, no output means nothing went wrong.  We then repeat the process with the `property_value` column as well."
   ]
  },
  {
   "cell_type": "code",
   "execution_count": 7,
   "metadata": {},
   "outputs": [
    {
     "name": "stdout",
     "output_type": "stream",
     "text": [
      "<class 'pandas.core.frame.DataFrame'>\n",
      "RangeIndex: 15120 entries, 0 to 15119\n",
      "Data columns (total 7 columns):\n",
      " #   Column                             Non-Null Count  Dtype  \n",
      "---  ------                             --------------  -----  \n",
      " 0   interest_rate                      9660 non-null   float64\n",
      " 1   property_value                     12024 non-null  float64\n",
      " 2   state_code                         14929 non-null  object \n",
      " 3   tract_minority_population_percent  15120 non-null  float64\n",
      " 4   derived_race                       15120 non-null  object \n",
      " 5   derived_sex                        15120 non-null  object \n",
      " 6   applicant_age                      15120 non-null  object \n",
      "dtypes: float64(3), object(4)\n",
      "memory usage: 827.0+ KB\n"
     ]
    }
   ],
   "source": [
    "df['property_value'] = df['property_value'].replace( 'Exempt', np.nan )\n",
    "df['property_value'] = df['property_value'].astype( float )\n",
    "df.info()"
   ]
  },
  {
   "cell_type": "markdown",
   "metadata": {},
   "source": [
    "The DataFrame's info table now shows that we've successfully converted those two columns (note their `float64` data type in the right column).\n",
    "\n",
    "If we tried to do the same to the `applicant_age` column, it would fail, because the ages aren't actually numbers.  We can see their values with the following code."
   ]
  },
  {
   "cell_type": "code",
   "execution_count": 8,
   "metadata": {},
   "outputs": [
    {
     "data": {
      "text/plain": [
       "35-44    3144\n",
       "45-54    3033\n",
       "25-34    2553\n",
       "55-64    2483\n",
       "8888     1489\n",
       "65-74    1454\n",
       ">74       567\n",
       "<25       397\n",
       "Name: applicant_age, dtype: int64"
      ]
     },
     "execution_count": 8,
     "metadata": {},
     "output_type": "execute_result"
    }
   ],
   "source": [
    "df['applicant_age'].value_counts()"
   ]
  },
  {
   "cell_type": "markdown",
   "metadata": {},
   "source": [
    "So `applicant_age` is a categorical column, because ages have been broken into the eight categories you see above.  Like `derived_race` and `derived_sex`, it should have data type categorical.\n",
    "\n",
    "We convert each of those columns as follows."
   ]
  },
  {
   "cell_type": "code",
   "execution_count": 9,
   "metadata": {},
   "outputs": [
    {
     "name": "stdout",
     "output_type": "stream",
     "text": [
      "<class 'pandas.core.frame.DataFrame'>\n",
      "RangeIndex: 15120 entries, 0 to 15119\n",
      "Data columns (total 7 columns):\n",
      " #   Column                             Non-Null Count  Dtype   \n",
      "---  ------                             --------------  -----   \n",
      " 0   interest_rate                      9660 non-null   float64 \n",
      " 1   property_value                     12024 non-null  float64 \n",
      " 2   state_code                         14929 non-null  object  \n",
      " 3   tract_minority_population_percent  15120 non-null  float64 \n",
      " 4   derived_race                       15120 non-null  category\n",
      " 5   derived_sex                        15120 non-null  category\n",
      " 6   applicant_age                      15120 non-null  category\n",
      "dtypes: category(3), float64(3), object(1)\n",
      "memory usage: 517.9+ KB\n"
     ]
    }
   ],
   "source": [
    "df['derived_race'] = df['derived_race'].astype( 'category' )\n",
    "df['derived_sex'] = df['derived_sex'].astype( 'category' )\n",
    "df['applicant_age'] = df['applicant_age'].astype( 'category' )\n",
    "df.info()"
   ]
  },
  {
   "cell_type": "markdown",
   "metadata": {},
   "source": [
    "The info table now shows that each column has the correct data type."
   ]
  },
  {
   "cell_type": "markdown",
   "metadata": {},
   "source": [
    "---\n",
    "\n",
    "# YOUR WORK BEGINS HERE:\n",
    "\n",
    "---"
   ]
  },
  {
   "cell_type": "code",
   "execution_count": 10,
   "metadata": {},
   "outputs": [],
   "source": [
    "lower_prices = df[df['property_value'] < 500000]\n",
    "high_minority = lower_prices[lower_prices['tract_minority_population_percent'] > 75]\n",
    "low_minority = lower_prices[lower_prices['tract_minority_population_percent'] < 25]"
   ]
  },
  {
   "cell_type": "code",
   "execution_count": 11,
   "metadata": {},
   "outputs": [
    {
     "data": {
      "image/png": "[encoded data removed]",
      "text/plain": [
       "<Figure size 432x288 with 1 Axes>"
      ]
     },
     "metadata": {
      "needs_background": "light"
     },
     "output_type": "display_data"
    }
   ],
   "source": [
    "import matplotlib.pyplot as plt\n",
    "plt.hist( [ high_minority['property_value'], low_minority['property_value'] ],\n",
    "          bins=20, density=True )\n",
    "plt.legend( [ 'High % minority', 'Low % minority' ] )\n",
    "plt.title( 'Sample of 2018 Home Mortgage Applications' )\n",
    "plt.xlabel( 'Property Value' )\n",
    "plt.ylabel( 'Proportion' )\n",
    "plt.show()"
   ]
  },
  {
   "cell_type": "code",
   "execution_count": 14,
   "metadata": {},
   "outputs": [
    {
     "data": {
      "text/plain": [
       "(229579.64601769912, 240573.24840764332)"
      ]
     },
     "execution_count": 14,
     "metadata": {},
     "output_type": "execute_result"
    }
   ],
   "source": [
    "high_minority['property_value'].mean(), low_minority['property_value'].mean()"
   ]
  },
  {
   "cell_type": "markdown",
   "metadata": {},
   "source": [
    "Testing null hypothesis $H_0$ = the mean property value is the same for high or low % minority tracts"
   ]
  },
  {
   "cell_type": "code",
   "execution_count": 13,
   "metadata": {},
   "outputs": [
    {
     "data": {
      "text/plain": [
       "True"
      ]
     },
     "execution_count": 13,
     "metadata": {},
     "output_type": "execute_result"
    }
   ],
   "source": [
    "from scipy import stats\n",
    "alpha = 0.05\n",
    "statistic, pvalue = stats.ttest_ind( high_minority['property_value'],\n",
    "                                     low_minority['property_value'],\n",
    "                                     equal_var=False )\n",
    "pvalue < alpha # reject H_0?"
   ]
  }
 ],
 "metadata": {
  "kernelspec": {
   "display_name": "Python 3",
   "language": "python",
   "name": "python3"
  },
  "language_info": {
   "codemirror_mode": {
    "name": "ipython",
    "version": 3
   },
   "file_extension": ".py",
   "mimetype": "text/x-python",
   "name": "python",
   "nbconvert_exporter": "python",
   "pygments_lexer": "ipython3",
   "version": "3.7.3"
  }
 },
 "nbformat": 4,
 "nbformat_minor": 4
}
