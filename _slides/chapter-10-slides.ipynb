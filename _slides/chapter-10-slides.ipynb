{
 "cells": [
  {
   "cell_type": "markdown",
   "metadata": {
    "slideshow": {
     "slide_type": "slide"
    }
   },
   "source": [
    "# Chapter 10 - Visualization\n",
    "\n",
    "[See also the corresponding course notes, here.](../_build/html/chapter-9-math-and-stats.html)\n",
    "\n",
    "<font color='red'>These slides are still in outline form only.  Check back later.</font>\n"
   ]
  },
  {
   "cell_type": "markdown",
   "metadata": {},
   "source": [
    "## Visualization tools classified\n",
    "\n",
    "Today's notes classified visualization tools using mathematical means.  Briefly review that here, then give them exercises to practice applying it."
   ]
  },
  {
   "cell_type": "markdown",
   "metadata": {},
   "source": [
    "## Exercises in choosing a visualization\n",
    "\n",
    "Ask them to consider which visualizations make sense in example contexts you provide."
   ]
  },
  {
   "cell_type": "markdown",
   "metadata": {},
   "source": [
    "## Exercises in creating visualizations\n",
    "\n",
    "Take the running homework assignment from last time and improve it by doing side-by-side violin plots of the two subsamples and the entire dataset (3 violin plots in all).\n",
    "* Create boolean columns for many different subpopulations (M, F, Joint, Indiv, White, Asian, Black, Young, Old, High Minority %, Low Minority %)\n",
    "* A nice way to compare two distributions: [blog post](https://towardsdatascience.com/sorry-but-sns-distplot-just-isnt-good-enough-this-is-though-ef2ddbf28078)\n",
    "\n",
    "Using that same dataset, heat map all of the quant variables together with property value and interest rate.\n",
    "\n",
    "Add an exercise here that uses the mapping data, perhaps to choropleth housing costs!"
   ]
  },
  {
   "cell_type": "markdown",
   "metadata": {},
   "source": [
    "## LOYO stuff\n",
    "\n",
    "Notice all the very cool LOYO exercises for today.  Don't miss an opportunity!"
   ]
  }
 ],
 "metadata": {
  "celltoolbar": "Slideshow",
  "kernelspec": {
   "display_name": "Python 3",
   "language": "python",
   "name": "python3"
  },
  "language_info": {
   "codemirror_mode": {
    "name": "ipython",
    "version": 3
   },
   "file_extension": ".py",
   "mimetype": "text/x-python",
   "name": "python",
   "nbconvert_exporter": "python",
   "pygments_lexer": "ipython3",
   "version": "3.7.3"
  }
 },
 "nbformat": 4,
 "nbformat_minor": 4
}
