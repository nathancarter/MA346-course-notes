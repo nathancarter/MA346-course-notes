{
 "cells": [
  {
   "cell_type": "markdown",
   "metadata": {},
   "source": [
    "# Detailed Course Schedule\n",
    "\n",
    "This include all topics covered and all assignments given and when they are due."
   ]
  },
  {
   "cell_type": "markdown",
   "metadata": {},
   "source": [
    "## Day 1 - 5/18/21 - Introduction and mathematical foundations\n",
    "\n",
    "### Content\n",
    "\n",
    " * Chapter 1: Introduction to data science - [reading](chapter-1-intro-to-data-science) and <a href='../../_slides/chapter-1-slides.html'>slides</a>\n",
    " * Chapter 2: Mathematical foundations - [reading](chapter-2-mathematical-foundations) and <a href='../../_slides/chapter-2-slides.html'>slides</a>\n",
    "\n",
    "### Due before next class\n",
    "\n",
    " * **DataCamp**\n",
    "    * Optional, basic review:\n",
    "       * [Introduction to Python](https://www.datacamp.com/courses/intro-to-python-for-data-science)\n",
    "       * [Python Data Science Toolbox, Part 1](https://www.datacamp.com/courses/python-data-science-toolbox-part-1)\n",
    "    * Required (though it may still be review):\n",
    "       * [Intermediate Python](https://www.datacamp.com/courses/intermediate-python-for-data-science), chapters 1-4\n",
    "       * [pandas Foundations](https://www.datacamp.com/courses/pandas-foundations), just chapter 1\n",
    "         (This course is archived on DataCamp; in the future I will replace it with an available\n",
    "         course instead.)\n",
    "       * [Manipulating DataFrames with pandas](https://www.datacamp.com/courses/manipulating-dataframes-with-pandas), just chapter 1\n",
    "         (This course is archived on DataCamp; in the future I will replace it with an available\n",
    "         course instead.)\n",
    "    * [See here for a cheat sheet](big-cheat-sheet.html#before-day-2-review-of-cs230) of all the content of the above DataCamp lessons.\n",
    " * **Reading**\n",
    "    * Each week, you are expected to read the appropriate chapters from the course notes *before* class.  Since this is the first day for the course, I did not expect you to have read Chapters 1-2 in advance.  But that means that you must now read them together with Chapters 3-4 before next week.\n",
    "    * [Chapter 1: Introduction to data science](chapter-1-intro-to-data-science) (adds details to today's class content)\n",
    "    * [Chapter 2: Mathematical foundations](chapter-2-mathematical-foundations) (adds details to today's class content)\n",
    "    * [Chapter 3: Computational notebooks (Jupyter)](chapter-3-jupyter) (prepares for next week)\n",
    "    * [Chapter 4: Python review focusing on pandas and mathematical foundations](chapter-4-review-of-python-and-pandas) (prepares for next week)\n",
    " * **Other**\n",
    "    * If you don't already have a Python environment installed on your computer, [see these instructions for installing one](anaconda-installation).  As part of that process, ensure that you can open both Jupyter Lab and VS Code.\n",
    "    * Optional: There are many LOYO opportunities from today's course notes (chapters 1 and 2).  See the syllabus for a definition of LOYO (Learning on Your Own) and consider forming a team and siezing one of the opportunities."
   ]
  },
  {
   "cell_type": "markdown",
   "metadata": {},
   "source": [
    "---"
   ]
  },
  {
   "cell_type": "markdown",
   "metadata": {},
   "source": [
    "## Day 2 - 5/20/21 - Jupyter and a review of Python and pandas\n",
    "\n",
    "### Content\n",
    "\n",
    " * Chapter 3: Computational notebooks (Jupyter) - [reading](chapter-3-jupyter) and <a href='../../_slides/chapter-3-slides.html'>slides</a>\n",
    " * Chapter 4: Review of Python and pandas - [reading](chapter-4-review-of-python-and-pandas), but no slides\n",
    "\n",
    "### Due before next class\n",
    "\n",
    " * **DataCamp**\n",
    "    * [Manipulating DataFrames with pandas](https://www.datacamp.com/courses/manipulating-dataframes-with-pandas), chapters 2-4\n",
    "      (This course is archived on DataCamp; in the future I will replace it with an available\n",
    "      course instead.)\n",
    "    * [See here for a cheat sheet](big-cheat-sheet.html#before-day-3) of all the content of the above DataCamp lessons.\n",
    " * **Reading**\n",
    "    * [Chapter 5: Before and after, in mathematics and communication](chapter-5-before-and-after)\n",
    "    * [Chapter 6: Pandas single-table verbs](chapter-6-single-table-verbs)\n"
   ]
  },
  {
   "cell_type": "markdown",
   "metadata": {},
   "source": [
    "---"
   ]
  },
  {
   "cell_type": "markdown",
   "metadata": {},
   "source": [
    "## Day 3 - 5/25/21 - Before and after, single-table verbs\n",
    "\n",
    "### Content\n",
    "\n",
    " * Chapter 5: Before and after, in mathematics and communication - [reading](chapter-5-before-and-after) and <a href='../../_slides/chapter-5-slides.html'>slides</a>\n",
    " * Chapter 6: Pandas single-table verbs - [reading](chapter-6-single-table-verbs) and <a href='../../_slides/chapter-6-slides.html'>slides</a>\n",
    "\n",
    "### Due before next class\n",
    "\n",
    " * **Communication exercise**\n",
    "    * Create a new Deepnote project and upload into it <a href='../../_static/homework-exercise-on-code-communication.ipynb'>this Jupyter notebook</a> and <a href='../../_static/practice-project-dataset-1.csv'>this CSV file</a>.  (Please be sure to do this in a *new* Deepnote project, rather than just a new folder in an existing project.  Grading becomes error-prone if I have to hunt through your folders for what I'm supposed to grade.)\n",
    "    * The first half of the notebook has plenty of comments and explanations, but the second half does not.  Use the principles discussed in class today (and covered in [Chapter 5 of the course notes](chapter-5-before-and-after)) to comment/document/explain the second half of that file.\n",
    "    * Follow [Deepnote's instructions](https://docs.deepnote.com/importing-and-exporing/export-to-pdf) for how to export the resulting notebook as a PDF.\n",
    "    * Submit that notebook to your instructor through [Blackboard](https://blackboard.bentley.edu).\n",
    " * **DataCamp**\n",
    "    * [pandas Foundations](https://www.datacamp.com/courses/pandas-foundations), just chapter 2\n",
    "      (This course is archived on DataCamp; in the future I will replace it with an available\n",
    "      course instead.)\n",
    "    * [See here for a cheat sheet](big-cheat-sheet.html#before-day-4-review-of-visualization-in-cs230) of all the content of the above DataCamp lessons.\n",
    " * **Reading**\n",
    "    * [Chapter 7: Abstraction in mathematics and computing](chapter-7-abstraction)\n",
    "    * [Chapter 8: Version control and GitHub](chapter-8-version-control)\n"
   ]
  },
  {
   "cell_type": "markdown",
   "metadata": {},
   "source": [
    "---"
   ]
  },
  {
   "cell_type": "markdown",
   "metadata": {},
   "source": [
    "## Day 4 - 5/27/21 - Abstraction and version control\n",
    "\n",
    "### Content\n",
    "\n",
    " * Chapter 7: Abstraction in mathematics and computing - [reading](chapter-7-abstraction) and <a href='../../_slides/chapter-7-slides.html'>slides</a>\n",
    " * Chapter 8: Version control and GitHub - [reading](chapter-8-version-control) and <a href='../../_slides/chapter-8-slides.html'>slides</a>\n",
    "\n",
    "### Due before next class\n",
    "\n",
    " * **Version control exercise**\n",
    "    * This assignment is described in the final slide for Chapter 8, linked to above.\n",
    " * **DataCamp**\n",
    "    * [Intermediate Python](https://www.datacamp.com/courses/intermediate-python-for-data-science), chapter 5\n",
    "    * [Statistical Thinking in Python, Part 1](https://www.datacamp.com/courses/statistical-thinking-in-python-part-1), all chapters\n",
    "    * [Introduction to Data Visualization with Matplotlib](https://campus.datacamp.com/courses/introduction-to-data-visualization-with-matplotlib/introduction-to-matplotlib), just chapter 1\n",
    "    * [Introduction to Data Visualization with Seaborn](https://campus.datacamp.com/courses/introduction-to-data-visualization-with-seaborn/introduction-to-seaborn), chapters 1 and 3\n",
    "    * [See here for a cheat sheet](big-cheat-sheet.html#before-day-5) of all the content of the above DataCamp lessons.\n",
    "      (The cheat sheet needs updating to reflect a recent change in the DataCamp assignments,\n",
    "      due to DataCamp's having archived some old courses.  The cheat sheet is very similar to\n",
    "      the new content, however.)\n",
    " * **Reading**\n",
    "    * [Chapter 9: Math and stats in Python](chapter-9-math-and-stats)\n",
    "    * [Chapter 10: New visualization tools](chapter-10-visualization)\n"
   ]
  },
  {
   "cell_type": "markdown",
   "metadata": {},
   "source": [
    "---"
   ]
  },
  {
   "cell_type": "markdown",
   "metadata": {},
   "source": [
    "## Day 5 - 6/1/21 - Math and stats in Python, plus Visualization\n",
    "\n",
    "### Content\n",
    "\n",
    " * Chapter 9: Math and stats in Python - [reading](chapter-9-math-and-stats) and <a href='../../_slides/chapter-9-slides.html'>slides</a>\n",
    " * Chapter 10: New visualization tools - [reading](chapter-10-visualization) and <a href='../../_slides/chapter-10-slides.html'>slides</a>\n",
    "\n",
    "### Due before next class\n",
    "\n",
    " * **Data preparation exercise**\n",
    "    * (Some steps of this you have probably already completed.  What's new for everyone is making a project that can easily load the file into Jupyter, so we're ready to experiment with it next week in class.)\n",
    "    * Look at the 2016 election data [on this page of NPR's website](https://www.npr.org/2016/11/08/500927768/2016-presidential-election-results-for-each-state).\n",
    "    * Extract the table from that page into a CSV file (for example, by copying and pasting into Excel, then touching it up as needed).\n",
    "    * Write a Jupyter notebook that imports the CSV file.\n",
    "    * Ensure that you remove all rows that are not for entire states (which you can do in Excel or Jupyter, whichever you prefer).\n",
    "    * Follow [Deepnote's instructions](https://docs.deepnote.com/importing-and-exporing/export-to-pdf) for how to export the resulting notebook as a PDF.\n",
    "    * Submit that notebook to your instructor through [Blackboard](https://blackboard.bentley.edu).\n",
    " * **DataCamp**\n",
    "    * [Joining Data with pandas](https://learn.datacamp.com/courses/joining-data-with-pandas), all chapters\n",
    "       * **NOTE:** We will not cover this content in class next time.  We will cover it the subsequent class meeting instead.  But I'm assigning you to do it now because then you won't have any homework next time, when the project is due, and you'll be able to focus on that instead.\n",
    "    * [See here for a cheat sheet](big-cheat-sheet.html#before-day-6) of all the content of the above DataCamp lessons.\n",
    "      (The cheat sheet needs updating to reflect a recent change in the DataCamp assignments,\n",
    "      due to DataCamp's having archived some old courses.  The cheat sheet is very similar to\n",
    "      the new content, however.)\n",
    " * **Reading**\n",
    "    * [Chapter 11: Processing the rows of a `DataFrame`](chapter-11-processing-rows)\n",
    " * **Other**\n",
    "    * Optional: There are several LOYO opportunities from today's course notes (chapters 9 and 10).  Consider forming a team and siezing one of the opportunities."
   ]
  },
  {
   "cell_type": "markdown",
   "metadata": {},
   "source": [
    "---"
   ]
  },
  {
   "cell_type": "markdown",
   "metadata": {},
   "source": [
    "## Day 6 - 6/3/21 - Processing the Rows of a `DataFrame`\n",
    "\n",
    "### Content\n",
    "\n",
    " * Chapter 11: Processing the rows of a `DataFrame` - [reading](chapter-11-processing-rows) and <a href='../../_slides/chapter-11-slides.html'>slides</a>\n",
    "\n",
    "### Due before next class\n",
    "\n",
    " * **No DataCamp today, so that you can focus on the project.**\n",
    " * **Reading**\n",
    "    * [Chapter 12: Concatenation and Merging](chapter-12-concat-and-merge)\n",
    " * **Other**\n",
    "    * Optional: There are a few LOYO opportunities from today's course notes (chapter 11).  Consider forming a team and siezing one of the opportunities."
   ]
  },
  {
   "cell_type": "markdown",
   "metadata": {},
   "source": [
    "---"
   ]
  },
  {
   "cell_type": "markdown",
   "metadata": {},
   "source": [
    "## Day 7 - 6/8/21 - Concatenation and Merging\n",
    "\n",
    "### Content\n",
    "\n",
    " * Chapter 12: Concatenation and Merging - [reading](chapter-12-concat-and-merge) and <a href='../../_slides/chapter-12-slides.html'>slides</a>\n",
    "\n",
    "### Due before next class\n",
    "\n",
    "It's a light week, because you just did Project 1 and deserve a little time to rest.\n",
    "\n",
    " * **DataCamp**\n",
    "    * [Streamlined Data Ingestion with pandas](https://learn.datacamp.com/courses/streamlined-data-ingestion-with-pandas)\n",
    "    * [See here for a cheat sheet](big-cheat-sheet.html#before-day-8) of all the content of the above DataCamp lessons.\n",
    " * **Reading**\n",
    "    * [Chapter 13: Miscellaneous Munging Methods (ETL)](chapter-13-etl)\n"
   ]
  },
  {
   "cell_type": "markdown",
   "metadata": {},
   "source": [
    "---"
   ]
  },
  {
   "cell_type": "markdown",
   "metadata": {},
   "source": [
    "## Day 8 - 6/10/21 - Miscellaneous Munging Methods (ETL)\n",
    "\n",
    "### Content\n",
    "\n",
    " * Chapter 13: Miscellaneous Munging Methods (ETL) - [reading](chapter-13-etl) and <a href='../../_slides/chapter-13-slides.html'>slides</a>\n",
    "\n",
    "### Due before next class\n",
    "\n",
    " * **DataCamp** (last one for the whole semester!)\n",
    "    * [Introduction to SQL for Data Science](https://learn.datacamp.com/courses/introduction-to-sql)\n",
    "       * **NOTE:** Bentley's CS350 course goes into this content in far greater detail.  You can see this lesson as a small preview or taste of that course.\n",
    "    * [See here for a cheat sheet](big-cheat-sheet.html#before-day-9) of all the content of the above DataCamp lessons.\n",
    " * **Reading**\n",
    "    * [Chapter 14: Dashboards](chapter-14-dashboards)\n",
    " * **Other**\n",
    "    * Ensure that you have the `git` command installed on your own computer (again, *not* on Deepnote or Colab).\n",
    "       * If you're on Windows and have already installed the GitHub Desktop app, then you just need to tell Windows where to find the `git.exe` command that's built into that app.  The folder containing it will be something like `C:\\Users\\YOUR-USERNAME\\AppData\\Local\\GitHubDesktop\\app-2.8.1\\resources\\app\\git\\cmd`.  Investigate using Windows Explorer to find the correct path for your system.  You may need to reveal hidden files and folders to find the AppData folder.  (Yes, this is a pain.)\n",
    "       * If you're on Mac, you might not have the `git` command unless you've installed Xcode at some time in the past.  You can run `xcode-select --install` to install just the minimal Xcode tools to get `git`.  If that doesn't work, download them [directly from Apple](https://developer.apple.com/download/more/?=xcode), which may require creating a free developer account.\n",
    "       * To prove that you successfully got the `git` command installed, run `git --version`.\n",
    "       * Take a screenshot of your terminal window showing the results of the successful `git --version` so I can see that you got this to work.\n",
    "    * Install [Streamlit](https://www.streamlit.io/) on your own computer.\n",
    "       * The command you need is `pip install streamlit`.\n",
    "       * *Do not run this command on Deepnote or Colab, but on your own computer.*\n",
    "       * Once you've installed it, you should be able to run the command `streamlit --version` to see what version is installed.  Do so to ensure that your installation succeeded.\n",
    "    * Create a Heroku account.\n",
    "       * [Here is the signup page.](https://signup.heroku.com/)\n",
    "       * Then [install the Heroku command-line tools](https://devcenter.heroku.com/articles/getting-started-with-python#set-up) on your own computer (again, *not* on Deepnote or Colab).\n",
    "       * Ensure that after doing so, you can get to a terminal and run `heroku login` successfully.\n",
    "       * If you're on Windows and it can't find the `heroku` command even though you just installed it, you may need to add `C:\\Program Files\\Heroku\\bin` to your system path variable.  [Follow this tutorial to do so.](https://www.architectryan.com/2018/03/17/add-to-the-path-on-windows-10/)\n",
    "    * Take a screenshot to prove that all this worked.\n",
    "       * After you've run `heroku login` and can still see its successful output, just re-run the `git --version` and `streamlit --version` commands so that all three outputs are on one screen, making it obvious that you've got all three tools installed correctly.\n",
    "       * Take a screenshot of that terminal window showing those three commands' successful output.\n",
    "       * Submit that screenshot via [Blackboard](https://blackboard.bentley.edu) as your homework.\n",
    "       * It should look something like this:\n",
    "\n",
    "![An image of the screenshot described in the text above](./_images/command-line-setup-screenshot.png)\n",
    "\n",
    " * **Project Planning**\n",
    "    * Optional: If you want to get ahead on the final project in a way that's rather easy and fun, start hunting for datasets that cover a topic you're interested in and might want to analyze.  Try to find a dataset that's pretty comprehensive, so that there are plenty of options for ways to analyze, visualize, and manipulate it.\n"
   ]
  },
  {
   "cell_type": "markdown",
   "metadata": {},
   "source": [
    "---"
   ]
  },
  {
   "cell_type": "markdown",
   "metadata": {},
   "source": [
    "## Day 9 - 6/15/21 - Dashboards\n",
    "\n",
    "### Content\n",
    "\n",
    " * Chapter 14: Dashboards - [reading](chapter-14-dashboards) and <a href='../../_slides/chapter-14-slides.html'>slides</a>\n",
    "\n",
    "### Due before next class\n",
    "\n",
    " * **Network data exercise**\n",
    "    * The purpose of this exercise is to familiarize you with some network data, since next week we will be studying just that.  It also gives you another chance to practice `pd.merge()`.\n",
    "    * <a href='../../_static/shipping1997.xlsx'>Download this Excel workbook</a> of shipping data among U.S. states in 1997.\n",
    "    * Look over all the sheets in the workbook to familiarize yourself with their meaning.\n",
    "    * Create a Jupyter notebook that reads all the sheets from the workbook.\n",
    "       * **Note:** Reading Excel files requires installing the `openpyxl` module, which is not present by default in some cloud computing environments.  You may need to run `pip install openpyxl` in the terminal, or at the top of the notebook, or place it in a `requirements.txt` file.\n",
    "    * Add code that creates a DataFrame just like the shipping sheet, but with each state abbreviation replaced by its full name.\n",
    "    * The \"adjacent\" column in the distances DataFrame should be boolean type; convert it.\n",
    "    * Add two columns to the shipping table, one containing the distance between the two states, and the other containing the boolean of whether the two states are adjacent, both taken from the distance table.\n",
    "    * Follow [Deepnote's instructions](https://docs.deepnote.com/importing-and-exporing/export-to-pdf) for how to export the resulting notebook as a PDF.\n",
    "    * Submit that notebook to your instructor through [Blackboard](https://blackboard.bentley.edu).\n",
    " * **Reading**\n",
    "    * [Chapter 15: Relations as graphs and network analysis](chapter-15-networks)\n"
   ]
  },
  {
   "cell_type": "markdown",
   "metadata": {},
   "source": [
    "---"
   ]
  },
  {
   "cell_type": "markdown",
   "metadata": {},
   "source": [
    "## Day 10 - 6/17/21 - Relations, graphs, and networks\n",
    "\n",
    "### Content\n",
    "\n",
    " * Chapter 15: Relations as graphs and network analysis - [reading](chapter-15-networks) and <a href='../../_slides/chapter-15-slides.html'>slides</a>\n",
    "\n",
    "### Due before next class\n",
    "\n",
    " * **Data prep exercise for a music recommendation system**\n",
    "    * In class next time we will build a recommender system for songs (that is, given your preferences and a big database of other people's preferences, it will try to match you with new songs you might like).\n",
    "    * Visit [this page](https://archive.org/details/thisismyjam-datadump) and read about the data archive, then download it from there in ZIP format.  It is almost 1GB in size, so leave some time for this download!\n",
    "    * Unzip the download and find within it three files; we care only about `jams.tsv`.  Place this file in a folder where you can access it with Python and pandas.  It contains every user's \"jams\" from 2011-2015.\n",
    "    * Write some code to load into a pandas Series the full set of *unique* user IDs in that file.  That is, do not include any user more than once in the series.  (This code may be slow to run, because the file is large.)  This step is asking for *just the user IDs,* not any jam or song data.\n",
    "    * Use the `sample()` method in pandas Series objects to select a random subset of the users to work with, so that we don't have to deal with the entire jams file, which would take a long time to do computations with.  Include at least 1000 in your sample, to get a sufficient representation of the full dataset.  I chose 2000 in my own work, but later computations will get much slower if you go beyond about 2000.\n",
    "    * Write some code to load from the `jams.tsv` DataFrame every jam by all the users in your sample.  There are roughly 15 jams per user on average, so you should end up with 15 times as many results as the number of users you chose (about 15,000 to 30,000).\n",
    "    * We need only three columns of the result: user ID, artist, and song title.  Discard all other columns.\n",
    "    * To give a song a unique name string, let's combine the artist and song title into a single column.  That is, rather than a column with \"Don't Stop Believin'\" for song title and \"Journey\" as artist, create a new column called \"song\" that contains text like \"Don't Stop Believin', by Journey\".\n",
    "    * Drop the original title and artist columns so that your final jams DataFrame contains just two columns, user and song.\n",
    "    * Export that DataFrame to a new CSV file that we will analyze in class.  Call it `jam-sample.csv`.\n",
    "    * Follow [Deepnote's instructions](https://docs.deepnote.com/importing-and-exporing/export-to-pdf) for how to export the resulting notebook as a PDF.\n",
    "    * Submit that notebook to your instructor through [Blackboard](https://blackboard.bentley.edu).\n",
    " * **Reading**\n",
    "    * [Chapter 16: Relations as matrices](chapter-16-matrices)"
   ]
  },
  {
   "cell_type": "markdown",
   "metadata": {},
   "source": [
    "---"
   ]
  },
  {
   "cell_type": "markdown",
   "metadata": {},
   "source": [
    "## Day 11 - 6/22/21 - Relations as matrices\n",
    "\n",
    "### Content\n",
    "\n",
    " * Chapter 15: Relations as matrices - [reading](chapter-16-matrices) and <a href='../../_slides/chapter-16-slides.html'>slides</a>\n",
    "\n",
    "### Due before next class\n",
    "\n",
    " * **Data preparation exercise**\n",
    "    * In class next time we will do an introductory machine learning exercise about predicting mortgage approval/denial.\n",
    "    * <a href='../../_static/mortgage-testing-data.csv'>Download the training dataset here.</a>  It is a sample from the same mortgage dataset we've used many times.  Recall that its data dictionary is available [online here](https://ffiec.cfpb.gov/documentation/2018/lar-data-fields/).\n",
    "    * Load it into pandas and check the data types of the columns.\n",
    "    * To make all the data numeric, we will be replacing categorical columns with boolean columns in which false is represented by 0 and true is represented by 1.  This will make it possible to use that data in a numerical model.\n",
    "    * Replace the `conforming_loan_limit` column with two boolean columns, one that means \"conforming loan limit is C (conforming)\" and one that means \"conforming loan limit is NC (not conforming).\"  Don't forget to use 0/1 instead of False/True.  (There are other values that column may take on, but we will analyze just those two.)\n",
    "    * Replace the `derived_sex` column with two boolean columns, one that means \"derived sex is Male\" and one that means \"derived sex is Female.\"  Don't forget to use 0/1 instead of False/True.  (There are other values that column may take on, but we will analyze just those two.)\n",
    "    * The `action_taken` column contains only 1s and 3s.  This is because this dataset was filtered to include only accepted or rejected mortgages (no withdrawals, pre-approvals, etc.).  Replace this column with another boolean column, still using 0/1 for False/True, meaning \"application accepted.\"\n",
    "    * The debt-to-income ratio column is categorical instead of numeric.  Make it numeric by replacing each category with a central value in that category.  For instance, the category \"20%-<30%\" can be replaced with the number 25, the category \"43\" can be just the number 43, etc.  Let's use 70 for \">60%.\"\n",
    "    * Your newly cleaned data should have all numeric columns.  Export it as a CSV file and bring it with you to class for an in-class activity in Week 12.\n",
    "    * Follow [Deepnote's instructions](https://docs.deepnote.com/importing-and-exporing/export-to-pdf) for how to export the resulting notebook as a PDF.\n",
    "    * Submit that notebook to your instructor through [Blackboard](https://blackboard.bentley.edu).\n",
    " * **Reading**\n",
    "    * [Chapter 17: Introduction to machine learning](chapter-17-machine-learning)\n",
    "\n",
    "(Perhaps more assignments are coming; this section is still incomplete.)\n"
   ]
  },
  {
   "cell_type": "markdown",
   "metadata": {},
   "source": [
    "---"
   ]
  },
  {
   "cell_type": "markdown",
   "metadata": {},
   "source": [
    "## Day 12 - 6/24/21 - Introduction to machine learning\n",
    "\n",
    "### Content\n",
    "\n",
    " * Chapter 17: Introduction to machine learning - [reading](chapter-17-machine-learning) and <a href='../../_slides/chapter-17-slides.html'>slides</a>\n",
    "\n",
    "No more homework this semester!  Use the remaining time to do a great final project!\n"
   ]
  },
  {
   "cell_type": "markdown",
   "metadata": {},
   "source": [
    "---"
   ]
  },
  {
   "cell_type": "markdown",
   "metadata": {},
   "source": [
    "## Day 13 - 6/29/21 - Thanksgiving break, no class\n",
    "\n",
    "No assignments over break, but it would be wise to continue to make progress on the Final Project.\n"
   ]
  },
  {
   "cell_type": "markdown",
   "metadata": {},
   "source": [
    "---"
   ]
  },
  {
   "cell_type": "markdown",
   "metadata": {},
   "source": [
    "## Day 14 - 7/1/21 - Final Exam Review and Final Project Workshop\n",
    "\n",
    "### Final Exam\n",
    "\n",
    "* Based on the review we do in class today, study for the Final Exam.\n",
    "\n",
    "### Final Project\n",
    "\n",
    "* Come to class today ready to use half of class to work on your final project in class, and ask questions of the instructor if/when you get stuck on anything."
   ]
  },
  {
   "cell_type": "code",
   "execution_count": null,
   "metadata": {},
   "outputs": [],
   "source": []
  }
 ],
 "metadata": {
  "kernelspec": {
   "display_name": "Python 3",
   "language": "python",
   "name": "python3"
  },
  "language_info": {
   "codemirror_mode": {
    "name": "ipython",
    "version": 3
   },
   "file_extension": ".py",
   "mimetype": "text/x-python",
   "name": "python",
   "nbconvert_exporter": "python",
   "pygments_lexer": "ipython3",
   "version": "3.7.3"
  }
 },
 "nbformat": 4,
 "nbformat_minor": 4
}
