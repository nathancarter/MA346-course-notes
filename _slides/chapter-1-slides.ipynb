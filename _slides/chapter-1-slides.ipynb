{
 "cells": [
  {
   "cell_type": "markdown",
   "metadata": {
    "slideshow": {
     "slide_type": "slide"
    }
   },
   "source": [
    "# Introduction to Data Science\n",
    "\n",
    "[See also the corresponding course notes, here.](../_build/html/chapter-1-intro-to-data-science.html)"
   ]
  },
  {
   "cell_type": "markdown",
   "metadata": {
    "slideshow": {
     "slide_type": "slide"
    }
   },
   "source": [
    "# What is Data Science?\n",
    "\n",
    "![Drew Conway's Data Science Venn Diagram](https://images.squarespace-cdn.com/content/v1/5150aec6e4b0e340ec52710a/1364352051365-HZAS3CLBF7ABLE3F5OBY/ke17ZwdGBToddI8pDm48kB2M2-8_3EzuSSXvzQBRsa1Zw-zPPgdn4jUwVcJE1ZvWQUxwkmyExglNqGp0IvTJZUJFbgE-7XRK3dMEBRBhUpxPe_8B-x4gq2tfVez1FwLYYZXud0o-3jV-FAs7tmkMHY-a7GzQZKbHRGZboWC-fOc/Data_Science_VD.png?format=1500w)\n",
    "\n",
    "[From Drew Conway's blog in 2013](http://drewconway.com/zia/2013/3/26/the-data-science-venn-diagram)"
   ]
  },
  {
   "cell_type": "markdown",
   "metadata": {
    "slideshow": {
     "slide_type": "slide"
    }
   },
   "source": [
    "# MA346 at Bentley\n",
    "\n",
    "* **Mathematics**\n",
    "    * Functions and relations -- the foundation for the course\n",
    "    * Review of GB213\n",
    "    * Previews of MA239, MA347, etc.\n",
    "* **Technology**\n",
    "    * Extending CS230 with depth in data science-specific Python tools\n",
    "    * Computational notebooks\n",
    "    * GitHub\n",
    "* **Visualization**\n",
    "    * New plot types (violin, bee swarm, box, joint, pair, heatmap, maps, etc.)\n",
    "    * Creating interactive online dashboards\n",
    "* **Communication**\n",
    "    * Technical writing\n",
    "    * Clarity and brevity\n",
    "    * Knowing the target audience"
   ]
  },
  {
   "cell_type": "markdown",
   "metadata": {
    "slideshow": {
     "slide_type": "slide"
    }
   },
   "source": [
    "# A Data Science Workflow\n",
    "\n",
    "1. Obtain data that you hope will help answer the question.\n",
    "1. Explore the data to understand it.\n",
    "1. Clean and prepare the data for analysis.\n",
    "1. ***Perform analysis, model building, testing, etc.***\n",
    "1. Draw conclusions from your work.\n",
    "1. Report those conclusions to the relevant stakeholders."
   ]
  }
 ],
 "metadata": {
  "celltoolbar": "Slideshow",
  "kernelspec": {
   "display_name": "Python 3",
   "language": "python",
   "name": "python3"
  },
  "language_info": {
   "codemirror_mode": {
    "name": "ipython",
    "version": 3
   },
   "file_extension": ".py",
   "mimetype": "text/x-python",
   "name": "python",
   "nbconvert_exporter": "python",
   "pygments_lexer": "ipython3",
   "version": "3.7.3"
  }
 },
 "nbformat": 4,
 "nbformat_minor": 4
}
