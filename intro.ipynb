{
 "cells": [
  {
   "cell_type": "markdown",
   "metadata": {},
   "source": [
    "# Course Notes for Data Science (MA346)\n",
    "\n",
    "## {fa}`star mr-1` Purpose\n",
    "\n",
    "These course notes are for [Bentley University](http://www.bentley.edu)'s Data Science course (MA346) that will be taught by [Nathan Carter](http://nathancarter.github.io) in Summer 2021.\n",
    "\n",
    "## {fa}`hand-point-left mr-1` Table of Contents\n",
    "\n",
    "Readers using a web broswer will find the list of chapters in the navigation bar on the left.\n",
    "\n",
    "Readers on a mobile device will find them under the {fa}`bars` menu.\n",
    "\n",
    "Readers of the PDF version will see a standard table of contents in the document.\n",
    "\n",
    "## [{fa}`calendar mr-1` Schedule](course-schedule)\n",
    "\n",
    "The complete schedule for the course, with all topics, assignments, and due dates, so that students know what's due when, and what we'll be covering on any given day.\n",
    "\n",
    "## <a href=\"../../_static/MA346-course-notes.pdf\">{fa}`file-pdf mr-1` Download PDF</a>\n",
    "\n",
    "Use the above link if you prefer to read the notes as a PDF instead of a website.\n"
   ]
  }
 ],
 "metadata": {
  "kernelspec": {
   "display_name": "Python 3",
   "language": "python",
   "name": "python3"
  },
  "language_info": {
   "codemirror_mode": {
    "name": "ipython",
    "version": 3
   },
   "file_extension": ".py",
   "mimetype": "text/x-python",
   "name": "python",
   "nbconvert_exporter": "python",
   "pygments_lexer": "ipython3",
   "version": "3.7.3"
  }
 },
 "nbformat": 4,
 "nbformat_minor": 4
}